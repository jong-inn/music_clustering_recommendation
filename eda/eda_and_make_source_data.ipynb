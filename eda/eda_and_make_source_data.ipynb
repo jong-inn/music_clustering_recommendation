{
 "cells": [
  {
   "cell_type": "markdown",
   "metadata": {},
   "source": [
    "# __packages__"
   ]
  },
  {
   "cell_type": "code",
   "execution_count": 1,
   "metadata": {},
   "outputs": [],
   "source": [
    "import os, sys, json\n",
    "import numpy as np\n",
    "import pandas as pd\n",
    "import seaborn as sns\n",
    "import matplotlib.pyplot as plt\n",
    "\n",
    "sys.path.insert(0, os.getcwd() + \"/../preprocess/\")\n",
    "pickle_path_tracks = \"../sampled_data/sampled_data_tracks_final.pickle\"\n",
    "pickle_path_track_artist = \"../sampled_data/sampled_data_track_artist_final.pickle\""
   ]
  },
  {
   "cell_type": "markdown",
   "metadata": {},
   "source": [
    "---\n",
    "# __functions__"
   ]
  },
  {
   "cell_type": "code",
   "execution_count": 2,
   "metadata": {},
   "outputs": [],
   "source": [
    "# plot function\n",
    "def plot_histogram(nums, title=None, bins=None):\n",
    "    fig, ax = plt.subplots()\n",
    "    if bins:\n",
    "        counts, bins, patches = ax.hist(nums, bins=bins, density=False)\n",
    "    else:\n",
    "        counts, bins, patches = ax.hist(nums, density=False)\n",
    "    \n",
    "    if title:\n",
    "        plt.title(title)\n",
    "    plt.show()\n",
    "    \n",
    "    return counts, bins, patches\n",
    "\n",
    "def plot_heatmap(groupby, pivot_col, title=None):\n",
    "    \n",
    "    assert type(pivot_col) == list and len(pivot_col) == 3\n",
    "    \n",
    "    groupby = groupby.reset_index()\n",
    "    groupby_pivoted = groupby.pivot(*pivot_col)\n",
    "    \n",
    "    if title:\n",
    "        sns.heatmap(groupby_pivoted, annot=True, fmt=\".2f\").set(title=title)\n",
    "    else:\n",
    "        sns.heatmap(groupby_pivoted, annot=True, fmt=\".2f\")"
   ]
  },
  {
   "cell_type": "markdown",
   "metadata": {},
   "source": [
    "---\n",
    "# __tracks__"
   ]
  },
  {
   "cell_type": "markdown",
   "metadata": {},
   "source": [
    "### 1) load tracks data and apply basic statistics\n",
    "### 2) remove outliers for duration"
   ]
  },
  {
   "cell_type": "code",
   "execution_count": 3,
   "metadata": {},
   "outputs": [
    {
     "name": "stdout",
     "output_type": "stream",
     "text": [
      "columns: \n",
      "track_id         object\n",
      "album_id         object\n",
      "artists_id       object\n",
      "disc_number       int64\n",
      "duration_ms       int64\n",
      "explicit           bool\n",
      "name             object\n",
      "popularity        int64\n",
      "track_number      int64\n",
      "duration_m      float64\n",
      "dtype: object\n",
      "\n",
      "track_id        0\n",
      "album_id        0\n",
      "artists_id      0\n",
      "disc_number     0\n",
      "duration_ms     0\n",
      "explicit        0\n",
      "name            0\n",
      "popularity      0\n",
      "track_number    0\n",
      "duration_m      0\n",
      "dtype: int64\n"
     ]
    },
    {
     "data": {
      "text/html": [
       "<div>\n",
       "<style scoped>\n",
       "    .dataframe tbody tr th:only-of-type {\n",
       "        vertical-align: middle;\n",
       "    }\n",
       "\n",
       "    .dataframe tbody tr th {\n",
       "        vertical-align: top;\n",
       "    }\n",
       "\n",
       "    .dataframe thead th {\n",
       "        text-align: right;\n",
       "    }\n",
       "</style>\n",
       "<table border=\"1\" class=\"dataframe\">\n",
       "  <thead>\n",
       "    <tr style=\"text-align: right;\">\n",
       "      <th></th>\n",
       "      <th>disc_number</th>\n",
       "      <th>duration_ms</th>\n",
       "      <th>popularity</th>\n",
       "      <th>track_number</th>\n",
       "      <th>duration_m</th>\n",
       "    </tr>\n",
       "  </thead>\n",
       "  <tbody>\n",
       "    <tr>\n",
       "      <th>count</th>\n",
       "      <td>2.258987e+06</td>\n",
       "      <td>2.258987e+06</td>\n",
       "      <td>2.258987e+06</td>\n",
       "      <td>2.258987e+06</td>\n",
       "      <td>2.258987e+06</td>\n",
       "    </tr>\n",
       "    <tr>\n",
       "      <th>mean</th>\n",
       "      <td>1.046625e+00</td>\n",
       "      <td>2.475830e+05</td>\n",
       "      <td>1.336007e+01</td>\n",
       "      <td>6.899378e+00</td>\n",
       "      <td>4.126383e+00</td>\n",
       "    </tr>\n",
       "    <tr>\n",
       "      <th>std</th>\n",
       "      <td>4.638743e-01</td>\n",
       "      <td>1.675452e+05</td>\n",
       "      <td>1.389800e+01</td>\n",
       "      <td>7.600618e+00</td>\n",
       "      <td>2.792420e+00</td>\n",
       "    </tr>\n",
       "    <tr>\n",
       "      <th>min</th>\n",
       "      <td>1.000000e+00</td>\n",
       "      <td>0.000000e+00</td>\n",
       "      <td>0.000000e+00</td>\n",
       "      <td>1.000000e+00</td>\n",
       "      <td>0.000000e+00</td>\n",
       "    </tr>\n",
       "    <tr>\n",
       "      <th>25%</th>\n",
       "      <td>1.000000e+00</td>\n",
       "      <td>1.842090e+05</td>\n",
       "      <td>1.000000e+00</td>\n",
       "      <td>2.000000e+00</td>\n",
       "      <td>3.070150e+00</td>\n",
       "    </tr>\n",
       "    <tr>\n",
       "      <th>50%</th>\n",
       "      <td>1.000000e+00</td>\n",
       "      <td>2.252400e+05</td>\n",
       "      <td>9.000000e+00</td>\n",
       "      <td>5.000000e+00</td>\n",
       "      <td>3.754000e+00</td>\n",
       "    </tr>\n",
       "    <tr>\n",
       "      <th>75%</th>\n",
       "      <td>1.000000e+00</td>\n",
       "      <td>2.782800e+05</td>\n",
       "      <td>2.100000e+01</td>\n",
       "      <td>9.000000e+00</td>\n",
       "      <td>4.638000e+00</td>\n",
       "    </tr>\n",
       "    <tr>\n",
       "      <th>95%</th>\n",
       "      <td>1.000000e+00</td>\n",
       "      <td>4.330000e+05</td>\n",
       "      <td>4.100000e+01</td>\n",
       "      <td>1.800000e+01</td>\n",
       "      <td>7.216667e+00</td>\n",
       "    </tr>\n",
       "    <tr>\n",
       "      <th>max</th>\n",
       "      <td>5.200000e+01</td>\n",
       "      <td>2.074458e+07</td>\n",
       "      <td>9.200000e+01</td>\n",
       "      <td>5.460000e+02</td>\n",
       "      <td>3.457429e+02</td>\n",
       "    </tr>\n",
       "  </tbody>\n",
       "</table>\n",
       "</div>"
      ],
      "text/plain": [
       "        disc_number   duration_ms    popularity  track_number    duration_m\n",
       "count  2.258987e+06  2.258987e+06  2.258987e+06  2.258987e+06  2.258987e+06\n",
       "mean   1.046625e+00  2.475830e+05  1.336007e+01  6.899378e+00  4.126383e+00\n",
       "std    4.638743e-01  1.675452e+05  1.389800e+01  7.600618e+00  2.792420e+00\n",
       "min    1.000000e+00  0.000000e+00  0.000000e+00  1.000000e+00  0.000000e+00\n",
       "25%    1.000000e+00  1.842090e+05  1.000000e+00  2.000000e+00  3.070150e+00\n",
       "50%    1.000000e+00  2.252400e+05  9.000000e+00  5.000000e+00  3.754000e+00\n",
       "75%    1.000000e+00  2.782800e+05  2.100000e+01  9.000000e+00  4.638000e+00\n",
       "95%    1.000000e+00  4.330000e+05  4.100000e+01  1.800000e+01  7.216667e+00\n",
       "max    5.200000e+01  2.074458e+07  9.200000e+01  5.460000e+02  3.457429e+02"
      ]
     },
     "execution_count": 3,
     "metadata": {},
     "output_type": "execute_result"
    }
   ],
   "source": [
    "from spotify_tracks_preprocess import pre_processed_df\n",
    "\n",
    "# load data\n",
    "tracks = pre_processed_df()\n",
    "tracks[\"duration_m\"] = tracks.duration_ms.apply(lambda x: x / 60000)\n",
    "print(f\"columns: \\n{tracks.dtypes}\")\n",
    "print()\n",
    "print(tracks.isna().sum())\n",
    "\n",
    "# basic statistics\n",
    "stat = tracks.describe(percentiles=[.25, .5, .75, .95])\n",
    "stat"
   ]
  },
  {
   "cell_type": "code",
   "execution_count": 4,
   "metadata": {},
   "outputs": [
    {
     "name": "stdout",
     "output_type": "stream",
     "text": [
      "before shape: (2258987, 10)\n",
      "after shape: (2146074, 10)\n"
     ]
    }
   ],
   "source": [
    "# remove outliers for duration\n",
    "print(f\"before shape: {tracks.shape}\")\n",
    "tracks = tracks.loc[tracks.duration_m <= stat.loc[\"95%\", \"duration_m\"]]\n",
    "\n",
    "print(f\"after shape: {tracks.shape}\")"
   ]
  },
  {
   "cell_type": "markdown",
   "metadata": {},
   "source": [
    "### 3) plotting by columns"
   ]
  },
  {
   "cell_type": "code",
   "execution_count": 5,
   "metadata": {},
   "outputs": [
    {
     "name": "stdout",
     "output_type": "stream",
     "text": [
      "columns: duration_m\n"
     ]
    },
    {
     "data": {
      "image/png": "[encoded data removed]",
      "text/plain": [
       "<Figure size 432x288 with 1 Axes>"
      ]
     },
     "metadata": {
      "needs_background": "light"
     },
     "output_type": "display_data"
    },
    {
     "name": "stdout",
     "output_type": "stream",
     "text": [
      "\n",
      "        bins   : [0 1 2 3 4 5 6 7]\n",
      "        counts : [28950, 100829, 385408, 808621, 502811, 204172, 100581]\n",
      "          \n",
      "columns: popularity\n"
     ]
    },
    {
     "data": {
      "image/png": "[encoded data removed]",
      "text/plain": [
       "<Figure size 432x288 with 1 Axes>"
      ]
     },
     "metadata": {
      "needs_background": "light"
     },
     "output_type": "display_data"
    },
    {
     "name": "stdout",
     "output_type": "stream",
     "text": [
      "\n",
      "        bins   : [ 0 10 20 30 40 50 60 70 80 90]\n",
      "        counts : [1073479, 458430, 301500, 183268, 84276, 32530, 10036, 2279, 273]\n",
      "          \n"
     ]
    }
   ],
   "source": [
    "col_list = [\"duration_m\", \"popularity\"]\n",
    "\n",
    "for col in col_list:\n",
    "    print(f\"columns: {col}\")\n",
    "\n",
    "    if col == \"duration_m\":\n",
    "        bins = range(0, 8, 1)\n",
    "    elif col == \"popularity\":\n",
    "        bins = range(0, 100, 10)\n",
    "        \n",
    "    counts, bins, patches = plot_histogram(\n",
    "                                tracks[col].tolist(), \n",
    "                                title=f\"{col} distribution\",\n",
    "                                bins=bins\n",
    "                            )\n",
    "    print(f\"\"\"\n",
    "        bins   : {bins}\n",
    "        counts : {list(map(int, counts))}\n",
    "          \"\"\")\n"
   ]
  },
  {
   "cell_type": "markdown",
   "metadata": {},
   "source": [
    "---\n",
    "# __audio-features__"
   ]
  },
  {
   "cell_type": "markdown",
   "metadata": {},
   "source": [
    "### 1) load audio-features data and apply basic statistics"
   ]
  },
  {
   "cell_type": "code",
   "execution_count": 6,
   "metadata": {},
   "outputs": [
    {
     "name": "stdout",
     "output_type": "stream",
     "text": [
      "columns: \n",
      "track_id             object\n",
      "acousticness        float64\n",
      "danceability        float64\n",
      "energy              float64\n",
      "instrumentalness    float64\n",
      "liveness            float64\n",
      "loudness            float64\n",
      "mode                  int64\n",
      "speechiness         float64\n",
      "tempo               float64\n",
      "time_signature        int64\n",
      "valence             float64\n",
      "dtype: object\n",
      "\n",
      "track_id            0\n",
      "acousticness        0\n",
      "danceability        0\n",
      "energy              0\n",
      "instrumentalness    0\n",
      "liveness            0\n",
      "loudness            0\n",
      "mode                0\n",
      "speechiness         0\n",
      "tempo               0\n",
      "time_signature      0\n",
      "valence             0\n",
      "dtype: int64\n"
     ]
    },
    {
     "data": {
      "text/html": [
       "<div>\n",
       "<style scoped>\n",
       "    .dataframe tbody tr th:only-of-type {\n",
       "        vertical-align: middle;\n",
       "    }\n",
       "\n",
       "    .dataframe tbody tr th {\n",
       "        vertical-align: top;\n",
       "    }\n",
       "\n",
       "    .dataframe thead th {\n",
       "        text-align: right;\n",
       "    }\n",
       "</style>\n",
       "<table border=\"1\" class=\"dataframe\">\n",
       "  <thead>\n",
       "    <tr style=\"text-align: right;\">\n",
       "      <th></th>\n",
       "      <th>acousticness</th>\n",
       "      <th>danceability</th>\n",
       "      <th>energy</th>\n",
       "      <th>instrumentalness</th>\n",
       "      <th>liveness</th>\n",
       "      <th>loudness</th>\n",
       "      <th>mode</th>\n",
       "      <th>speechiness</th>\n",
       "      <th>tempo</th>\n",
       "      <th>time_signature</th>\n",
       "      <th>valence</th>\n",
       "    </tr>\n",
       "  </thead>\n",
       "  <tbody>\n",
       "    <tr>\n",
       "      <th>count</th>\n",
       "      <td>2.262191e+06</td>\n",
       "      <td>2.262191e+06</td>\n",
       "      <td>2.262191e+06</td>\n",
       "      <td>2.262191e+06</td>\n",
       "      <td>2.262191e+06</td>\n",
       "      <td>2.262191e+06</td>\n",
       "      <td>2.262191e+06</td>\n",
       "      <td>2.262191e+06</td>\n",
       "      <td>2.262191e+06</td>\n",
       "      <td>2.262191e+06</td>\n",
       "      <td>2.262191e+06</td>\n",
       "    </tr>\n",
       "    <tr>\n",
       "      <th>mean</th>\n",
       "      <td>3.547740e-01</td>\n",
       "      <td>5.504296e-01</td>\n",
       "      <td>5.848759e-01</td>\n",
       "      <td>2.208220e-01</td>\n",
       "      <td>2.091071e-01</td>\n",
       "      <td>-9.660528e+00</td>\n",
       "      <td>6.549779e-01</td>\n",
       "      <td>8.923351e-02</td>\n",
       "      <td>1.199894e+02</td>\n",
       "      <td>3.879917e+00</td>\n",
       "      <td>4.757061e-01</td>\n",
       "    </tr>\n",
       "    <tr>\n",
       "      <th>std</th>\n",
       "      <td>3.543964e-01</td>\n",
       "      <td>1.845300e-01</td>\n",
       "      <td>2.660167e-01</td>\n",
       "      <td>3.494054e-01</td>\n",
       "      <td>1.898148e-01</td>\n",
       "      <td>5.626076e+00</td>\n",
       "      <td>4.753756e-01</td>\n",
       "      <td>1.152086e-01</td>\n",
       "      <td>2.992179e+01</td>\n",
       "      <td>4.720420e-01</td>\n",
       "      <td>2.699766e-01</td>\n",
       "    </tr>\n",
       "    <tr>\n",
       "      <th>min</th>\n",
       "      <td>0.000000e+00</td>\n",
       "      <td>0.000000e+00</td>\n",
       "      <td>0.000000e+00</td>\n",
       "      <td>0.000000e+00</td>\n",
       "      <td>0.000000e+00</td>\n",
       "      <td>-6.000000e+01</td>\n",
       "      <td>0.000000e+00</td>\n",
       "      <td>0.000000e+00</td>\n",
       "      <td>0.000000e+00</td>\n",
       "      <td>0.000000e+00</td>\n",
       "      <td>0.000000e+00</td>\n",
       "    </tr>\n",
       "    <tr>\n",
       "      <th>25%</th>\n",
       "      <td>2.220000e-02</td>\n",
       "      <td>4.270000e-01</td>\n",
       "      <td>3.890000e-01</td>\n",
       "      <td>0.000000e+00</td>\n",
       "      <td>9.570000e-02</td>\n",
       "      <td>-1.191000e+01</td>\n",
       "      <td>0.000000e+00</td>\n",
       "      <td>3.540000e-02</td>\n",
       "      <td>9.693900e+01</td>\n",
       "      <td>4.000000e+00</td>\n",
       "      <td>2.470000e-01</td>\n",
       "    </tr>\n",
       "    <tr>\n",
       "      <th>50%</th>\n",
       "      <td>2.150000e-01</td>\n",
       "      <td>5.650000e-01</td>\n",
       "      <td>6.220000e-01</td>\n",
       "      <td>6.030000e-04</td>\n",
       "      <td>1.280000e-01</td>\n",
       "      <td>-8.176000e+00</td>\n",
       "      <td>1.000000e+00</td>\n",
       "      <td>4.700000e-02</td>\n",
       "      <td>1.200070e+02</td>\n",
       "      <td>4.000000e+00</td>\n",
       "      <td>4.660000e-01</td>\n",
       "    </tr>\n",
       "    <tr>\n",
       "      <th>75%</th>\n",
       "      <td>6.910000e-01</td>\n",
       "      <td>6.890000e-01</td>\n",
       "      <td>8.090000e-01</td>\n",
       "      <td>4.210000e-01</td>\n",
       "      <td>2.640000e-01</td>\n",
       "      <td>-5.826000e+00</td>\n",
       "      <td>1.000000e+00</td>\n",
       "      <td>8.380000e-02</td>\n",
       "      <td>1.380530e+02</td>\n",
       "      <td>4.000000e+00</td>\n",
       "      <td>6.970000e-01</td>\n",
       "    </tr>\n",
       "    <tr>\n",
       "      <th>max</th>\n",
       "      <td>9.960000e-01</td>\n",
       "      <td>9.960000e-01</td>\n",
       "      <td>1.000000e+00</td>\n",
       "      <td>1.000000e+00</td>\n",
       "      <td>1.000000e+00</td>\n",
       "      <td>4.923000e+00</td>\n",
       "      <td>1.000000e+00</td>\n",
       "      <td>9.710000e-01</td>\n",
       "      <td>2.499870e+02</td>\n",
       "      <td>5.000000e+00</td>\n",
       "      <td>1.000000e+00</td>\n",
       "    </tr>\n",
       "  </tbody>\n",
       "</table>\n",
       "</div>"
      ],
      "text/plain": [
       "       acousticness  danceability        energy  instrumentalness  \\\n",
       "count  2.262191e+06  2.262191e+06  2.262191e+06      2.262191e+06   \n",
       "mean   3.547740e-01  5.504296e-01  5.848759e-01      2.208220e-01   \n",
       "std    3.543964e-01  1.845300e-01  2.660167e-01      3.494054e-01   \n",
       "min    0.000000e+00  0.000000e+00  0.000000e+00      0.000000e+00   \n",
       "25%    2.220000e-02  4.270000e-01  3.890000e-01      0.000000e+00   \n",
       "50%    2.150000e-01  5.650000e-01  6.220000e-01      6.030000e-04   \n",
       "75%    6.910000e-01  6.890000e-01  8.090000e-01      4.210000e-01   \n",
       "max    9.960000e-01  9.960000e-01  1.000000e+00      1.000000e+00   \n",
       "\n",
       "           liveness      loudness          mode   speechiness         tempo  \\\n",
       "count  2.262191e+06  2.262191e+06  2.262191e+06  2.262191e+06  2.262191e+06   \n",
       "mean   2.091071e-01 -9.660528e+00  6.549779e-01  8.923351e-02  1.199894e+02   \n",
       "std    1.898148e-01  5.626076e+00  4.753756e-01  1.152086e-01  2.992179e+01   \n",
       "min    0.000000e+00 -6.000000e+01  0.000000e+00  0.000000e+00  0.000000e+00   \n",
       "25%    9.570000e-02 -1.191000e+01  0.000000e+00  3.540000e-02  9.693900e+01   \n",
       "50%    1.280000e-01 -8.176000e+00  1.000000e+00  4.700000e-02  1.200070e+02   \n",
       "75%    2.640000e-01 -5.826000e+00  1.000000e+00  8.380000e-02  1.380530e+02   \n",
       "max    1.000000e+00  4.923000e+00  1.000000e+00  9.710000e-01  2.499870e+02   \n",
       "\n",
       "       time_signature       valence  \n",
       "count    2.262191e+06  2.262191e+06  \n",
       "mean     3.879917e+00  4.757061e-01  \n",
       "std      4.720420e-01  2.699766e-01  \n",
       "min      0.000000e+00  0.000000e+00  \n",
       "25%      4.000000e+00  2.470000e-01  \n",
       "50%      4.000000e+00  4.660000e-01  \n",
       "75%      4.000000e+00  6.970000e-01  \n",
       "max      5.000000e+00  1.000000e+00  "
      ]
     },
     "execution_count": 6,
     "metadata": {},
     "output_type": "execute_result"
    }
   ],
   "source": [
    "from spotify_audio_features_preprocess import pre_processed_df\n",
    "\n",
    "# load data\n",
    "audio_features = pre_processed_df()\n",
    "print(f\"columns: \\n{audio_features.dtypes}\")\n",
    "print()\n",
    "print(audio_features.isna().sum())\n",
    "\n",
    "stat = audio_features.describe()\n",
    "stat"
   ]
  },
  {
   "cell_type": "markdown",
   "metadata": {},
   "source": [
    "### 2) plotting by columns"
   ]
  },
  {
   "cell_type": "code",
   "execution_count": 7,
   "metadata": {},
   "outputs": [
    {
     "name": "stdout",
     "output_type": "stream",
     "text": [
      "columns: acousticness\n"
     ]
    },
    {
     "data": {
      "image/png": "[encoded data removed]",
      "text/plain": [
       "<Figure size 432x288 with 1 Axes>"
      ]
     },
     "metadata": {
      "needs_background": "light"
     },
     "output_type": "display_data"
    },
    {
     "name": "stdout",
     "output_type": "stream",
     "text": [
      "\n",
      "        bins   : [0.  0.1 0.2 0.3 0.4 0.5 0.6 0.7 0.8 0.9 1. ]\n",
      "        counts : [890537, 214072, 153003, 122124, 109713, 107108, 111217, 124646, 153876, 275895]\n",
      "          \n",
      "columns: danceability\n"
     ]
    },
    {
     "data": {
      "image/png": "[encoded data removed]",
      "text/plain": [
       "<Figure size 432x288 with 1 Axes>"
      ]
     },
     "metadata": {
      "needs_background": "light"
     },
     "output_type": "display_data"
    },
    {
     "name": "stdout",
     "output_type": "stream",
     "text": [
      "\n",
      "        bins   : [0.  0.1 0.2 0.3 0.4 0.5 0.6 0.7 0.8 0.9 1. ]\n",
      "        counts : [18090, 76886, 149794, 234752, 358519, 458618, 447122, 339468, 155488, 23454]\n",
      "          \n",
      "columns: energy\n"
     ]
    },
    {
     "data": {
      "image/png": "[encoded data removed]",
      "text/plain": [
       "<Figure size 432x288 with 1 Axes>"
      ]
     },
     "metadata": {
      "needs_background": "light"
     },
     "output_type": "display_data"
    },
    {
     "name": "stdout",
     "output_type": "stream",
     "text": [
      "\n",
      "        bins   : [0.  0.1 0.2 0.3 0.4 0.5 0.6 0.7 0.8 0.9 1. ]\n",
      "        counts : [118218, 132340, 155959, 179762, 226047, 263194, 288838, 301902, 316847, 279084]\n",
      "          \n",
      "columns: instrumentalness\n"
     ]
    },
    {
     "data": {
      "image/png": "[encoded data removed]",
      "text/plain": [
       "<Figure size 432x288 with 1 Axes>"
      ]
     },
     "metadata": {
      "needs_background": "light"
     },
     "output_type": "display_data"
    },
    {
     "name": "stdout",
     "output_type": "stream",
     "text": [
      "\n",
      "        bins   : [0.  0.1 0.2 0.3 0.4 0.5 0.6 0.7 0.8 0.9 1. ]\n",
      "        counts : [1540961, 64172, 45327, 38185, 37449, 40944, 51126, 81613, 197796, 164618]\n",
      "          \n",
      "columns: liveness\n"
     ]
    },
    {
     "data": {
      "image/png": "[encoded data removed]",
      "text/plain": [
       "<Figure size 432x288 with 1 Axes>"
      ]
     },
     "metadata": {
      "needs_background": "light"
     },
     "output_type": "display_data"
    },
    {
     "name": "stdout",
     "output_type": "stream",
     "text": [
      "\n",
      "        bins   : [0.  0.1 0.2 0.3 0.4 0.5 0.6 0.7 0.8 0.9 1. ]\n",
      "        counts : [643705, 882672, 258940, 229404, 61913, 39516, 48563, 33730, 24144, 39604]\n",
      "          \n",
      "columns: loudness\n"
     ]
    },
    {
     "data": {
      "image/png": "[encoded data removed]",
      "text/plain": [
       "<Figure size 432x288 with 1 Axes>"
      ]
     },
     "metadata": {
      "needs_background": "light"
     },
     "output_type": "display_data"
    },
    {
     "name": "stdout",
     "output_type": "stream",
     "text": [
      "\n",
      "        bins   : [-60 -50 -40 -30 -20 -10   0  10]\n",
      "        counts : [281, 1428, 16952, 120776, 666086, 1455721, 947]\n",
      "          \n",
      "columns: mode\n"
     ]
    },
    {
     "data": {
      "image/png": "[encoded data removed]",
      "text/plain": [
       "<Figure size 432x288 with 1 Axes>"
      ]
     },
     "metadata": {
      "needs_background": "light"
     },
     "output_type": "display_data"
    },
    {
     "name": "stdout",
     "output_type": "stream",
     "text": [
      "\n",
      "        bins   : [0 1 2]\n",
      "        counts : [780506, 1481685]\n",
      "          \n",
      "columns: speechiness\n"
     ]
    },
    {
     "data": {
      "image/png": "[encoded data removed]",
      "text/plain": [
       "<Figure size 432x288 with 1 Axes>"
      ]
     },
     "metadata": {
      "needs_background": "light"
     },
     "output_type": "display_data"
    },
    {
     "name": "stdout",
     "output_type": "stream",
     "text": [
      "\n",
      "        bins   : [0.  0.1 0.2 0.3 0.4 0.5 0.6 0.7 0.8 0.9 1. ]\n",
      "        counts : [1789530, 236626, 111162, 67750, 27350, 8175, 3025, 2351, 4338, 11884]\n",
      "          \n",
      "columns: tempo\n"
     ]
    },
    {
     "data": {
      "image/png": "[encoded data removed]",
      "text/plain": [
       "<Figure size 432x288 with 1 Axes>"
      ]
     },
     "metadata": {
      "needs_background": "light"
     },
     "output_type": "display_data"
    },
    {
     "name": "stdout",
     "output_type": "stream",
     "text": [
      "\n",
      "        bins   : [  0  25  50  75 100 125 150 175 200 225]\n",
      "        counts : [3152, 2150, 87349, 554934, 647775, 622737, 235432, 94565, 13969]\n",
      "          \n",
      "columns: time_signature\n"
     ]
    },
    {
     "data": {
      "image/png": "[encoded data removed]",
      "text/plain": [
       "<Figure size 432x288 with 1 Axes>"
      ]
     },
     "metadata": {
      "needs_background": "light"
     },
     "output_type": "display_data"
    },
    {
     "name": "stdout",
     "output_type": "stream",
     "text": [
      "\n",
      "        bins   : [0 1 2 3 4 5 6]\n",
      "        counts : [3206, 23827, 0, 229148, 1964207, 41803]\n",
      "          \n",
      "columns: valence\n"
     ]
    },
    {
     "data": {
      "image/png": "[encoded data removed]",
      "text/plain": [
       "<Figure size 432x288 with 1 Axes>"
      ]
     },
     "metadata": {
      "needs_background": "light"
     },
     "output_type": "display_data"
    },
    {
     "name": "stdout",
     "output_type": "stream",
     "text": [
      "\n",
      "        bins   : [0.  0.1 0.2 0.3 0.4 0.5 0.6 0.7 0.8 0.9 1. ]\n",
      "        counts : [202438, 243270, 251219, 272108, 247398, 253887, 234782, 211567, 190046, 155476]\n",
      "          \n"
     ]
    }
   ],
   "source": [
    "col_list = [\n",
    "    \"acousticness\", \n",
    "    \"danceability\", \n",
    "    \"energy\", \n",
    "    \"instrumentalness\", \n",
    "    \"liveness\", \n",
    "    \"loudness\", \n",
    "    \"mode\", \n",
    "    \"speechiness\",\n",
    "    \"tempo\", \n",
    "    \"time_signature\", \n",
    "    \"valence\"\n",
    "    ]\n",
    "\n",
    "for col in col_list:\n",
    "    print(f\"columns: {col}\")\n",
    "    \n",
    "    if col in [\"acousticness\", \"danceability\", \"energy\", \"instrumentalness\", \"liveness\", \"speechiness\", \"valence\"]:\n",
    "        bins = list(np.arange(0, 1.1, 0.1))\n",
    "    elif col == \"loudness\":\n",
    "        bins = range(-60, 20, 10)\n",
    "    elif col == \"mode\":\n",
    "        bins = range(0, 3, 1)\n",
    "    elif col == \"tempo\":\n",
    "        bins = range(0, 250, 25)\n",
    "    elif col == \"time_signature\": \n",
    "        bins = range(0, 7, 1)\n",
    "        \n",
    "    counts, bins, patches = plot_histogram(\n",
    "                                audio_features[col].tolist(), \n",
    "                                title=f\"{col} distribution\",\n",
    "                                bins=bins)\n",
    "    print(f\"\"\"\n",
    "        bins   : {bins}\n",
    "        counts : {list(map(int, counts))}\n",
    "          \"\"\")\n"
   ]
  },
  {
   "attachments": {},
   "cell_type": "markdown",
   "metadata": {},
   "source": [
    "---\n",
    "# __artists__"
   ]
  },
  {
   "cell_type": "code",
   "execution_count": 8,
   "metadata": {},
   "outputs": [
    {
     "name": "stdout",
     "output_type": "stream",
     "text": [
      "(294126, 4)\n"
     ]
    },
    {
     "data": {
      "text/html": [
       "<div>\n",
       "<style scoped>\n",
       "    .dataframe tbody tr th:only-of-type {\n",
       "        vertical-align: middle;\n",
       "    }\n",
       "\n",
       "    .dataframe tbody tr th {\n",
       "        vertical-align: top;\n",
       "    }\n",
       "\n",
       "    .dataframe thead th {\n",
       "        text-align: right;\n",
       "    }\n",
       "</style>\n",
       "<table border=\"1\" class=\"dataframe\">\n",
       "  <thead>\n",
       "    <tr style=\"text-align: right;\">\n",
       "      <th></th>\n",
       "      <th>genres</th>\n",
       "      <th>artist_id</th>\n",
       "      <th>name</th>\n",
       "      <th>popularity</th>\n",
       "    </tr>\n",
       "  </thead>\n",
       "  <tbody>\n",
       "    <tr>\n",
       "      <th>0</th>\n",
       "      <td>[jawaiian, pacific islands pop]</td>\n",
       "      <td>4Cy6TrPbVlo9OP1MTSONo9</td>\n",
       "      <td>Josh WaWa White</td>\n",
       "      <td>39</td>\n",
       "    </tr>\n",
       "    <tr>\n",
       "      <th>1</th>\n",
       "      <td>[]</td>\n",
       "      <td>7vo7i6D53CDdJsMI6l1bkm</td>\n",
       "      <td>Jet Chamber</td>\n",
       "      <td>0</td>\n",
       "    </tr>\n",
       "    <tr>\n",
       "      <th>2</th>\n",
       "      <td>[instrumental bluegrass, progressive bluegrass]</td>\n",
       "      <td>1Stj7mbbJFkKGqasheXUVF</td>\n",
       "      <td>Russ Barenberg</td>\n",
       "      <td>30</td>\n",
       "    </tr>\n",
       "    <tr>\n",
       "      <th>3</th>\n",
       "      <td>[album rock, classic canadian rock, classic ro...</td>\n",
       "      <td>3TkWygOTDBZXAdFDh9HOkG</td>\n",
       "      <td>Chilliwack</td>\n",
       "      <td>37</td>\n",
       "    </tr>\n",
       "    <tr>\n",
       "      <th>4</th>\n",
       "      <td>[indiecoustica, pop folk]</td>\n",
       "      <td>0mUIey7n1U90IScto35rX7</td>\n",
       "      <td>Dave Thomas Junior</td>\n",
       "      <td>44</td>\n",
       "    </tr>\n",
       "  </tbody>\n",
       "</table>\n",
       "</div>"
      ],
      "text/plain": [
       "                                              genres               artist_id  \\\n",
       "0                    [jawaiian, pacific islands pop]  4Cy6TrPbVlo9OP1MTSONo9   \n",
       "1                                                 []  7vo7i6D53CDdJsMI6l1bkm   \n",
       "2    [instrumental bluegrass, progressive bluegrass]  1Stj7mbbJFkKGqasheXUVF   \n",
       "3  [album rock, classic canadian rock, classic ro...  3TkWygOTDBZXAdFDh9HOkG   \n",
       "4                          [indiecoustica, pop folk]  0mUIey7n1U90IScto35rX7   \n",
       "\n",
       "                 name  popularity  \n",
       "0     Josh WaWa White          39  \n",
       "1         Jet Chamber           0  \n",
       "2      Russ Barenberg          30  \n",
       "3          Chilliwack          37  \n",
       "4  Dave Thomas Junior          44  "
      ]
     },
     "metadata": {},
     "output_type": "display_data"
    }
   ],
   "source": [
    "artists_file_path = \"./extracted_data/artists/\"\n",
    "artists_output_path = \"./extracted_data/artists/artists_df.pickle\"\n",
    "\n",
    "if os.path.isfile(artists_output_path) == False:\n",
    "    artists_file_list = [f for f in os.listdir(artists_file_path) if f.startswith(\"artists\") and f.endswith(\".json\")]\n",
    "    artists_file_list.sort()\n",
    "\n",
    "    dict_rows_list = []\n",
    "\n",
    "    for file in artists_file_list:\n",
    "\n",
    "        with open(os.sep.join([artists_file_path, file]), \"r\") as f:\n",
    "            tmp = json.loads(f.read())\n",
    "            \n",
    "        dict_rows_list.extend(tmp.copy())\n",
    "\n",
    "    artists = pd.DataFrame(dict_rows_list)\n",
    "    artists.rename(columns={\"id\": \"artist_id\"}, inplace=True)\n",
    "    artists.drop_duplicates(subset=\"artist_id\", inplace=True)\n",
    "\n",
    "    print(artists.shape)\n",
    "    display(artists.head())\n",
    "\n",
    "    artists.to_pickle(artists_output_path)\n",
    "else:\n",
    "    artists = pd.read_pickle(artists_output_path)\n",
    "\n",
    "    print(artists.shape)\n",
    "    display(artists.head())"
   ]
  },
  {
   "cell_type": "code",
   "execution_count": 9,
   "metadata": {},
   "outputs": [
    {
     "name": "stdout",
     "output_type": "stream",
     "text": [
      "columns: popularity\n"
     ]
    },
    {
     "data": {
      "image/png": "[encoded data removed]",
      "text/plain": [
       "<Figure size 432x288 with 1 Axes>"
      ]
     },
     "metadata": {
      "needs_background": "light"
     },
     "output_type": "display_data"
    },
    {
     "name": "stdout",
     "output_type": "stream",
     "text": [
      "\n",
      "        bins   : [  0  10  20  30  40  50  60  70  80  90 100]\n",
      "        counts : [170054, 37311, 39437, 23027, 14804, 6356, 2375, 629, 125, 8]\n",
      "          \n"
     ]
    }
   ],
   "source": [
    "col_list = [\n",
    "    \"popularity\"\n",
    "    ]\n",
    "\n",
    "for col in col_list:\n",
    "    print(f\"columns: {col}\")\n",
    "    \n",
    "    if col == \"popularity\":\n",
    "        bins = range(0, 110, 10)\n",
    "        \n",
    "    counts, bins, patches = plot_histogram(\n",
    "                                artists[col].tolist(), \n",
    "                                title=f\"{col} distribution\",\n",
    "                                bins=bins)\n",
    "    print(f\"\"\"\n",
    "        bins   : {bins}\n",
    "        counts : {list(map(int, counts))}\n",
    "          \"\"\")\n"
   ]
  },
  {
   "attachments": {},
   "cell_type": "markdown",
   "metadata": {},
   "source": [
    "---\n",
    "# __join tracks, albums, audio-features, artists__"
   ]
  },
  {
   "cell_type": "markdown",
   "metadata": {},
   "source": [
    "### 1) load ablums data\n",
    "### 2) remove null rows from albums data"
   ]
  },
  {
   "cell_type": "code",
   "execution_count": 10,
   "metadata": {},
   "outputs": [
    {
     "name": "stdout",
     "output_type": "stream",
     "text": [
      "album_type       274\n",
      "artists_id       274\n",
      "copyrights       274\n",
      "genres           274\n",
      "id               274\n",
      "label           1455\n",
      "name             274\n",
      "popularity       274\n",
      "release_date     274\n",
      "total_tracks     274\n",
      "track_ids        274\n",
      "dtype: int64\n",
      "columns: \n",
      "Index(['album_type', 'artists_id', 'copyrights', 'genres', 'id', 'label',\n",
      "       'name', 'popularity', 'release_date', 'total_tracks', 'track_ids'],\n",
      "      dtype='object')\n",
      "shape: (845511, 11)\n"
     ]
    }
   ],
   "source": [
    "album_file_path = \"./album_table.csv\"\n",
    "albums = pd.read_csv(album_file_path)\n",
    "albums[\"id\"] = albums.id.str.replace(\" \", \"\")\n",
    "albums[\"release_date\"] = albums.release_date.str.strip()\n",
    "print(albums.isna().sum())\n",
    "\n",
    "albums = albums.loc[albums.id.notna()]\n",
    "\n",
    "print(f\"columns: \\n{albums.columns}\")\n",
    "print(f\"shape: {albums.shape}\")\n"
   ]
  },
  {
   "cell_type": "markdown",
   "metadata": {},
   "source": [
    "### 3) drop duplicates from albums data"
   ]
  },
  {
   "cell_type": "code",
   "execution_count": 11,
   "metadata": {},
   "outputs": [
    {
     "name": "stdout",
     "output_type": "stream",
     "text": [
      "unique id: 577186\n",
      "duplicated rows: 268325\n",
      "577186 + 268325 = 845511\n"
     ]
    }
   ],
   "source": [
    "print(f\"unique id: {len(albums.id.unique())}\")\n",
    "print(f\"duplicated rows: {albums.duplicated(subset='id').sum()}\")\n",
    "print(f\"{len(albums.id.unique())} + {albums.duplicated(subset='id').sum()} = {len(albums.id.unique())+albums.duplicated(subset='id').sum()}\")\n",
    "\n",
    "albums = albums.drop_duplicates(subset=\"id\")"
   ]
  },
  {
   "attachments": {},
   "cell_type": "markdown",
   "metadata": {},
   "source": [
    "### 4) combine with tracks, audio-features data\n",
    "### 5) plot histogram by year\n",
    "### 6) combine with artists data"
   ]
  },
  {
   "cell_type": "code",
   "execution_count": 12,
   "metadata": {},
   "outputs": [
    {
     "name": "stdout",
     "output_type": "stream",
     "text": [
      "tracks shape                               : (2146074, 10)\n",
      "albums shape                               : (577186, 11)\n",
      "audio-features shape                       : (2262191, 12)\n",
      "artists shape                              : (294126, 4)\n",
      "tracks and albums                          : (1910460, 11)\n",
      "tracks, albums, and audio-features         : (1281183, 24)\n"
     ]
    },
    {
     "data": {
      "image/png": "[encoded data removed]",
      "text/plain": [
       "<Figure size 432x288 with 1 Axes>"
      ]
     },
     "metadata": {
      "needs_background": "light"
     },
     "output_type": "display_data"
    },
    {
     "name": "stdout",
     "output_type": "stream",
     "text": [
      "\n",
      "    bins   : [1960 1970 1980 1990 2000 2010 2020]\n",
      "    counts : [17072, 27114, 38194, 114474, 326846, 750100]\n",
      "        \n",
      "tracks, albums, audio-features, and artists: (1470981, 28)\n"
     ]
    },
    {
     "data": {
      "text/html": [
       "<div>\n",
       "<style scoped>\n",
       "    .dataframe tbody tr th:only-of-type {\n",
       "        vertical-align: middle;\n",
       "    }\n",
       "\n",
       "    .dataframe tbody tr th {\n",
       "        vertical-align: top;\n",
       "    }\n",
       "\n",
       "    .dataframe thead th {\n",
       "        text-align: right;\n",
       "    }\n",
       "</style>\n",
       "<table border=\"1\" class=\"dataframe\">\n",
       "  <thead>\n",
       "    <tr style=\"text-align: right;\">\n",
       "      <th></th>\n",
       "      <th>track_id</th>\n",
       "      <th>album_id</th>\n",
       "      <th>artists_id</th>\n",
       "      <th>disc_number</th>\n",
       "      <th>duration_ms</th>\n",
       "      <th>explicit</th>\n",
       "      <th>track_name</th>\n",
       "      <th>album_popularity</th>\n",
       "      <th>track_number</th>\n",
       "      <th>duration_m</th>\n",
       "      <th>...</th>\n",
       "      <th>loudness</th>\n",
       "      <th>mode</th>\n",
       "      <th>speechiness</th>\n",
       "      <th>tempo</th>\n",
       "      <th>time_signature</th>\n",
       "      <th>valence</th>\n",
       "      <th>artist_id</th>\n",
       "      <th>genres</th>\n",
       "      <th>artist_name</th>\n",
       "      <th>artist_popularity</th>\n",
       "    </tr>\n",
       "  </thead>\n",
       "  <tbody>\n",
       "    <tr>\n",
       "      <th>0</th>\n",
       "      <td>5iYe4mt1bf1KVzVM8EY6y8</td>\n",
       "      <td>3ruxxNJfKwSeghjqG6JL3y</td>\n",
       "      <td>0r0R5nIjDY04TfxRM10Bcb</td>\n",
       "      <td>1</td>\n",
       "      <td>228213</td>\n",
       "      <td>True</td>\n",
       "      <td>Du bist schön</td>\n",
       "      <td>61</td>\n",
       "      <td>19</td>\n",
       "      <td>3.803550</td>\n",
       "      <td>...</td>\n",
       "      <td>-6.508</td>\n",
       "      <td>1</td>\n",
       "      <td>0.0381</td>\n",
       "      <td>120.068</td>\n",
       "      <td>4</td>\n",
       "      <td>0.442</td>\n",
       "      <td>0r0R5nIjDY04TfxRM10Bcb</td>\n",
       "      <td>[german pop]</td>\n",
       "      <td>Alligatoah</td>\n",
       "      <td>64</td>\n",
       "    </tr>\n",
       "    <tr>\n",
       "      <th>1</th>\n",
       "      <td>2YeiTbQiN33B4aWXAEOeZu</td>\n",
       "      <td>3ruxxNJfKwSeghjqG6JL3y</td>\n",
       "      <td>0r0R5nIjDY04TfxRM10Bcb</td>\n",
       "      <td>1</td>\n",
       "      <td>232466</td>\n",
       "      <td>True</td>\n",
       "      <td>Lass liegen</td>\n",
       "      <td>44</td>\n",
       "      <td>18</td>\n",
       "      <td>3.874433</td>\n",
       "      <td>...</td>\n",
       "      <td>-6.679</td>\n",
       "      <td>1</td>\n",
       "      <td>0.1640</td>\n",
       "      <td>143.033</td>\n",
       "      <td>4</td>\n",
       "      <td>0.814</td>\n",
       "      <td>0r0R5nIjDY04TfxRM10Bcb</td>\n",
       "      <td>[german pop]</td>\n",
       "      <td>Alligatoah</td>\n",
       "      <td>64</td>\n",
       "    </tr>\n",
       "    <tr>\n",
       "      <th>2</th>\n",
       "      <td>00ylpioXq9EFFUbI7gay05</td>\n",
       "      <td>3ruxxNJfKwSeghjqG6JL3y</td>\n",
       "      <td>0r0R5nIjDY04TfxRM10Bcb</td>\n",
       "      <td>1</td>\n",
       "      <td>251746</td>\n",
       "      <td>True</td>\n",
       "      <td>Musik ist keine Lösung</td>\n",
       "      <td>42</td>\n",
       "      <td>20</td>\n",
       "      <td>4.195767</td>\n",
       "      <td>...</td>\n",
       "      <td>-6.072</td>\n",
       "      <td>1</td>\n",
       "      <td>0.0929</td>\n",
       "      <td>114.117</td>\n",
       "      <td>4</td>\n",
       "      <td>0.785</td>\n",
       "      <td>0r0R5nIjDY04TfxRM10Bcb</td>\n",
       "      <td>[german pop]</td>\n",
       "      <td>Alligatoah</td>\n",
       "      <td>64</td>\n",
       "    </tr>\n",
       "    <tr>\n",
       "      <th>3</th>\n",
       "      <td>3OGlLa9RnR55xOoNOzTgDp</td>\n",
       "      <td>3ruxxNJfKwSeghjqG6JL3y</td>\n",
       "      <td>0r0R5nIjDY04TfxRM10Bcb,6v2fKtxH2ZyVvk4tSqWeOP</td>\n",
       "      <td>1</td>\n",
       "      <td>226480</td>\n",
       "      <td>True</td>\n",
       "      <td>Trostpreis (feat. Timi Hendrix)</td>\n",
       "      <td>40</td>\n",
       "      <td>10</td>\n",
       "      <td>3.774667</td>\n",
       "      <td>...</td>\n",
       "      <td>-7.079</td>\n",
       "      <td>0</td>\n",
       "      <td>0.2680</td>\n",
       "      <td>94.756</td>\n",
       "      <td>4</td>\n",
       "      <td>0.860</td>\n",
       "      <td>0r0R5nIjDY04TfxRM10Bcb</td>\n",
       "      <td>[german pop]</td>\n",
       "      <td>Alligatoah</td>\n",
       "      <td>64</td>\n",
       "    </tr>\n",
       "    <tr>\n",
       "      <th>4</th>\n",
       "      <td>389spw2dydru3AHm42KGmO</td>\n",
       "      <td>3ruxxNJfKwSeghjqG6JL3y</td>\n",
       "      <td>0r0R5nIjDY04TfxRM10Bcb,6v2fKtxH2ZyVvk4tSqWeOP,...</td>\n",
       "      <td>1</td>\n",
       "      <td>215172</td>\n",
       "      <td>True</td>\n",
       "      <td>Was der Bauer nicht kennt (feat. Timi Hendrix ...</td>\n",
       "      <td>34</td>\n",
       "      <td>14</td>\n",
       "      <td>3.586200</td>\n",
       "      <td>...</td>\n",
       "      <td>-5.838</td>\n",
       "      <td>1</td>\n",
       "      <td>0.0561</td>\n",
       "      <td>116.120</td>\n",
       "      <td>4</td>\n",
       "      <td>0.793</td>\n",
       "      <td>0r0R5nIjDY04TfxRM10Bcb</td>\n",
       "      <td>[german pop]</td>\n",
       "      <td>Alligatoah</td>\n",
       "      <td>64</td>\n",
       "    </tr>\n",
       "  </tbody>\n",
       "</table>\n",
       "<p>5 rows × 28 columns</p>\n",
       "</div>"
      ],
      "text/plain": [
       "                 track_id                album_id  \\\n",
       "0  5iYe4mt1bf1KVzVM8EY6y8  3ruxxNJfKwSeghjqG6JL3y   \n",
       "1  2YeiTbQiN33B4aWXAEOeZu  3ruxxNJfKwSeghjqG6JL3y   \n",
       "2  00ylpioXq9EFFUbI7gay05  3ruxxNJfKwSeghjqG6JL3y   \n",
       "3  3OGlLa9RnR55xOoNOzTgDp  3ruxxNJfKwSeghjqG6JL3y   \n",
       "4  389spw2dydru3AHm42KGmO  3ruxxNJfKwSeghjqG6JL3y   \n",
       "\n",
       "                                          artists_id  disc_number  \\\n",
       "0                             0r0R5nIjDY04TfxRM10Bcb            1   \n",
       "1                             0r0R5nIjDY04TfxRM10Bcb            1   \n",
       "2                             0r0R5nIjDY04TfxRM10Bcb            1   \n",
       "3      0r0R5nIjDY04TfxRM10Bcb,6v2fKtxH2ZyVvk4tSqWeOP            1   \n",
       "4  0r0R5nIjDY04TfxRM10Bcb,6v2fKtxH2ZyVvk4tSqWeOP,...            1   \n",
       "\n",
       "   duration_ms  explicit                                         track_name  \\\n",
       "0       228213      True                                      Du bist schön   \n",
       "1       232466      True                                        Lass liegen   \n",
       "2       251746      True                             Musik ist keine Lösung   \n",
       "3       226480      True                    Trostpreis (feat. Timi Hendrix)   \n",
       "4       215172      True  Was der Bauer nicht kennt (feat. Timi Hendrix ...   \n",
       "\n",
       "   album_popularity  track_number  duration_m  ... loudness  mode  \\\n",
       "0                61            19    3.803550  ...   -6.508     1   \n",
       "1                44            18    3.874433  ...   -6.679     1   \n",
       "2                42            20    4.195767  ...   -6.072     1   \n",
       "3                40            10    3.774667  ...   -7.079     0   \n",
       "4                34            14    3.586200  ...   -5.838     1   \n",
       "\n",
       "   speechiness    tempo  time_signature  valence               artist_id  \\\n",
       "0       0.0381  120.068               4    0.442  0r0R5nIjDY04TfxRM10Bcb   \n",
       "1       0.1640  143.033               4    0.814  0r0R5nIjDY04TfxRM10Bcb   \n",
       "2       0.0929  114.117               4    0.785  0r0R5nIjDY04TfxRM10Bcb   \n",
       "3       0.2680   94.756               4    0.860  0r0R5nIjDY04TfxRM10Bcb   \n",
       "4       0.0561  116.120               4    0.793  0r0R5nIjDY04TfxRM10Bcb   \n",
       "\n",
       "         genres  artist_name  artist_popularity  \n",
       "0  [german pop]   Alligatoah                 64  \n",
       "1  [german pop]   Alligatoah                 64  \n",
       "2  [german pop]   Alligatoah                 64  \n",
       "3  [german pop]   Alligatoah                 64  \n",
       "4  [german pop]   Alligatoah                 64  \n",
       "\n",
       "[5 rows x 28 columns]"
      ]
     },
     "metadata": {},
     "output_type": "display_data"
    }
   ],
   "source": [
    "print(f\"tracks shape                               : {tracks.shape}\")\n",
    "print(f\"albums shape                               : {albums.shape}\")\n",
    "print(f\"audio-features shape                       : {audio_features.shape}\")\n",
    "print(f\"artists shape                              : {artists.shape}\")\n",
    "\n",
    "# join tracks with albums\n",
    "albums_tmp = albums.loc[:, [\"id\", \"release_date\"]]\n",
    "albums_tmp.rename(columns={\"id\": \"album_id\"}, inplace=True)\n",
    "joined_df = pd.merge(tracks, albums_tmp, how=\"inner\", on=\"album_id\")\n",
    "joined_df.rename(columns={\"name\": \"track_name\", \"popularity\": \"album_popularity\"}, inplace=True)\n",
    "joined_df = joined_df.loc[joined_df.release_date.notna()]\n",
    "joined_df = joined_df.loc[joined_df.release_date.apply(lambda x: False if x.startswith(\"0\") else True)]\n",
    "print(f\"tracks and albums                          : {joined_df.shape}\")\n",
    "\n",
    "f = lambda x: int(x[:4]) if len(x) >= 5 else int(x)\n",
    "joined_df[\"release_year\"] = joined_df.release_date.apply(f)\n",
    "\n",
    "f = lambda x: (x // 10) * 10\n",
    "joined_df[\"release_year_bin\"] = joined_df.release_year.apply(f)\n",
    "\n",
    "# join joined_df with audio-features\n",
    "joined_df = pd.merge(joined_df, audio_features, how=\"inner\", on=\"track_id\")\n",
    "print(f\"tracks, albums, and audio-features         : {joined_df.shape}\")\n",
    "\n",
    "# plot histogram by release_year\n",
    "counts, bins, patches = plot_histogram(\n",
    "    joined_df.release_year_bin.tolist(), \n",
    "    title=\"release year distribution\",\n",
    "    bins=range(1960, 2030, 10)\n",
    ")\n",
    "\n",
    "print(f\"\"\"\n",
    "    bins   : {bins}\n",
    "    counts : {list(map(int, counts))}\n",
    "        \"\"\")\n",
    "\n",
    "# join joined_df with artists\n",
    "joined_df[\"artist_id\"] = joined_df.artists_id.str.replace(\" \", \"\").str.split(\",\")\n",
    "joined_df = joined_df.explode(\"artist_id\")\n",
    "artists.rename(columns={\"name\": \"artist_name\", \"popularity\": \"artist_popularity\"}, inplace=True)\n",
    "joined_df = pd.merge(joined_df, artists, how=\"inner\", on=\"artist_id\")\n",
    "print(f\"tracks, albums, audio-features, and artists: {joined_df.shape}\")\n",
    "\n",
    "display(joined_df.head())\n",
    "\n"
   ]
  },
  {
   "attachments": {},
   "cell_type": "markdown",
   "metadata": {},
   "source": [
    "### 7) cut the rows by specific release year (>= 2010) and album popularity (>= 30) and save the data\n",
    "### 8) set genres, artist names and artist popularity for each track (combine all genres and artist names, and get maximum of artists popularity)\n",
    "### 9) check the heatmap between album popularity and artist popularity"
   ]
  },
  {
   "cell_type": "code",
   "execution_count": 13,
   "metadata": {},
   "outputs": [
    {
     "name": "stdout",
     "output_type": "stream",
     "text": [
      "shape of df: (871824, 28)\n",
      "the number of unique track ids: 741771\n",
      "shape of df: (110164, 28)\n",
      "the number of unique track ids: 89307\n"
     ]
    },
    {
     "data": {
      "text/html": [
       "<div>\n",
       "<style scoped>\n",
       "    .dataframe tbody tr th:only-of-type {\n",
       "        vertical-align: middle;\n",
       "    }\n",
       "\n",
       "    .dataframe tbody tr th {\n",
       "        vertical-align: top;\n",
       "    }\n",
       "\n",
       "    .dataframe thead th {\n",
       "        text-align: right;\n",
       "    }\n",
       "</style>\n",
       "<table border=\"1\" class=\"dataframe\">\n",
       "  <thead>\n",
       "    <tr style=\"text-align: right;\">\n",
       "      <th></th>\n",
       "      <th>track_id</th>\n",
       "      <th>artists_id</th>\n",
       "      <th>genres_combined</th>\n",
       "    </tr>\n",
       "  </thead>\n",
       "  <tbody>\n",
       "    <tr>\n",
       "      <th>0</th>\n",
       "      <td>000VZqvXwT0YNqKk7iG2GS</td>\n",
       "      <td>6kQB2RN7WwryMdJ1MoQh1E</td>\n",
       "      <td>deathcore,melodic hardcore,melodic metalcore,m...</td>\n",
       "    </tr>\n",
       "    <tr>\n",
       "      <th>1</th>\n",
       "      <td>000xQL6tZNLJzIrtIgxqSl</td>\n",
       "      <td>5ZsFI1h6hIdQRw2ti0hz81,2HPaUgqeutzr3jx5a9WyDV</td>\n",
       "      <td>dance pop,pop,post-teen pop,uk pop,pop,r&amp;b,rap...</td>\n",
       "    </tr>\n",
       "    <tr>\n",
       "      <th>2</th>\n",
       "      <td>000xYdQfIZ4pDmBGzQalKU</td>\n",
       "      <td>3qvcCP2J0fWi0m0uQDUf6r</td>\n",
       "      <td>arrocha,sertanejo,sertanejo pop,sertanejo univ...</td>\n",
       "    </tr>\n",
       "    <tr>\n",
       "      <th>3</th>\n",
       "      <td>0010mZpCCwlPwoBiBsjoac</td>\n",
       "      <td>3pTE9iaJTkWns3mxpNQlJV</td>\n",
       "      <td>alternative dance,british indie rock,indie roc...</td>\n",
       "    </tr>\n",
       "    <tr>\n",
       "      <th>4</th>\n",
       "      <td>001BVhvaZTf2icV88rU3DA</td>\n",
       "      <td>1xQIR56DxgWYZPUvOLRIua,2D0u6nyYzRpoDvJe6sOBXu</td>\n",
       "      <td></td>\n",
       "    </tr>\n",
       "  </tbody>\n",
       "</table>\n",
       "</div>"
      ],
      "text/plain": [
       "                 track_id                                     artists_id  \\\n",
       "0  000VZqvXwT0YNqKk7iG2GS                         6kQB2RN7WwryMdJ1MoQh1E   \n",
       "1  000xQL6tZNLJzIrtIgxqSl  5ZsFI1h6hIdQRw2ti0hz81,2HPaUgqeutzr3jx5a9WyDV   \n",
       "2  000xYdQfIZ4pDmBGzQalKU                         3qvcCP2J0fWi0m0uQDUf6r   \n",
       "3  0010mZpCCwlPwoBiBsjoac                         3pTE9iaJTkWns3mxpNQlJV   \n",
       "4  001BVhvaZTf2icV88rU3DA  1xQIR56DxgWYZPUvOLRIua,2D0u6nyYzRpoDvJe6sOBXu   \n",
       "\n",
       "                                     genres_combined  \n",
       "0  deathcore,melodic hardcore,melodic metalcore,m...  \n",
       "1  dance pop,pop,post-teen pop,uk pop,pop,r&b,rap...  \n",
       "2  arrocha,sertanejo,sertanejo pop,sertanejo univ...  \n",
       "3  alternative dance,british indie rock,indie roc...  \n",
       "4                                                     "
      ]
     },
     "metadata": {},
     "output_type": "display_data"
    },
    {
     "data": {
      "text/html": [
       "<div>\n",
       "<style scoped>\n",
       "    .dataframe tbody tr th:only-of-type {\n",
       "        vertical-align: middle;\n",
       "    }\n",
       "\n",
       "    .dataframe tbody tr th {\n",
       "        vertical-align: top;\n",
       "    }\n",
       "\n",
       "    .dataframe thead th {\n",
       "        text-align: right;\n",
       "    }\n",
       "</style>\n",
       "<table border=\"1\" class=\"dataframe\">\n",
       "  <thead>\n",
       "    <tr style=\"text-align: right;\">\n",
       "      <th></th>\n",
       "      <th>track_id</th>\n",
       "      <th>artists_id</th>\n",
       "      <th>artist_name_combined</th>\n",
       "    </tr>\n",
       "  </thead>\n",
       "  <tbody>\n",
       "    <tr>\n",
       "      <th>0</th>\n",
       "      <td>000VZqvXwT0YNqKk7iG2GS</td>\n",
       "      <td>6kQB2RN7WwryMdJ1MoQh1E</td>\n",
       "      <td>The Ghost Inside</td>\n",
       "    </tr>\n",
       "    <tr>\n",
       "      <th>1</th>\n",
       "      <td>000xQL6tZNLJzIrtIgxqSl</td>\n",
       "      <td>5ZsFI1h6hIdQRw2ti0hz81,2HPaUgqeutzr3jx5a9WyDV</td>\n",
       "      <td>ZAYN,PARTYNEXTDOOR</td>\n",
       "    </tr>\n",
       "    <tr>\n",
       "      <th>2</th>\n",
       "      <td>000xYdQfIZ4pDmBGzQalKU</td>\n",
       "      <td>3qvcCP2J0fWi0m0uQDUf6r</td>\n",
       "      <td>Luan Santana</td>\n",
       "    </tr>\n",
       "    <tr>\n",
       "      <th>3</th>\n",
       "      <td>0010mZpCCwlPwoBiBsjoac</td>\n",
       "      <td>3pTE9iaJTkWns3mxpNQlJV</td>\n",
       "      <td>Bombay Bicycle Club</td>\n",
       "    </tr>\n",
       "    <tr>\n",
       "      <th>4</th>\n",
       "      <td>001BVhvaZTf2icV88rU3DA</td>\n",
       "      <td>1xQIR56DxgWYZPUvOLRIua,2D0u6nyYzRpoDvJe6sOBXu</td>\n",
       "      <td>Valleyz</td>\n",
       "    </tr>\n",
       "  </tbody>\n",
       "</table>\n",
       "</div>"
      ],
      "text/plain": [
       "                 track_id                                     artists_id  \\\n",
       "0  000VZqvXwT0YNqKk7iG2GS                         6kQB2RN7WwryMdJ1MoQh1E   \n",
       "1  000xQL6tZNLJzIrtIgxqSl  5ZsFI1h6hIdQRw2ti0hz81,2HPaUgqeutzr3jx5a9WyDV   \n",
       "2  000xYdQfIZ4pDmBGzQalKU                         3qvcCP2J0fWi0m0uQDUf6r   \n",
       "3  0010mZpCCwlPwoBiBsjoac                         3pTE9iaJTkWns3mxpNQlJV   \n",
       "4  001BVhvaZTf2icV88rU3DA  1xQIR56DxgWYZPUvOLRIua,2D0u6nyYzRpoDvJe6sOBXu   \n",
       "\n",
       "  artist_name_combined  \n",
       "0     The Ghost Inside  \n",
       "1   ZAYN,PARTYNEXTDOOR  \n",
       "2         Luan Santana  \n",
       "3  Bombay Bicycle Club  \n",
       "4              Valleyz  "
      ]
     },
     "metadata": {},
     "output_type": "display_data"
    },
    {
     "data": {
      "text/html": [
       "<div>\n",
       "<style scoped>\n",
       "    .dataframe tbody tr th:only-of-type {\n",
       "        vertical-align: middle;\n",
       "    }\n",
       "\n",
       "    .dataframe tbody tr th {\n",
       "        vertical-align: top;\n",
       "    }\n",
       "\n",
       "    .dataframe thead th {\n",
       "        text-align: right;\n",
       "    }\n",
       "</style>\n",
       "<table border=\"1\" class=\"dataframe\">\n",
       "  <thead>\n",
       "    <tr style=\"text-align: right;\">\n",
       "      <th></th>\n",
       "      <th>track_id</th>\n",
       "      <th>artists_id</th>\n",
       "      <th>artist_popularity_max</th>\n",
       "    </tr>\n",
       "  </thead>\n",
       "  <tbody>\n",
       "    <tr>\n",
       "      <th>0</th>\n",
       "      <td>000VZqvXwT0YNqKk7iG2GS</td>\n",
       "      <td>6kQB2RN7WwryMdJ1MoQh1E</td>\n",
       "      <td>51</td>\n",
       "    </tr>\n",
       "    <tr>\n",
       "      <th>1</th>\n",
       "      <td>000xQL6tZNLJzIrtIgxqSl</td>\n",
       "      <td>5ZsFI1h6hIdQRw2ti0hz81,2HPaUgqeutzr3jx5a9WyDV</td>\n",
       "      <td>75</td>\n",
       "    </tr>\n",
       "    <tr>\n",
       "      <th>2</th>\n",
       "      <td>000xYdQfIZ4pDmBGzQalKU</td>\n",
       "      <td>3qvcCP2J0fWi0m0uQDUf6r</td>\n",
       "      <td>73</td>\n",
       "    </tr>\n",
       "    <tr>\n",
       "      <th>3</th>\n",
       "      <td>0010mZpCCwlPwoBiBsjoac</td>\n",
       "      <td>3pTE9iaJTkWns3mxpNQlJV</td>\n",
       "      <td>57</td>\n",
       "    </tr>\n",
       "    <tr>\n",
       "      <th>4</th>\n",
       "      <td>001BVhvaZTf2icV88rU3DA</td>\n",
       "      <td>1xQIR56DxgWYZPUvOLRIua,2D0u6nyYzRpoDvJe6sOBXu</td>\n",
       "      <td>32</td>\n",
       "    </tr>\n",
       "  </tbody>\n",
       "</table>\n",
       "</div>"
      ],
      "text/plain": [
       "                 track_id                                     artists_id  \\\n",
       "0  000VZqvXwT0YNqKk7iG2GS                         6kQB2RN7WwryMdJ1MoQh1E   \n",
       "1  000xQL6tZNLJzIrtIgxqSl  5ZsFI1h6hIdQRw2ti0hz81,2HPaUgqeutzr3jx5a9WyDV   \n",
       "2  000xYdQfIZ4pDmBGzQalKU                         3qvcCP2J0fWi0m0uQDUf6r   \n",
       "3  0010mZpCCwlPwoBiBsjoac                         3pTE9iaJTkWns3mxpNQlJV   \n",
       "4  001BVhvaZTf2icV88rU3DA  1xQIR56DxgWYZPUvOLRIua,2D0u6nyYzRpoDvJe6sOBXu   \n",
       "\n",
       "   artist_popularity_max  \n",
       "0                     51  \n",
       "1                     75  \n",
       "2                     73  \n",
       "3                     57  \n",
       "4                     32  "
      ]
     },
     "metadata": {},
     "output_type": "display_data"
    },
    {
     "data": {
      "text/html": [
       "<div>\n",
       "<style scoped>\n",
       "    .dataframe tbody tr th:only-of-type {\n",
       "        vertical-align: middle;\n",
       "    }\n",
       "\n",
       "    .dataframe tbody tr th {\n",
       "        vertical-align: top;\n",
       "    }\n",
       "\n",
       "    .dataframe thead th {\n",
       "        text-align: right;\n",
       "    }\n",
       "</style>\n",
       "<table border=\"1\" class=\"dataframe\">\n",
       "  <thead>\n",
       "    <tr style=\"text-align: right;\">\n",
       "      <th></th>\n",
       "      <th>track_id</th>\n",
       "      <th>album_id</th>\n",
       "      <th>artists_id</th>\n",
       "      <th>disc_number</th>\n",
       "      <th>duration_ms</th>\n",
       "      <th>explicit</th>\n",
       "      <th>track_name</th>\n",
       "      <th>album_popularity</th>\n",
       "      <th>track_number</th>\n",
       "      <th>duration_m</th>\n",
       "      <th>...</th>\n",
       "      <th>tempo</th>\n",
       "      <th>time_signature</th>\n",
       "      <th>valence</th>\n",
       "      <th>artist_id</th>\n",
       "      <th>genres</th>\n",
       "      <th>artist_name</th>\n",
       "      <th>artist_popularity</th>\n",
       "      <th>genres_combined</th>\n",
       "      <th>artist_name_combined</th>\n",
       "      <th>artist_popularity_max</th>\n",
       "    </tr>\n",
       "  </thead>\n",
       "  <tbody>\n",
       "    <tr>\n",
       "      <th>0</th>\n",
       "      <td>000VZqvXwT0YNqKk7iG2GS</td>\n",
       "      <td>75kQjmcR1YnIrBwVW1s4G1</td>\n",
       "      <td>6kQB2RN7WwryMdJ1MoQh1E</td>\n",
       "      <td>1</td>\n",
       "      <td>256478</td>\n",
       "      <td>False</td>\n",
       "      <td>Mercy</td>\n",
       "      <td>44</td>\n",
       "      <td>5</td>\n",
       "      <td>4.274633</td>\n",
       "      <td>...</td>\n",
       "      <td>124.016</td>\n",
       "      <td>4</td>\n",
       "      <td>0.106</td>\n",
       "      <td>6kQB2RN7WwryMdJ1MoQh1E</td>\n",
       "      <td>[deathcore, melodic hardcore, melodic metalcor...</td>\n",
       "      <td>The Ghost Inside</td>\n",
       "      <td>51</td>\n",
       "      <td>deathcore,melodic hardcore,melodic metalcore,m...</td>\n",
       "      <td>The Ghost Inside</td>\n",
       "      <td>51</td>\n",
       "    </tr>\n",
       "    <tr>\n",
       "      <th>1</th>\n",
       "      <td>000xQL6tZNLJzIrtIgxqSl</td>\n",
       "      <td>2kGUeTGnkLOYlinKRJe47G</td>\n",
       "      <td>5ZsFI1h6hIdQRw2ti0hz81,2HPaUgqeutzr3jx5a9WyDV</td>\n",
       "      <td>1</td>\n",
       "      <td>188490</td>\n",
       "      <td>False</td>\n",
       "      <td>Still Got Time (feat. PARTYNEXTDOOR)</td>\n",
       "      <td>57</td>\n",
       "      <td>1</td>\n",
       "      <td>3.141500</td>\n",
       "      <td>...</td>\n",
       "      <td>120.963</td>\n",
       "      <td>4</td>\n",
       "      <td>0.524</td>\n",
       "      <td>5ZsFI1h6hIdQRw2ti0hz81</td>\n",
       "      <td>[dance pop, pop, post-teen pop, uk pop]</td>\n",
       "      <td>ZAYN</td>\n",
       "      <td>75</td>\n",
       "      <td>dance pop,pop,post-teen pop,uk pop,pop,r&amp;b,rap...</td>\n",
       "      <td>ZAYN,PARTYNEXTDOOR</td>\n",
       "      <td>75</td>\n",
       "    </tr>\n",
       "    <tr>\n",
       "      <th>2</th>\n",
       "      <td>000xQL6tZNLJzIrtIgxqSl</td>\n",
       "      <td>2kGUeTGnkLOYlinKRJe47G</td>\n",
       "      <td>5ZsFI1h6hIdQRw2ti0hz81,2HPaUgqeutzr3jx5a9WyDV</td>\n",
       "      <td>1</td>\n",
       "      <td>188490</td>\n",
       "      <td>False</td>\n",
       "      <td>Still Got Time (feat. PARTYNEXTDOOR)</td>\n",
       "      <td>57</td>\n",
       "      <td>1</td>\n",
       "      <td>3.141500</td>\n",
       "      <td>...</td>\n",
       "      <td>120.963</td>\n",
       "      <td>4</td>\n",
       "      <td>0.524</td>\n",
       "      <td>2HPaUgqeutzr3jx5a9WyDV</td>\n",
       "      <td>[pop, r&amp;b, rap, toronto rap, trap, urban conte...</td>\n",
       "      <td>PARTYNEXTDOOR</td>\n",
       "      <td>75</td>\n",
       "      <td>dance pop,pop,post-teen pop,uk pop,pop,r&amp;b,rap...</td>\n",
       "      <td>ZAYN,PARTYNEXTDOOR</td>\n",
       "      <td>75</td>\n",
       "    </tr>\n",
       "    <tr>\n",
       "      <th>3</th>\n",
       "      <td>000xYdQfIZ4pDmBGzQalKU</td>\n",
       "      <td>4QianJs5Ls4mxwcT7gDBww</td>\n",
       "      <td>3qvcCP2J0fWi0m0uQDUf6r</td>\n",
       "      <td>1</td>\n",
       "      <td>187118</td>\n",
       "      <td>False</td>\n",
       "      <td>Eu, Você, O Mar e Ela</td>\n",
       "      <td>57</td>\n",
       "      <td>3</td>\n",
       "      <td>3.118633</td>\n",
       "      <td>...</td>\n",
       "      <td>166.018</td>\n",
       "      <td>4</td>\n",
       "      <td>0.651</td>\n",
       "      <td>3qvcCP2J0fWi0m0uQDUf6r</td>\n",
       "      <td>[arrocha, sertanejo, sertanejo pop, sertanejo ...</td>\n",
       "      <td>Luan Santana</td>\n",
       "      <td>73</td>\n",
       "      <td>arrocha,sertanejo,sertanejo pop,sertanejo univ...</td>\n",
       "      <td>Luan Santana</td>\n",
       "      <td>73</td>\n",
       "    </tr>\n",
       "    <tr>\n",
       "      <th>4</th>\n",
       "      <td>0010mZpCCwlPwoBiBsjoac</td>\n",
       "      <td>5oKWoolIuoWMG6AORvA9hL</td>\n",
       "      <td>3pTE9iaJTkWns3mxpNQlJV</td>\n",
       "      <td>1</td>\n",
       "      <td>249946</td>\n",
       "      <td>False</td>\n",
       "      <td>It's Alright Now</td>\n",
       "      <td>38</td>\n",
       "      <td>2</td>\n",
       "      <td>4.165767</td>\n",
       "      <td>...</td>\n",
       "      <td>124.993</td>\n",
       "      <td>3</td>\n",
       "      <td>0.597</td>\n",
       "      <td>3pTE9iaJTkWns3mxpNQlJV</td>\n",
       "      <td>[alternative dance, british indie rock, indie ...</td>\n",
       "      <td>Bombay Bicycle Club</td>\n",
       "      <td>57</td>\n",
       "      <td>alternative dance,british indie rock,indie roc...</td>\n",
       "      <td>Bombay Bicycle Club</td>\n",
       "      <td>57</td>\n",
       "    </tr>\n",
       "  </tbody>\n",
       "</table>\n",
       "<p>5 rows × 31 columns</p>\n",
       "</div>"
      ],
      "text/plain": [
       "                 track_id                album_id  \\\n",
       "0  000VZqvXwT0YNqKk7iG2GS  75kQjmcR1YnIrBwVW1s4G1   \n",
       "1  000xQL6tZNLJzIrtIgxqSl  2kGUeTGnkLOYlinKRJe47G   \n",
       "2  000xQL6tZNLJzIrtIgxqSl  2kGUeTGnkLOYlinKRJe47G   \n",
       "3  000xYdQfIZ4pDmBGzQalKU  4QianJs5Ls4mxwcT7gDBww   \n",
       "4  0010mZpCCwlPwoBiBsjoac  5oKWoolIuoWMG6AORvA9hL   \n",
       "\n",
       "                                      artists_id  disc_number  duration_ms  \\\n",
       "0                         6kQB2RN7WwryMdJ1MoQh1E            1       256478   \n",
       "1  5ZsFI1h6hIdQRw2ti0hz81,2HPaUgqeutzr3jx5a9WyDV            1       188490   \n",
       "2  5ZsFI1h6hIdQRw2ti0hz81,2HPaUgqeutzr3jx5a9WyDV            1       188490   \n",
       "3                         3qvcCP2J0fWi0m0uQDUf6r            1       187118   \n",
       "4                         3pTE9iaJTkWns3mxpNQlJV            1       249946   \n",
       "\n",
       "   explicit                            track_name  album_popularity  \\\n",
       "0     False                                 Mercy                44   \n",
       "1     False  Still Got Time (feat. PARTYNEXTDOOR)                57   \n",
       "2     False  Still Got Time (feat. PARTYNEXTDOOR)                57   \n",
       "3     False                 Eu, Você, O Mar e Ela                57   \n",
       "4     False                      It's Alright Now                38   \n",
       "\n",
       "   track_number  duration_m  ...    tempo  time_signature  valence  \\\n",
       "0             5    4.274633  ...  124.016               4    0.106   \n",
       "1             1    3.141500  ...  120.963               4    0.524   \n",
       "2             1    3.141500  ...  120.963               4    0.524   \n",
       "3             3    3.118633  ...  166.018               4    0.651   \n",
       "4             2    4.165767  ...  124.993               3    0.597   \n",
       "\n",
       "                artist_id                                             genres  \\\n",
       "0  6kQB2RN7WwryMdJ1MoQh1E  [deathcore, melodic hardcore, melodic metalcor...   \n",
       "1  5ZsFI1h6hIdQRw2ti0hz81            [dance pop, pop, post-teen pop, uk pop]   \n",
       "2  2HPaUgqeutzr3jx5a9WyDV  [pop, r&b, rap, toronto rap, trap, urban conte...   \n",
       "3  3qvcCP2J0fWi0m0uQDUf6r  [arrocha, sertanejo, sertanejo pop, sertanejo ...   \n",
       "4  3pTE9iaJTkWns3mxpNQlJV  [alternative dance, british indie rock, indie ...   \n",
       "\n",
       "           artist_name  artist_popularity  \\\n",
       "0     The Ghost Inside                 51   \n",
       "1                 ZAYN                 75   \n",
       "2        PARTYNEXTDOOR                 75   \n",
       "3         Luan Santana                 73   \n",
       "4  Bombay Bicycle Club                 57   \n",
       "\n",
       "                                     genres_combined  artist_name_combined  \\\n",
       "0  deathcore,melodic hardcore,melodic metalcore,m...      The Ghost Inside   \n",
       "1  dance pop,pop,post-teen pop,uk pop,pop,r&b,rap...    ZAYN,PARTYNEXTDOOR   \n",
       "2  dance pop,pop,post-teen pop,uk pop,pop,r&b,rap...    ZAYN,PARTYNEXTDOOR   \n",
       "3  arrocha,sertanejo,sertanejo pop,sertanejo univ...          Luan Santana   \n",
       "4  alternative dance,british indie rock,indie roc...   Bombay Bicycle Club   \n",
       "\n",
       "   artist_popularity_max  \n",
       "0                     51  \n",
       "1                     75  \n",
       "2                     75  \n",
       "3                     73  \n",
       "4                     57  \n",
       "\n",
       "[5 rows x 31 columns]"
      ]
     },
     "metadata": {},
     "output_type": "display_data"
    },
    {
     "name": "stderr",
     "output_type": "stream",
     "text": [
      "/var/folders/9q/nynv72513xz5vlp8cpcm790r0000gn/T/ipykernel_41895/350906011.py:36: SettingWithCopyWarning: \n",
      "A value is trying to be set on a copy of a slice from a DataFrame.\n",
      "Try using .loc[row_indexer,col_indexer] = value instead\n",
      "\n",
      "See the caveats in the documentation: https://pandas.pydata.org/pandas-docs/stable/user_guide/indexing.html#returning-a-view-versus-a-copy\n",
      "  tmp[\"album_popularity_bin\"] = tmp.album_popularity.apply(lambda x: (x // 10) * 10)\n",
      "/var/folders/9q/nynv72513xz5vlp8cpcm790r0000gn/T/ipykernel_41895/350906011.py:37: SettingWithCopyWarning: \n",
      "A value is trying to be set on a copy of a slice from a DataFrame.\n",
      "Try using .loc[row_indexer,col_indexer] = value instead\n",
      "\n",
      "See the caveats in the documentation: https://pandas.pydata.org/pandas-docs/stable/user_guide/indexing.html#returning-a-view-versus-a-copy\n",
      "  tmp[\"artist_popularity_max_bin\"] = tmp.artist_popularity_max.apply(lambda x: (x // 10) * 10)\n"
     ]
    },
    {
     "data": {
      "text/html": [
       "<div>\n",
       "<style scoped>\n",
       "    .dataframe tbody tr th:only-of-type {\n",
       "        vertical-align: middle;\n",
       "    }\n",
       "\n",
       "    .dataframe tbody tr th {\n",
       "        vertical-align: top;\n",
       "    }\n",
       "\n",
       "    .dataframe thead tr th {\n",
       "        text-align: left;\n",
       "    }\n",
       "</style>\n",
       "<table border=\"1\" class=\"dataframe\">\n",
       "  <thead>\n",
       "    <tr>\n",
       "      <th>album_popularity_bin</th>\n",
       "      <th colspan=\"10\" halign=\"left\">30</th>\n",
       "      <th>...</th>\n",
       "      <th colspan=\"4\" halign=\"left\">70</th>\n",
       "      <th colspan=\"4\" halign=\"left\">80</th>\n",
       "      <th colspan=\"2\" halign=\"left\">90</th>\n",
       "    </tr>\n",
       "    <tr>\n",
       "      <th>artist_popularity_max_bin</th>\n",
       "      <th>0</th>\n",
       "      <th>10</th>\n",
       "      <th>20</th>\n",
       "      <th>30</th>\n",
       "      <th>40</th>\n",
       "      <th>50</th>\n",
       "      <th>60</th>\n",
       "      <th>70</th>\n",
       "      <th>80</th>\n",
       "      <th>90</th>\n",
       "      <th>...</th>\n",
       "      <th>70</th>\n",
       "      <th>80</th>\n",
       "      <th>90</th>\n",
       "      <th>100</th>\n",
       "      <th>60</th>\n",
       "      <th>70</th>\n",
       "      <th>80</th>\n",
       "      <th>90</th>\n",
       "      <th>70</th>\n",
       "      <th>80</th>\n",
       "    </tr>\n",
       "  </thead>\n",
       "  <tbody>\n",
       "    <tr>\n",
       "      <th>track_id</th>\n",
       "      <td>0.000064</td>\n",
       "      <td>0.014941</td>\n",
       "      <td>0.058821</td>\n",
       "      <td>0.071875</td>\n",
       "      <td>0.103509</td>\n",
       "      <td>0.104263</td>\n",
       "      <td>0.079908</td>\n",
       "      <td>0.043571</td>\n",
       "      <td>0.012518</td>\n",
       "      <td>0.000508</td>\n",
       "      <td>...</td>\n",
       "      <td>0.001852</td>\n",
       "      <td>0.001988</td>\n",
       "      <td>0.000526</td>\n",
       "      <td>0.000009</td>\n",
       "      <td>0.000054</td>\n",
       "      <td>0.000281</td>\n",
       "      <td>0.000354</td>\n",
       "      <td>0.000045</td>\n",
       "      <td>0.000009</td>\n",
       "      <td>0.000009</td>\n",
       "    </tr>\n",
       "  </tbody>\n",
       "</table>\n",
       "<p>1 rows × 51 columns</p>\n",
       "</div>"
      ],
      "text/plain": [
       "album_popularity_bin             30                                          \\\n",
       "artist_popularity_max_bin       0         10        20        30        40    \n",
       "track_id                   0.000064  0.014941  0.058821  0.071875  0.103509   \n",
       "\n",
       "album_popularity_bin                                                         \\\n",
       "artist_popularity_max_bin       50        60        70        80        90    \n",
       "track_id                   0.104263  0.079908  0.043571  0.012518  0.000508   \n",
       "\n",
       "album_popularity_bin       ...        70                                \\\n",
       "artist_popularity_max_bin  ...       70        80        90        100   \n",
       "track_id                   ...  0.001852  0.001988  0.000526  0.000009   \n",
       "\n",
       "album_popularity_bin             80                                      90  \\\n",
       "artist_popularity_max_bin       60        70        80        90        70    \n",
       "track_id                   0.000054  0.000281  0.000354  0.000045  0.000009   \n",
       "\n",
       "album_popularity_bin                 \n",
       "artist_popularity_max_bin       80   \n",
       "track_id                   0.000009  \n",
       "\n",
       "[1 rows x 51 columns]"
      ]
     },
     "metadata": {},
     "output_type": "display_data"
    },
    {
     "data": {
      "image/png": "[encoded data removed]",
      "text/plain": [
       "<Figure size 432x288 with 2 Axes>"
      ]
     },
     "metadata": {
      "needs_background": "light"
     },
     "output_type": "display_data"
    }
   ],
   "source": [
    "# cut the rows by release year(>= 2010) and album popularity(>= 30)\n",
    "source = joined_df.loc[joined_df.release_year_bin == 2010]\n",
    "print(f\"shape of df: {source.shape}\")\n",
    "print(f\"the number of unique track ids: {source.track_id.nunique()}\")\n",
    "source = source.loc[source.album_popularity >= 30]\n",
    "source.sort_values(by=[\"track_id\", \"album_id\"], inplace=True)\n",
    "\n",
    "print(f\"shape of df: {source.shape}\")\n",
    "print(f\"the number of unique track ids: {source.track_id.nunique()}\")\n",
    "\n",
    "# combine all genres\n",
    "grouped_genres = source.groupby([\"track_id\", \"artists_id\"])[\"genres\"].apply(list).reset_index(name=\"genres_combined\")\n",
    "grouped_genres[\"genres_combined\"] = grouped_genres.genres_combined.apply(lambda x: [j for i in x for j in i])\n",
    "grouped_genres[\"genres_combined\"] = grouped_genres.genres_combined.str.join(',')\n",
    "display(grouped_genres.head())\n",
    "\n",
    "# combine artist names\n",
    "grouped_artist_name = source.groupby([\"track_id\", \"artists_id\"])[\"artist_name\"].apply(list).reset_index(name=\"artist_name_combined\")\n",
    "grouped_artist_name[\"artist_name_combined\"] = grouped_artist_name.artist_name_combined.str.join(',')\n",
    "display(grouped_artist_name.head())\n",
    "\n",
    "# get maximum of aritsts popularity\n",
    "grouped_artist_popularity = source.groupby([\"track_id\", \"artists_id\"])[\"artist_popularity\"].apply(max).reset_index(name=\"artist_popularity_max\")\n",
    "display(grouped_artist_popularity.head())\n",
    "\n",
    "# join all the columns\n",
    "source = pd.merge(source, grouped_genres, how=\"left\", on=[\"track_id\", \"artists_id\"])\n",
    "source = pd.merge(source, grouped_artist_name, how=\"left\", on=[\"track_id\", \"artists_id\"])\n",
    "source = pd.merge(source, grouped_artist_popularity, how=\"left\", on=[\"track_id\", \"artists_id\"])\n",
    "\n",
    "display(source.head())\n",
    "\n",
    "# count songs by album_popularity and artist_popularity\n",
    "by = [\"album_popularity_bin\", \"artist_popularity_max_bin\"]\n",
    "tmp = source.drop_duplicates(subset=\"track_id\")\n",
    "tmp[\"album_popularity_bin\"] = tmp.album_popularity.apply(lambda x: (x // 10) * 10)\n",
    "tmp[\"artist_popularity_max_bin\"] = tmp.artist_popularity_max.apply(lambda x: (x // 10) * 10)\n",
    "\n",
    "grouped = tmp[[\"track_id\", \"album_popularity_bin\", \"artist_popularity_max_bin\"]].groupby(by=by).count().apply(lambda x: x / len(source))\n",
    "display(grouped.transpose())\n",
    "\n",
    "plot_heatmap(\n",
    "    groupby=grouped, \n",
    "    pivot_col=[\"album_popularity_bin\", \"artist_popularity_max_bin\", \"track_id\"],\n",
    "    title=\"heatmap of album_popularity and artist_popularity\"\n",
    ")"
   ]
  },
  {
   "attachments": {},
   "cell_type": "markdown",
   "metadata": {},
   "source": [
    "### 10) save the dataframe as a pickle (if the file exists, then do not save the file)"
   ]
  },
  {
   "cell_type": "code",
   "execution_count": 14,
   "metadata": {},
   "outputs": [
    {
     "name": "stdout",
     "output_type": "stream",
     "text": [
      "The file does not exist, so save the dataframes as pickles.\n"
     ]
    },
    {
     "name": "stderr",
     "output_type": "stream",
     "text": [
      "/var/folders/9q/nynv72513xz5vlp8cpcm790r0000gn/T/ipykernel_41895/3790700283.py:7: SettingWithCopyWarning: \n",
      "A value is trying to be set on a copy of a slice from a DataFrame\n",
      "\n",
      "See the caveats in the documentation: https://pandas.pydata.org/pandas-docs/stable/user_guide/indexing.html#returning-a-view-versus-a-copy\n",
      "  sample_df.drop_duplicates(subset=\"track_id\", inplace=True)\n"
     ]
    }
   ],
   "source": [
    "if os.path.isfile(pickle_path_tracks) and os.path.isfile(pickle_path_track_artist):\n",
    "    print(\"The file already exists!\")\n",
    "    \n",
    "else:\n",
    "    sample_col = [c for c in source.columns if c != \"artists_id\" and c != \"artist_id\" and c != \"artist_name\"]\n",
    "    sample_df = source[sample_col]\n",
    "    sample_df.drop_duplicates(subset=\"track_id\", inplace=True)\n",
    "    sample_df.to_pickle(pickle_path_tracks)\n",
    "    \n",
    "    track_artist = source[[\"track_id\", \"artist_id\", \"artist_name\"]]\n",
    "    track_artist.to_pickle(pickle_path_track_artist)\n",
    "    \n",
    "    print(\"The file does not exist, so save the dataframes as pickles.\")"
   ]
  },
  {
   "attachments": {},
   "cell_type": "markdown",
   "metadata": {},
   "source": [
    "### 11) plot histograms for sampled data"
   ]
  },
  {
   "cell_type": "code",
   "execution_count": 16,
   "metadata": {},
   "outputs": [
    {
     "name": "stdout",
     "output_type": "stream",
     "text": [
      "columns: release_year\n"
     ]
    },
    {
     "data": {
      "image/png": "[encoded data removed]",
      "text/plain": [
       "<Figure size 432x288 with 1 Axes>"
      ]
     },
     "metadata": {
      "needs_background": "light"
     },
     "output_type": "display_data"
    },
    {
     "name": "stdout",
     "output_type": "stream",
     "text": [
      "\n",
      "        bins   : [1960 1970 1980 1990 2000 2010 2020]\n",
      "        counts : [0, 0, 0, 0, 0, 89307]\n",
      "          \n",
      "columns: duration_m\n"
     ]
    },
    {
     "data": {
      "image/png": "[encoded data removed]",
      "text/plain": [
       "<Figure size 432x288 with 1 Axes>"
      ]
     },
     "metadata": {
      "needs_background": "light"
     },
     "output_type": "display_data"
    },
    {
     "name": "stdout",
     "output_type": "stream",
     "text": [
      "\n",
      "        bins   : [0 1 2 3 4 5 6 7]\n",
      "        counts : [442, 3075, 13399, 41736, 21261, 6467, 2625]\n",
      "          \n",
      "columns: album_popularity\n"
     ]
    },
    {
     "data": {
      "image/png": "[encoded data removed]",
      "text/plain": [
       "<Figure size 432x288 with 1 Axes>"
      ]
     },
     "metadata": {
      "needs_background": "light"
     },
     "output_type": "display_data"
    },
    {
     "name": "stdout",
     "output_type": "stream",
     "text": [
      "\n",
      "        bins   : [ 0 10 20 30 40 50 60 70 80 90]\n",
      "        counts : [0, 0, 0, 53985, 23657, 8443, 2534, 605, 81]\n",
      "          \n",
      "columns: artist_popularity_max\n"
     ]
    },
    {
     "data": {
      "image/png": "[encoded data removed]",
      "text/plain": [
       "<Figure size 432x288 with 1 Axes>"
      ]
     },
     "metadata": {
      "needs_background": "light"
     },
     "output_type": "display_data"
    },
    {
     "name": "stdout",
     "output_type": "stream",
     "text": [
      "\n",
      "        bins   : [ 0 10 20 30 40 50 60 70 80 90]\n",
      "        counts : [8, 1647, 7815, 10688, 17761, 18944, 16754, 10847, 4518]\n",
      "          \n",
      "columns: acousticness\n"
     ]
    },
    {
     "data": {
      "image/png": "[encoded data removed]",
      "text/plain": [
       "<Figure size 432x288 with 1 Axes>"
      ]
     },
     "metadata": {
      "needs_background": "light"
     },
     "output_type": "display_data"
    },
    {
     "name": "stdout",
     "output_type": "stream",
     "text": [
      "\n",
      "        bins   : [0.  0.1 0.2 0.3 0.4 0.5 0.6 0.7 0.8 0.9 1. ]\n",
      "        counts : [37079, 10661, 7404, 5779, 4960, 4487, 4379, 4282, 4649, 5627]\n",
      "          \n",
      "columns: danceability\n"
     ]
    },
    {
     "data": {
      "image/png": "[encoded data removed]",
      "text/plain": [
       "<Figure size 432x288 with 1 Axes>"
      ]
     },
     "metadata": {
      "needs_background": "light"
     },
     "output_type": "display_data"
    },
    {
     "name": "stdout",
     "output_type": "stream",
     "text": [
      "\n",
      "        bins   : [0.  0.1 0.2 0.3 0.4 0.5 0.6 0.7 0.8 0.9 1. ]\n",
      "        counts : [361, 1737, 3708, 7164, 13520, 19237, 19728, 15588, 7112, 1152]\n",
      "          \n",
      "columns: energy\n"
     ]
    },
    {
     "data": {
      "image/png": "[encoded data removed]",
      "text/plain": [
       "<Figure size 432x288 with 1 Axes>"
      ]
     },
     "metadata": {
      "needs_background": "light"
     },
     "output_type": "display_data"
    },
    {
     "name": "stdout",
     "output_type": "stream",
     "text": [
      "\n",
      "        bins   : [0.  0.1 0.2 0.3 0.4 0.5 0.6 0.7 0.8 0.9 1. ]\n",
      "        counts : [2265, 2979, 4133, 5876, 8745, 11355, 13464, 14257, 14742, 11491]\n",
      "          \n",
      "columns: instrumentalness\n"
     ]
    },
    {
     "data": {
      "image/png": "[encoded data removed]",
      "text/plain": [
       "<Figure size 432x288 with 1 Axes>"
      ]
     },
     "metadata": {
      "needs_background": "light"
     },
     "output_type": "display_data"
    },
    {
     "name": "stdout",
     "output_type": "stream",
     "text": [
      "\n",
      "        bins   : [0.  0.1 0.2 0.3 0.4 0.5 0.6 0.7 0.8 0.9 1. ]\n",
      "        counts : [72348, 1839, 1188, 975, 936, 1005, 1185, 1711, 4122, 3998]\n",
      "          \n",
      "columns: liveness\n"
     ]
    },
    {
     "data": {
      "image/png": "[encoded data removed]",
      "text/plain": [
       "<Figure size 432x288 with 1 Axes>"
      ]
     },
     "metadata": {
      "needs_background": "light"
     },
     "output_type": "display_data"
    },
    {
     "name": "stdout",
     "output_type": "stream",
     "text": [
      "\n",
      "        bins   : [0.  0.1 0.2 0.3 0.4 0.5 0.6 0.7 0.8 0.9 1. ]\n",
      "        counts : [24387, 36808, 10122, 9023, 2382, 1440, 1614, 1113, 880, 1538]\n",
      "          \n",
      "columns: loudness\n"
     ]
    },
    {
     "data": {
      "image/png": "[encoded data removed]",
      "text/plain": [
       "<Figure size 432x288 with 1 Axes>"
      ]
     },
     "metadata": {
      "needs_background": "light"
     },
     "output_type": "display_data"
    },
    {
     "name": "stdout",
     "output_type": "stream",
     "text": [
      "\n",
      "        bins   : [-60 -50 -40 -30 -20 -10   0  10]\n",
      "        counts : [15, 32, 317, 1999, 15143, 71774, 27]\n",
      "          \n",
      "columns: mode\n"
     ]
    },
    {
     "data": {
      "image/png": "[encoded data removed]",
      "text/plain": [
       "<Figure size 432x288 with 1 Axes>"
      ]
     },
     "metadata": {
      "needs_background": "light"
     },
     "output_type": "display_data"
    },
    {
     "name": "stdout",
     "output_type": "stream",
     "text": [
      "\n",
      "        bins   : [0 1 2]\n",
      "        counts : [33391, 55916]\n",
      "          \n",
      "columns: speechiness\n"
     ]
    },
    {
     "data": {
      "image/png": "[encoded data removed]",
      "text/plain": [
       "<Figure size 432x288 with 1 Axes>"
      ]
     },
     "metadata": {
      "needs_background": "light"
     },
     "output_type": "display_data"
    },
    {
     "name": "stdout",
     "output_type": "stream",
     "text": [
      "\n",
      "        bins   : [0.  0.1 0.2 0.3 0.4 0.5 0.6 0.7 0.8 0.9 1. ]\n",
      "        counts : [68175, 10767, 5488, 3127, 1180, 280, 89, 53, 51, 97]\n",
      "          \n",
      "columns: tempo\n"
     ]
    },
    {
     "data": {
      "image/png": "[encoded data removed]",
      "text/plain": [
       "<Figure size 432x288 with 1 Axes>"
      ]
     },
     "metadata": {
      "needs_background": "light"
     },
     "output_type": "display_data"
    },
    {
     "name": "stdout",
     "output_type": "stream",
     "text": [
      "\n",
      "        bins   : [  0  25  50  75 100 125 150 175 200 225]\n",
      "        counts : [84, 54, 2668, 21674, 25158, 24520, 10624, 4009, 516]\n",
      "          \n",
      "columns: time_signature\n"
     ]
    },
    {
     "data": {
      "image/png": "[encoded data removed]",
      "text/plain": [
       "<Figure size 432x288 with 1 Axes>"
      ]
     },
     "metadata": {
      "needs_background": "light"
     },
     "output_type": "display_data"
    },
    {
     "name": "stdout",
     "output_type": "stream",
     "text": [
      "\n",
      "        bins   : [0 1 2 3 4 5 6]\n",
      "        counts : [86, 708, 0, 7245, 79969, 1299]\n",
      "          \n",
      "columns: valence\n"
     ]
    },
    {
     "data": {
      "image/png": "[encoded data removed]",
      "text/plain": [
       "<Figure size 432x288 with 1 Axes>"
      ]
     },
     "metadata": {
      "needs_background": "light"
     },
     "output_type": "display_data"
    },
    {
     "name": "stdout",
     "output_type": "stream",
     "text": [
      "\n",
      "        bins   : [0.  0.1 0.2 0.3 0.4 0.5 0.6 0.7 0.8 0.9 1. ]\n",
      "        counts : [6020, 9371, 10957, 11953, 10785, 10460, 9457, 8232, 6838, 5234]\n",
      "          \n"
     ]
    }
   ],
   "source": [
    "col_list = [\n",
    "    \"release_year\",\n",
    "    \"duration_m\", \n",
    "    \"album_popularity\",\n",
    "    \"artist_popularity_max\",\n",
    "    \"acousticness\", \n",
    "    \"danceability\", \n",
    "    \"energy\", \n",
    "    \"instrumentalness\", \n",
    "    \"liveness\", \n",
    "    \"loudness\", \n",
    "    \"mode\", \n",
    "    \"speechiness\",\n",
    "    \"tempo\", \n",
    "    \"time_signature\", \n",
    "    \"valence\"\n",
    "    ]\n",
    "\n",
    "for col in col_list:\n",
    "    print(f\"columns: {col}\")\n",
    "    \n",
    "    if col in [\"acousticness\", \"danceability\", \"energy\", \"instrumentalness\", \"liveness\", \"speechiness\", \"valence\"]:\n",
    "        bins = list(np.arange(0, 1.1, 0.1))\n",
    "    elif col == \"duration_m\":\n",
    "        bins = range(0, 8, 1)\n",
    "    elif col in [\"album_popularity\", \"artist_popularity_max\"]:\n",
    "        bins = range(0, 100, 10)\n",
    "    elif col == \"loudness\":\n",
    "        bins = range(-60, 20, 10)\n",
    "    elif col == \"mode\":\n",
    "        bins = range(0, 3, 1)\n",
    "    elif col == \"tempo\":\n",
    "        bins = range(0, 250, 25)\n",
    "    elif col == \"time_signature\": \n",
    "        bins = range(0, 7, 1)\n",
    "    elif col == \"release_year\":\n",
    "        bins=range(1960, 2030, 10)\n",
    "        \n",
    "    counts, bins, patches = plot_histogram(\n",
    "                                sample_df[col].tolist(), \n",
    "                                title=f\"sampled {col} distribution\",\n",
    "                                bins=bins)\n",
    "    print(f\"\"\"\n",
    "        bins   : {bins}\n",
    "        counts : {list(map(int, counts))}\n",
    "          \"\"\")"
   ]
  }
 ],
 "metadata": {
  "kernelspec": {
   "display_name": "Python 3.9.7 ('jonginn_env1')",
   "language": "python",
   "name": "python3"
  },
  "language_info": {
   "codemirror_mode": {
    "name": "ipython",
    "version": 3
   },
   "file_extension": ".py",
   "mimetype": "text/x-python",
   "name": "python",
   "nbconvert_exporter": "python",
   "pygments_lexer": "ipython3",
   "version": "3.9.7"
  },
  "orig_nbformat": 4,
  "vscode": {
   "interpreter": {
    "hash": "bee9b2b551d711e13da88934ff05fe93d95401990bbf66bc6537b8f4ce428457"
   }
  }
 },
 "nbformat": 4,
 "nbformat_minor": 2
}

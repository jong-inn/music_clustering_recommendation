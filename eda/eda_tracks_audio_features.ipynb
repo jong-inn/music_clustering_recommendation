{
 "cells": [
  {
   "cell_type": "markdown",
   "metadata": {},
   "source": [
    "# __packages__"
   ]
  },
  {
   "cell_type": "code",
   "execution_count": 1,
   "metadata": {},
   "outputs": [],
   "source": [
    "import os\n",
    "import numpy as np\n",
    "import pandas as pd\n",
    "import seaborn as sns\n",
    "import matplotlib.pyplot as plt\n",
    "\n",
    "pickle_path = \"./sampled_data/sampled_data_200000.pickle\""
   ]
  },
  {
   "cell_type": "markdown",
   "metadata": {},
   "source": [
    "---\n",
    "# __functions__"
   ]
  },
  {
   "cell_type": "code",
   "execution_count": 2,
   "metadata": {},
   "outputs": [],
   "source": [
    "# plot function\n",
    "def plot_histogram(nums, title=None, bins=None):\n",
    "    fig, ax = plt.subplots()\n",
    "    if bins:\n",
    "        counts, bins, patches = ax.hist(nums, bins=bins, density=False)\n",
    "    else:\n",
    "        counts, bins, patches = ax.hist(nums, density=False)\n",
    "    \n",
    "    if title:\n",
    "        plt.title(title)\n",
    "    plt.show()\n",
    "    \n",
    "    return counts, bins, patches\n",
    "\n",
    "def plot_heatmap(groupby, pivot_col, title=None):\n",
    "    \n",
    "    assert type(pivot_col) == list and len(pivot_col) == 3\n",
    "    \n",
    "    groupby = groupby.reset_index()\n",
    "    groupby_pivoted = groupby.pivot(*pivot_col)\n",
    "    \n",
    "    if title:\n",
    "        sns.heatmap(groupby_pivoted, annot=True, fmt=\".4f\").set(title=title)\n",
    "    else:\n",
    "        sns.heatmap(groupby_pivoted, annot=True, fmt=\".4f\")"
   ]
  },
  {
   "cell_type": "markdown",
   "metadata": {},
   "source": [
    "---\n",
    "# __tracks__"
   ]
  },
  {
   "cell_type": "markdown",
   "metadata": {},
   "source": [
    "### 1) load tracks data and apply basic statistics\n",
    "### 2) remove outliers for duration"
   ]
  },
  {
   "cell_type": "code",
   "execution_count": 3,
   "metadata": {},
   "outputs": [
    {
     "name": "stdout",
     "output_type": "stream",
     "text": [
      "columns: \n",
      "track_id         object\n",
      "album_id         object\n",
      "artists_id       object\n",
      "disc_number       int64\n",
      "duration_ms       int64\n",
      "explicit           bool\n",
      "name             object\n",
      "popularity        int64\n",
      "track_number      int64\n",
      "duration_m      float64\n",
      "dtype: object\n",
      "\n",
      "track_id        0\n",
      "album_id        0\n",
      "artists_id      0\n",
      "disc_number     0\n",
      "duration_ms     0\n",
      "explicit        0\n",
      "name            0\n",
      "popularity      0\n",
      "track_number    0\n",
      "duration_m      0\n",
      "dtype: int64\n"
     ]
    },
    {
     "data": {
      "text/html": [
       "<div>\n",
       "<style scoped>\n",
       "    .dataframe tbody tr th:only-of-type {\n",
       "        vertical-align: middle;\n",
       "    }\n",
       "\n",
       "    .dataframe tbody tr th {\n",
       "        vertical-align: top;\n",
       "    }\n",
       "\n",
       "    .dataframe thead th {\n",
       "        text-align: right;\n",
       "    }\n",
       "</style>\n",
       "<table border=\"1\" class=\"dataframe\">\n",
       "  <thead>\n",
       "    <tr style=\"text-align: right;\">\n",
       "      <th></th>\n",
       "      <th>disc_number</th>\n",
       "      <th>duration_ms</th>\n",
       "      <th>popularity</th>\n",
       "      <th>track_number</th>\n",
       "      <th>duration_m</th>\n",
       "    </tr>\n",
       "  </thead>\n",
       "  <tbody>\n",
       "    <tr>\n",
       "      <th>count</th>\n",
       "      <td>2.261596e+06</td>\n",
       "      <td>2.261596e+06</td>\n",
       "      <td>2.261596e+06</td>\n",
       "      <td>2.261596e+06</td>\n",
       "      <td>2.261596e+06</td>\n",
       "    </tr>\n",
       "    <tr>\n",
       "      <th>mean</th>\n",
       "      <td>1.046621e+00</td>\n",
       "      <td>2.475613e+05</td>\n",
       "      <td>1.337959e+01</td>\n",
       "      <td>6.898943e+00</td>\n",
       "      <td>4.126022e+00</td>\n",
       "    </tr>\n",
       "    <tr>\n",
       "      <th>std</th>\n",
       "      <td>4.637556e-01</td>\n",
       "      <td>1.675031e+05</td>\n",
       "      <td>1.391398e+01</td>\n",
       "      <td>7.599731e+00</td>\n",
       "      <td>2.791718e+00</td>\n",
       "    </tr>\n",
       "    <tr>\n",
       "      <th>min</th>\n",
       "      <td>1.000000e+00</td>\n",
       "      <td>0.000000e+00</td>\n",
       "      <td>0.000000e+00</td>\n",
       "      <td>1.000000e+00</td>\n",
       "      <td>0.000000e+00</td>\n",
       "    </tr>\n",
       "    <tr>\n",
       "      <th>25%</th>\n",
       "      <td>1.000000e+00</td>\n",
       "      <td>1.842000e+05</td>\n",
       "      <td>1.000000e+00</td>\n",
       "      <td>2.000000e+00</td>\n",
       "      <td>3.070000e+00</td>\n",
       "    </tr>\n",
       "    <tr>\n",
       "      <th>50%</th>\n",
       "      <td>1.000000e+00</td>\n",
       "      <td>2.252270e+05</td>\n",
       "      <td>9.000000e+00</td>\n",
       "      <td>5.000000e+00</td>\n",
       "      <td>3.753783e+00</td>\n",
       "    </tr>\n",
       "    <tr>\n",
       "      <th>75%</th>\n",
       "      <td>1.000000e+00</td>\n",
       "      <td>2.782560e+05</td>\n",
       "      <td>2.100000e+01</td>\n",
       "      <td>9.000000e+00</td>\n",
       "      <td>4.637600e+00</td>\n",
       "    </tr>\n",
       "    <tr>\n",
       "      <th>95%</th>\n",
       "      <td>1.000000e+00</td>\n",
       "      <td>4.329362e+05</td>\n",
       "      <td>4.100000e+01</td>\n",
       "      <td>1.800000e+01</td>\n",
       "      <td>7.215604e+00</td>\n",
       "    </tr>\n",
       "    <tr>\n",
       "      <th>max</th>\n",
       "      <td>5.200000e+01</td>\n",
       "      <td>2.074458e+07</td>\n",
       "      <td>9.200000e+01</td>\n",
       "      <td>5.460000e+02</td>\n",
       "      <td>3.457429e+02</td>\n",
       "    </tr>\n",
       "  </tbody>\n",
       "</table>\n",
       "</div>"
      ],
      "text/plain": [
       "        disc_number   duration_ms    popularity  track_number    duration_m\n",
       "count  2.261596e+06  2.261596e+06  2.261596e+06  2.261596e+06  2.261596e+06\n",
       "mean   1.046621e+00  2.475613e+05  1.337959e+01  6.898943e+00  4.126022e+00\n",
       "std    4.637556e-01  1.675031e+05  1.391398e+01  7.599731e+00  2.791718e+00\n",
       "min    1.000000e+00  0.000000e+00  0.000000e+00  1.000000e+00  0.000000e+00\n",
       "25%    1.000000e+00  1.842000e+05  1.000000e+00  2.000000e+00  3.070000e+00\n",
       "50%    1.000000e+00  2.252270e+05  9.000000e+00  5.000000e+00  3.753783e+00\n",
       "75%    1.000000e+00  2.782560e+05  2.100000e+01  9.000000e+00  4.637600e+00\n",
       "95%    1.000000e+00  4.329362e+05  4.100000e+01  1.800000e+01  7.215604e+00\n",
       "max    5.200000e+01  2.074458e+07  9.200000e+01  5.460000e+02  3.457429e+02"
      ]
     },
     "execution_count": 3,
     "metadata": {},
     "output_type": "execute_result"
    }
   ],
   "source": [
    "from spotify_tracks_preprocess import pre_processed_df\n",
    "\n",
    "# load data\n",
    "tracks = pre_processed_df()\n",
    "tracks[\"duration_m\"] = tracks.duration_ms.apply(lambda x: x / 60000)\n",
    "print(f\"columns: \\n{tracks.dtypes}\")\n",
    "print()\n",
    "print(tracks.isna().sum())\n",
    "\n",
    "# basic statistics\n",
    "stat = tracks.describe(percentiles=[.25, .5, .75, .95])\n",
    "stat"
   ]
  },
  {
   "cell_type": "code",
   "execution_count": 4,
   "metadata": {},
   "outputs": [
    {
     "name": "stdout",
     "output_type": "stream",
     "text": [
      "before shape: (2261596, 10)\n",
      "after shape: (2148516, 10)\n"
     ]
    }
   ],
   "source": [
    "# remove outliers for duration\n",
    "print(f\"before shape: {tracks.shape}\")\n",
    "tracks = tracks.loc[tracks.duration_m <= stat.loc[\"95%\", \"duration_m\"]]\n",
    "\n",
    "print(f\"after shape: {tracks.shape}\")"
   ]
  },
  {
   "cell_type": "markdown",
   "metadata": {},
   "source": [
    "### 3) plotting by columns"
   ]
  },
  {
   "cell_type": "code",
   "execution_count": 5,
   "metadata": {},
   "outputs": [
    {
     "name": "stdout",
     "output_type": "stream",
     "text": [
      "columns: duration_m\n"
     ]
    },
    {
     "data": {
      "image/png": "[encoded data removed]",
      "text/plain": [
       "<Figure size 432x288 with 1 Axes>"
      ]
     },
     "metadata": {
      "needs_background": "light"
     },
     "output_type": "display_data"
    },
    {
     "name": "stdout",
     "output_type": "stream",
     "text": [
      "\n",
      "        bins   : [0 1 2 3 4 5 6 7]\n",
      "        counts : [28967, 100894, 386072, 809607, 503354, 204336, 100663]\n",
      "          \n",
      "columns: popularity\n"
     ]
    },
    {
     "data": {
      "image/png": "[encoded data removed]",
      "text/plain": [
       "<Figure size 432x288 with 1 Axes>"
      ]
     },
     "metadata": {
      "needs_background": "light"
     },
     "output_type": "display_data"
    },
    {
     "name": "stdout",
     "output_type": "stream",
     "text": [
      "\n",
      "        bins   : [ 0 10 20 30 40 50 60 70 80 90]\n",
      "        counts : [1073711, 458903, 301999, 183762, 84647, 32767, 10130, 2314, 280]\n",
      "          \n"
     ]
    }
   ],
   "source": [
    "col_list = [\"duration_m\", \"popularity\"]\n",
    "\n",
    "for col in col_list:\n",
    "    print(f\"columns: {col}\")\n",
    "\n",
    "    if col == \"duration_m\":\n",
    "        bins = range(0, 8, 1)\n",
    "    elif col == \"popularity\":\n",
    "        bins = range(0, 100, 10)\n",
    "        \n",
    "    counts, bins, patches = plot_histogram(\n",
    "                                tracks[col].tolist(), \n",
    "                                title=f\"{col} distribution\",\n",
    "                                bins=bins\n",
    "                            )\n",
    "    print(f\"\"\"\n",
    "        bins   : {bins}\n",
    "        counts : {list(map(int, counts))}\n",
    "          \"\"\")\n"
   ]
  },
  {
   "cell_type": "markdown",
   "metadata": {},
   "source": [
    "---\n",
    "# __audio-features__"
   ]
  },
  {
   "cell_type": "markdown",
   "metadata": {},
   "source": [
    "### 1) load audio-features data and apply basic statistics"
   ]
  },
  {
   "cell_type": "code",
   "execution_count": 6,
   "metadata": {},
   "outputs": [
    {
     "name": "stdout",
     "output_type": "stream",
     "text": [
      "columns: \n",
      "track_id             object\n",
      "acousticness        float64\n",
      "danceability        float64\n",
      "energy              float64\n",
      "instrumentalness    float64\n",
      "liveness            float64\n",
      "loudness            float64\n",
      "mode                  int64\n",
      "speechiness         float64\n",
      "tempo               float64\n",
      "time_signature        int64\n",
      "valence             float64\n",
      "dtype: object\n",
      "\n",
      "track_id            0\n",
      "acousticness        0\n",
      "danceability        0\n",
      "energy              0\n",
      "instrumentalness    0\n",
      "liveness            0\n",
      "loudness            0\n",
      "mode                0\n",
      "speechiness         0\n",
      "tempo               0\n",
      "time_signature      0\n",
      "valence             0\n",
      "dtype: int64\n"
     ]
    },
    {
     "data": {
      "text/html": [
       "<div>\n",
       "<style scoped>\n",
       "    .dataframe tbody tr th:only-of-type {\n",
       "        vertical-align: middle;\n",
       "    }\n",
       "\n",
       "    .dataframe tbody tr th {\n",
       "        vertical-align: top;\n",
       "    }\n",
       "\n",
       "    .dataframe thead th {\n",
       "        text-align: right;\n",
       "    }\n",
       "</style>\n",
       "<table border=\"1\" class=\"dataframe\">\n",
       "  <thead>\n",
       "    <tr style=\"text-align: right;\">\n",
       "      <th></th>\n",
       "      <th>acousticness</th>\n",
       "      <th>danceability</th>\n",
       "      <th>energy</th>\n",
       "      <th>instrumentalness</th>\n",
       "      <th>liveness</th>\n",
       "      <th>loudness</th>\n",
       "      <th>mode</th>\n",
       "      <th>speechiness</th>\n",
       "      <th>tempo</th>\n",
       "      <th>time_signature</th>\n",
       "      <th>valence</th>\n",
       "    </tr>\n",
       "  </thead>\n",
       "  <tbody>\n",
       "    <tr>\n",
       "      <th>count</th>\n",
       "      <td>2.262191e+06</td>\n",
       "      <td>2.262191e+06</td>\n",
       "      <td>2.262191e+06</td>\n",
       "      <td>2.262191e+06</td>\n",
       "      <td>2.262191e+06</td>\n",
       "      <td>2.262191e+06</td>\n",
       "      <td>2.262191e+06</td>\n",
       "      <td>2.262191e+06</td>\n",
       "      <td>2.262191e+06</td>\n",
       "      <td>2.262191e+06</td>\n",
       "      <td>2.262191e+06</td>\n",
       "    </tr>\n",
       "    <tr>\n",
       "      <th>mean</th>\n",
       "      <td>3.547740e-01</td>\n",
       "      <td>5.504296e-01</td>\n",
       "      <td>5.848759e-01</td>\n",
       "      <td>2.208220e-01</td>\n",
       "      <td>2.091071e-01</td>\n",
       "      <td>-9.660528e+00</td>\n",
       "      <td>6.549779e-01</td>\n",
       "      <td>8.923351e-02</td>\n",
       "      <td>1.199894e+02</td>\n",
       "      <td>3.879917e+00</td>\n",
       "      <td>4.757061e-01</td>\n",
       "    </tr>\n",
       "    <tr>\n",
       "      <th>std</th>\n",
       "      <td>3.543964e-01</td>\n",
       "      <td>1.845300e-01</td>\n",
       "      <td>2.660167e-01</td>\n",
       "      <td>3.494054e-01</td>\n",
       "      <td>1.898148e-01</td>\n",
       "      <td>5.626076e+00</td>\n",
       "      <td>4.753756e-01</td>\n",
       "      <td>1.152086e-01</td>\n",
       "      <td>2.992179e+01</td>\n",
       "      <td>4.720420e-01</td>\n",
       "      <td>2.699766e-01</td>\n",
       "    </tr>\n",
       "    <tr>\n",
       "      <th>min</th>\n",
       "      <td>0.000000e+00</td>\n",
       "      <td>0.000000e+00</td>\n",
       "      <td>0.000000e+00</td>\n",
       "      <td>0.000000e+00</td>\n",
       "      <td>0.000000e+00</td>\n",
       "      <td>-6.000000e+01</td>\n",
       "      <td>0.000000e+00</td>\n",
       "      <td>0.000000e+00</td>\n",
       "      <td>0.000000e+00</td>\n",
       "      <td>0.000000e+00</td>\n",
       "      <td>0.000000e+00</td>\n",
       "    </tr>\n",
       "    <tr>\n",
       "      <th>25%</th>\n",
       "      <td>2.220000e-02</td>\n",
       "      <td>4.270000e-01</td>\n",
       "      <td>3.890000e-01</td>\n",
       "      <td>0.000000e+00</td>\n",
       "      <td>9.570000e-02</td>\n",
       "      <td>-1.191000e+01</td>\n",
       "      <td>0.000000e+00</td>\n",
       "      <td>3.540000e-02</td>\n",
       "      <td>9.693900e+01</td>\n",
       "      <td>4.000000e+00</td>\n",
       "      <td>2.470000e-01</td>\n",
       "    </tr>\n",
       "    <tr>\n",
       "      <th>50%</th>\n",
       "      <td>2.150000e-01</td>\n",
       "      <td>5.650000e-01</td>\n",
       "      <td>6.220000e-01</td>\n",
       "      <td>6.030000e-04</td>\n",
       "      <td>1.280000e-01</td>\n",
       "      <td>-8.176000e+00</td>\n",
       "      <td>1.000000e+00</td>\n",
       "      <td>4.700000e-02</td>\n",
       "      <td>1.200070e+02</td>\n",
       "      <td>4.000000e+00</td>\n",
       "      <td>4.660000e-01</td>\n",
       "    </tr>\n",
       "    <tr>\n",
       "      <th>75%</th>\n",
       "      <td>6.910000e-01</td>\n",
       "      <td>6.890000e-01</td>\n",
       "      <td>8.090000e-01</td>\n",
       "      <td>4.210000e-01</td>\n",
       "      <td>2.640000e-01</td>\n",
       "      <td>-5.826000e+00</td>\n",
       "      <td>1.000000e+00</td>\n",
       "      <td>8.380000e-02</td>\n",
       "      <td>1.380530e+02</td>\n",
       "      <td>4.000000e+00</td>\n",
       "      <td>6.970000e-01</td>\n",
       "    </tr>\n",
       "    <tr>\n",
       "      <th>max</th>\n",
       "      <td>9.960000e-01</td>\n",
       "      <td>9.960000e-01</td>\n",
       "      <td>1.000000e+00</td>\n",
       "      <td>1.000000e+00</td>\n",
       "      <td>1.000000e+00</td>\n",
       "      <td>4.923000e+00</td>\n",
       "      <td>1.000000e+00</td>\n",
       "      <td>9.710000e-01</td>\n",
       "      <td>2.499870e+02</td>\n",
       "      <td>5.000000e+00</td>\n",
       "      <td>1.000000e+00</td>\n",
       "    </tr>\n",
       "  </tbody>\n",
       "</table>\n",
       "</div>"
      ],
      "text/plain": [
       "       acousticness  danceability        energy  instrumentalness  \\\n",
       "count  2.262191e+06  2.262191e+06  2.262191e+06      2.262191e+06   \n",
       "mean   3.547740e-01  5.504296e-01  5.848759e-01      2.208220e-01   \n",
       "std    3.543964e-01  1.845300e-01  2.660167e-01      3.494054e-01   \n",
       "min    0.000000e+00  0.000000e+00  0.000000e+00      0.000000e+00   \n",
       "25%    2.220000e-02  4.270000e-01  3.890000e-01      0.000000e+00   \n",
       "50%    2.150000e-01  5.650000e-01  6.220000e-01      6.030000e-04   \n",
       "75%    6.910000e-01  6.890000e-01  8.090000e-01      4.210000e-01   \n",
       "max    9.960000e-01  9.960000e-01  1.000000e+00      1.000000e+00   \n",
       "\n",
       "           liveness      loudness          mode   speechiness         tempo  \\\n",
       "count  2.262191e+06  2.262191e+06  2.262191e+06  2.262191e+06  2.262191e+06   \n",
       "mean   2.091071e-01 -9.660528e+00  6.549779e-01  8.923351e-02  1.199894e+02   \n",
       "std    1.898148e-01  5.626076e+00  4.753756e-01  1.152086e-01  2.992179e+01   \n",
       "min    0.000000e+00 -6.000000e+01  0.000000e+00  0.000000e+00  0.000000e+00   \n",
       "25%    9.570000e-02 -1.191000e+01  0.000000e+00  3.540000e-02  9.693900e+01   \n",
       "50%    1.280000e-01 -8.176000e+00  1.000000e+00  4.700000e-02  1.200070e+02   \n",
       "75%    2.640000e-01 -5.826000e+00  1.000000e+00  8.380000e-02  1.380530e+02   \n",
       "max    1.000000e+00  4.923000e+00  1.000000e+00  9.710000e-01  2.499870e+02   \n",
       "\n",
       "       time_signature       valence  \n",
       "count    2.262191e+06  2.262191e+06  \n",
       "mean     3.879917e+00  4.757061e-01  \n",
       "std      4.720420e-01  2.699766e-01  \n",
       "min      0.000000e+00  0.000000e+00  \n",
       "25%      4.000000e+00  2.470000e-01  \n",
       "50%      4.000000e+00  4.660000e-01  \n",
       "75%      4.000000e+00  6.970000e-01  \n",
       "max      5.000000e+00  1.000000e+00  "
      ]
     },
     "execution_count": 6,
     "metadata": {},
     "output_type": "execute_result"
    }
   ],
   "source": [
    "from spotify_audio_features_preprocess import pre_processed_df\n",
    "\n",
    "# load data\n",
    "audio_features = pre_processed_df()\n",
    "print(f\"columns: \\n{audio_features.dtypes}\")\n",
    "print()\n",
    "print(audio_features.isna().sum())\n",
    "\n",
    "stat = audio_features.describe()\n",
    "stat"
   ]
  },
  {
   "cell_type": "markdown",
   "metadata": {},
   "source": [
    "### 2) plotting by columns"
   ]
  },
  {
   "cell_type": "code",
   "execution_count": 7,
   "metadata": {},
   "outputs": [
    {
     "name": "stdout",
     "output_type": "stream",
     "text": [
      "columns: acousticness\n"
     ]
    },
    {
     "data": {
      "image/png": "[encoded data removed]",
      "text/plain": [
       "<Figure size 432x288 with 1 Axes>"
      ]
     },
     "metadata": {
      "needs_background": "light"
     },
     "output_type": "display_data"
    },
    {
     "name": "stdout",
     "output_type": "stream",
     "text": [
      "\n",
      "        bins   : [0.  0.1 0.2 0.3 0.4 0.5 0.6 0.7 0.8 0.9 1. ]\n",
      "        counts : [890537, 214072, 153003, 122124, 109713, 107108, 111217, 124646, 153876, 275895]\n",
      "          \n",
      "columns: danceability\n"
     ]
    },
    {
     "data": {
      "image/png": "[encoded data removed]",
      "text/plain": [
       "<Figure size 432x288 with 1 Axes>"
      ]
     },
     "metadata": {
      "needs_background": "light"
     },
     "output_type": "display_data"
    },
    {
     "name": "stdout",
     "output_type": "stream",
     "text": [
      "\n",
      "        bins   : [0.  0.1 0.2 0.3 0.4 0.5 0.6 0.7 0.8 0.9 1. ]\n",
      "        counts : [18090, 76886, 149794, 234752, 358519, 458618, 447122, 339468, 155488, 23454]\n",
      "          \n",
      "columns: energy\n"
     ]
    },
    {
     "data": {
      "image/png": "[encoded data removed]",
      "text/plain": [
       "<Figure size 432x288 with 1 Axes>"
      ]
     },
     "metadata": {
      "needs_background": "light"
     },
     "output_type": "display_data"
    },
    {
     "name": "stdout",
     "output_type": "stream",
     "text": [
      "\n",
      "        bins   : [0.  0.1 0.2 0.3 0.4 0.5 0.6 0.7 0.8 0.9 1. ]\n",
      "        counts : [118218, 132340, 155959, 179762, 226047, 263194, 288838, 301902, 316847, 279084]\n",
      "          \n",
      "columns: instrumentalness\n"
     ]
    },
    {
     "data": {
      "image/png": "[encoded data removed]",
      "text/plain": [
       "<Figure size 432x288 with 1 Axes>"
      ]
     },
     "metadata": {
      "needs_background": "light"
     },
     "output_type": "display_data"
    },
    {
     "name": "stdout",
     "output_type": "stream",
     "text": [
      "\n",
      "        bins   : [0.  0.1 0.2 0.3 0.4 0.5 0.6 0.7 0.8 0.9 1. ]\n",
      "        counts : [1540961, 64172, 45327, 38185, 37449, 40944, 51126, 81613, 197796, 164618]\n",
      "          \n",
      "columns: liveness\n"
     ]
    },
    {
     "data": {
      "image/png": "[encoded data removed]",
      "text/plain": [
       "<Figure size 432x288 with 1 Axes>"
      ]
     },
     "metadata": {
      "needs_background": "light"
     },
     "output_type": "display_data"
    },
    {
     "name": "stdout",
     "output_type": "stream",
     "text": [
      "\n",
      "        bins   : [0.  0.1 0.2 0.3 0.4 0.5 0.6 0.7 0.8 0.9 1. ]\n",
      "        counts : [643705, 882672, 258940, 229404, 61913, 39516, 48563, 33730, 24144, 39604]\n",
      "          \n",
      "columns: loudness\n"
     ]
    },
    {
     "data": {
      "image/png": "[encoded data removed]",
      "text/plain": [
       "<Figure size 432x288 with 1 Axes>"
      ]
     },
     "metadata": {
      "needs_background": "light"
     },
     "output_type": "display_data"
    },
    {
     "name": "stdout",
     "output_type": "stream",
     "text": [
      "\n",
      "        bins   : [-60 -50 -40 -30 -20 -10   0  10]\n",
      "        counts : [281, 1428, 16952, 120776, 666086, 1455721, 947]\n",
      "          \n",
      "columns: mode\n"
     ]
    },
    {
     "data": {
      "image/png": "[encoded data removed]",
      "text/plain": [
       "<Figure size 432x288 with 1 Axes>"
      ]
     },
     "metadata": {
      "needs_background": "light"
     },
     "output_type": "display_data"
    },
    {
     "name": "stdout",
     "output_type": "stream",
     "text": [
      "\n",
      "        bins   : [0 1 2]\n",
      "        counts : [780506, 1481685]\n",
      "          \n",
      "columns: speechiness\n"
     ]
    },
    {
     "data": {
      "image/png": "[encoded data removed]",
      "text/plain": [
       "<Figure size 432x288 with 1 Axes>"
      ]
     },
     "metadata": {
      "needs_background": "light"
     },
     "output_type": "display_data"
    },
    {
     "name": "stdout",
     "output_type": "stream",
     "text": [
      "\n",
      "        bins   : [0.  0.1 0.2 0.3 0.4 0.5 0.6 0.7 0.8 0.9 1. ]\n",
      "        counts : [1789530, 236626, 111162, 67750, 27350, 8175, 3025, 2351, 4338, 11884]\n",
      "          \n",
      "columns: tempo\n"
     ]
    },
    {
     "data": {
      "image/png": "[encoded data removed]",
      "text/plain": [
       "<Figure size 432x288 with 1 Axes>"
      ]
     },
     "metadata": {
      "needs_background": "light"
     },
     "output_type": "display_data"
    },
    {
     "name": "stdout",
     "output_type": "stream",
     "text": [
      "\n",
      "        bins   : [  0  25  50  75 100 125 150 175 200 225]\n",
      "        counts : [3152, 2150, 87349, 554934, 647775, 622737, 235432, 94565, 13969]\n",
      "          \n",
      "columns: time_signature\n"
     ]
    },
    {
     "data": {
      "image/png": "[encoded data removed]",
      "text/plain": [
       "<Figure size 432x288 with 1 Axes>"
      ]
     },
     "metadata": {
      "needs_background": "light"
     },
     "output_type": "display_data"
    },
    {
     "name": "stdout",
     "output_type": "stream",
     "text": [
      "\n",
      "        bins   : [0 1 2 3 4 5 6]\n",
      "        counts : [3206, 23827, 0, 229148, 1964207, 41803]\n",
      "          \n",
      "columns: valence\n"
     ]
    },
    {
     "data": {
      "image/png": "[encoded data removed]",
      "text/plain": [
       "<Figure size 432x288 with 1 Axes>"
      ]
     },
     "metadata": {
      "needs_background": "light"
     },
     "output_type": "display_data"
    },
    {
     "name": "stdout",
     "output_type": "stream",
     "text": [
      "\n",
      "        bins   : [0.  0.1 0.2 0.3 0.4 0.5 0.6 0.7 0.8 0.9 1. ]\n",
      "        counts : [202438, 243270, 251219, 272108, 247398, 253887, 234782, 211567, 190046, 155476]\n",
      "          \n"
     ]
    }
   ],
   "source": [
    "col_list = [\n",
    "    \"acousticness\", \n",
    "    \"danceability\", \n",
    "    \"energy\", \n",
    "    \"instrumentalness\", \n",
    "    \"liveness\", \n",
    "    \"loudness\", \n",
    "    \"mode\", \n",
    "    \"speechiness\",\n",
    "    \"tempo\", \n",
    "    \"time_signature\", \n",
    "    \"valence\"\n",
    "    ]\n",
    "\n",
    "for col in col_list:\n",
    "    print(f\"columns: {col}\")\n",
    "    \n",
    "    if col in [\"acousticness\", \"danceability\", \"energy\", \"instrumentalness\", \"liveness\", \"speechiness\", \"valence\"]:\n",
    "        bins = list(np.arange(0, 1.1, 0.1))\n",
    "    elif col == \"loudness\":\n",
    "        bins = range(-60, 20, 10)\n",
    "    elif col == \"mode\":\n",
    "        bins = range(0, 3, 1)\n",
    "    elif col == \"tempo\":\n",
    "        bins = range(0, 250, 25)\n",
    "    elif col == \"time_signature\": \n",
    "        bins = range(0, 7, 1)\n",
    "        \n",
    "    counts, bins, patches = plot_histogram(\n",
    "                                audio_features[col].tolist(), \n",
    "                                title=f\"{col} distribution\",\n",
    "                                bins=bins)\n",
    "    print(f\"\"\"\n",
    "        bins   : {bins}\n",
    "        counts : {list(map(int, counts))}\n",
    "          \"\"\")\n"
   ]
  },
  {
   "cell_type": "markdown",
   "metadata": {},
   "source": [
    "---\n",
    "# __join tracks, albums, audio-features__"
   ]
  },
  {
   "cell_type": "markdown",
   "metadata": {},
   "source": [
    "### 1) load ablums data\n",
    "### 2) remove null rows from albums data"
   ]
  },
  {
   "cell_type": "code",
   "execution_count": 8,
   "metadata": {},
   "outputs": [
    {
     "name": "stdout",
     "output_type": "stream",
     "text": [
      "album_type       274\n",
      "artists_id       274\n",
      "copyrights       274\n",
      "genres           274\n",
      "id               274\n",
      "label           1455\n",
      "name             274\n",
      "popularity       274\n",
      "release_date     274\n",
      "total_tracks     274\n",
      "track_ids        274\n",
      "dtype: int64\n",
      "columns: \n",
      "Index(['album_type', 'artists_id', 'copyrights', 'genres', 'id', 'label',\n",
      "       'name', 'popularity', 'release_date', 'total_tracks', 'track_ids'],\n",
      "      dtype='object')\n",
      "shape: (845511, 11)\n"
     ]
    }
   ],
   "source": [
    "album_file_path = \"./album_table.csv\"\n",
    "albums = pd.read_csv(album_file_path)\n",
    "albums[\"id\"] = albums.id.str.strip()\n",
    "albums[\"release_date\"] = albums.release_date.str.strip()\n",
    "print(albums.isna().sum())\n",
    "\n",
    "albums = albums.loc[albums.id.notna()]\n",
    "\n",
    "print(f\"columns: \\n{albums.columns}\")\n",
    "print(f\"shape: {albums.shape}\")\n"
   ]
  },
  {
   "cell_type": "markdown",
   "metadata": {},
   "source": [
    "### 3) drop duplicates from albums data"
   ]
  },
  {
   "cell_type": "code",
   "execution_count": 9,
   "metadata": {},
   "outputs": [
    {
     "name": "stdout",
     "output_type": "stream",
     "text": [
      "unique id: 577186\n",
      "duplicated rows: 229942\n",
      "577186 + 229942 = 807128\n"
     ]
    }
   ],
   "source": [
    "print(f\"unique id: {len(albums.id.unique())}\")\n",
    "print(f\"duplicated rows: {albums.duplicated().sum()}\")\n",
    "print(f\"{len(albums.id.unique())} + {albums.duplicated().sum()} = {len(albums.id.unique())+albums.duplicated().sum()}\")\n",
    "\n",
    "albums = albums.drop_duplicates(subset=\"id\")"
   ]
  },
  {
   "cell_type": "markdown",
   "metadata": {},
   "source": [
    "### 4) combine with tracks, audio-features data\n",
    "### 5) plot histogram by release year"
   ]
  },
  {
   "cell_type": "code",
   "execution_count": 10,
   "metadata": {},
   "outputs": [
    {
     "name": "stdout",
     "output_type": "stream",
     "text": [
      "tracks shape                      : (2148516, 10)\n",
      "albums shape                      : (577186, 11)\n",
      "audio-features shape              : (2262191, 12)\n",
      "tracks and albums                 : (1912614, 11)\n",
      "tracks, albums, and audio-features: (1281893, 24)\n"
     ]
    },
    {
     "data": {
      "text/html": [
       "<div>\n",
       "<style scoped>\n",
       "    .dataframe tbody tr th:only-of-type {\n",
       "        vertical-align: middle;\n",
       "    }\n",
       "\n",
       "    .dataframe tbody tr th {\n",
       "        vertical-align: top;\n",
       "    }\n",
       "\n",
       "    .dataframe thead th {\n",
       "        text-align: right;\n",
       "    }\n",
       "</style>\n",
       "<table border=\"1\" class=\"dataframe\">\n",
       "  <thead>\n",
       "    <tr style=\"text-align: right;\">\n",
       "      <th></th>\n",
       "      <th>track_id</th>\n",
       "      <th>album_id</th>\n",
       "      <th>artists_id</th>\n",
       "      <th>disc_number</th>\n",
       "      <th>duration_ms</th>\n",
       "      <th>explicit</th>\n",
       "      <th>name</th>\n",
       "      <th>popularity</th>\n",
       "      <th>track_number</th>\n",
       "      <th>duration_m</th>\n",
       "      <th>...</th>\n",
       "      <th>danceability</th>\n",
       "      <th>energy</th>\n",
       "      <th>instrumentalness</th>\n",
       "      <th>liveness</th>\n",
       "      <th>loudness</th>\n",
       "      <th>mode</th>\n",
       "      <th>speechiness</th>\n",
       "      <th>tempo</th>\n",
       "      <th>time_signature</th>\n",
       "      <th>valence</th>\n",
       "    </tr>\n",
       "  </thead>\n",
       "  <tbody>\n",
       "    <tr>\n",
       "      <th>0</th>\n",
       "      <td>5iYe4mt1bf1KVzVM8EY6y8</td>\n",
       "      <td>3ruxxNJfKwSeghjqG6JL3y</td>\n",
       "      <td>0r0R5nIjDY04TfxRM10Bcb</td>\n",
       "      <td>1</td>\n",
       "      <td>228213</td>\n",
       "      <td>True</td>\n",
       "      <td>Du bist schön</td>\n",
       "      <td>61</td>\n",
       "      <td>19</td>\n",
       "      <td>3.803550</td>\n",
       "      <td>...</td>\n",
       "      <td>0.672</td>\n",
       "      <td>0.676</td>\n",
       "      <td>0.000017</td>\n",
       "      <td>0.735</td>\n",
       "      <td>-6.508</td>\n",
       "      <td>1</td>\n",
       "      <td>0.0381</td>\n",
       "      <td>120.068</td>\n",
       "      <td>4</td>\n",
       "      <td>0.442</td>\n",
       "    </tr>\n",
       "    <tr>\n",
       "      <th>1</th>\n",
       "      <td>2YeiTbQiN33B4aWXAEOeZu</td>\n",
       "      <td>3ruxxNJfKwSeghjqG6JL3y</td>\n",
       "      <td>0r0R5nIjDY04TfxRM10Bcb</td>\n",
       "      <td>1</td>\n",
       "      <td>232466</td>\n",
       "      <td>True</td>\n",
       "      <td>Lass liegen</td>\n",
       "      <td>44</td>\n",
       "      <td>18</td>\n",
       "      <td>3.874433</td>\n",
       "      <td>...</td>\n",
       "      <td>0.671</td>\n",
       "      <td>0.842</td>\n",
       "      <td>0.001240</td>\n",
       "      <td>0.102</td>\n",
       "      <td>-6.679</td>\n",
       "      <td>1</td>\n",
       "      <td>0.1640</td>\n",
       "      <td>143.033</td>\n",
       "      <td>4</td>\n",
       "      <td>0.814</td>\n",
       "    </tr>\n",
       "    <tr>\n",
       "      <th>2</th>\n",
       "      <td>00ylpioXq9EFFUbI7gay05</td>\n",
       "      <td>3ruxxNJfKwSeghjqG6JL3y</td>\n",
       "      <td>0r0R5nIjDY04TfxRM10Bcb</td>\n",
       "      <td>1</td>\n",
       "      <td>251746</td>\n",
       "      <td>True</td>\n",
       "      <td>Musik ist keine Lösung</td>\n",
       "      <td>42</td>\n",
       "      <td>20</td>\n",
       "      <td>4.195767</td>\n",
       "      <td>...</td>\n",
       "      <td>0.708</td>\n",
       "      <td>0.862</td>\n",
       "      <td>0.000000</td>\n",
       "      <td>0.110</td>\n",
       "      <td>-6.072</td>\n",
       "      <td>1</td>\n",
       "      <td>0.0929</td>\n",
       "      <td>114.117</td>\n",
       "      <td>4</td>\n",
       "      <td>0.785</td>\n",
       "    </tr>\n",
       "    <tr>\n",
       "      <th>3</th>\n",
       "      <td>3OGlLa9RnR55xOoNOzTgDp</td>\n",
       "      <td>3ruxxNJfKwSeghjqG6JL3y</td>\n",
       "      <td>0r0R5nIjDY04TfxRM10Bcb,6v2fKtxH2ZyVvk4tSqWeOP</td>\n",
       "      <td>1</td>\n",
       "      <td>226480</td>\n",
       "      <td>True</td>\n",
       "      <td>Trostpreis (feat. Timi Hendrix)</td>\n",
       "      <td>40</td>\n",
       "      <td>10</td>\n",
       "      <td>3.774667</td>\n",
       "      <td>...</td>\n",
       "      <td>0.603</td>\n",
       "      <td>0.677</td>\n",
       "      <td>0.000000</td>\n",
       "      <td>0.373</td>\n",
       "      <td>-7.079</td>\n",
       "      <td>0</td>\n",
       "      <td>0.2680</td>\n",
       "      <td>94.756</td>\n",
       "      <td>4</td>\n",
       "      <td>0.860</td>\n",
       "    </tr>\n",
       "    <tr>\n",
       "      <th>4</th>\n",
       "      <td>389spw2dydru3AHm42KGmO</td>\n",
       "      <td>3ruxxNJfKwSeghjqG6JL3y</td>\n",
       "      <td>0r0R5nIjDY04TfxRM10Bcb,6v2fKtxH2ZyVvk4tSqWeOP,...</td>\n",
       "      <td>1</td>\n",
       "      <td>215172</td>\n",
       "      <td>True</td>\n",
       "      <td>Was der Bauer nicht kennt (feat. Timi Hendrix ...</td>\n",
       "      <td>34</td>\n",
       "      <td>14</td>\n",
       "      <td>3.586200</td>\n",
       "      <td>...</td>\n",
       "      <td>0.758</td>\n",
       "      <td>0.680</td>\n",
       "      <td>0.000000</td>\n",
       "      <td>0.111</td>\n",
       "      <td>-5.838</td>\n",
       "      <td>1</td>\n",
       "      <td>0.0561</td>\n",
       "      <td>116.120</td>\n",
       "      <td>4</td>\n",
       "      <td>0.793</td>\n",
       "    </tr>\n",
       "  </tbody>\n",
       "</table>\n",
       "<p>5 rows × 24 columns</p>\n",
       "</div>"
      ],
      "text/plain": [
       "                 track_id                album_id  \\\n",
       "0  5iYe4mt1bf1KVzVM8EY6y8  3ruxxNJfKwSeghjqG6JL3y   \n",
       "1  2YeiTbQiN33B4aWXAEOeZu  3ruxxNJfKwSeghjqG6JL3y   \n",
       "2  00ylpioXq9EFFUbI7gay05  3ruxxNJfKwSeghjqG6JL3y   \n",
       "3  3OGlLa9RnR55xOoNOzTgDp  3ruxxNJfKwSeghjqG6JL3y   \n",
       "4  389spw2dydru3AHm42KGmO  3ruxxNJfKwSeghjqG6JL3y   \n",
       "\n",
       "                                          artists_id  disc_number  \\\n",
       "0                             0r0R5nIjDY04TfxRM10Bcb            1   \n",
       "1                             0r0R5nIjDY04TfxRM10Bcb            1   \n",
       "2                             0r0R5nIjDY04TfxRM10Bcb            1   \n",
       "3      0r0R5nIjDY04TfxRM10Bcb,6v2fKtxH2ZyVvk4tSqWeOP            1   \n",
       "4  0r0R5nIjDY04TfxRM10Bcb,6v2fKtxH2ZyVvk4tSqWeOP,...            1   \n",
       "\n",
       "   duration_ms  explicit                                               name  \\\n",
       "0       228213      True                                      Du bist schön   \n",
       "1       232466      True                                        Lass liegen   \n",
       "2       251746      True                             Musik ist keine Lösung   \n",
       "3       226480      True                    Trostpreis (feat. Timi Hendrix)   \n",
       "4       215172      True  Was der Bauer nicht kennt (feat. Timi Hendrix ...   \n",
       "\n",
       "   popularity  track_number  duration_m  ... danceability  energy  \\\n",
       "0          61            19    3.803550  ...        0.672   0.676   \n",
       "1          44            18    3.874433  ...        0.671   0.842   \n",
       "2          42            20    4.195767  ...        0.708   0.862   \n",
       "3          40            10    3.774667  ...        0.603   0.677   \n",
       "4          34            14    3.586200  ...        0.758   0.680   \n",
       "\n",
       "   instrumentalness  liveness  loudness  mode  speechiness    tempo  \\\n",
       "0          0.000017     0.735    -6.508     1       0.0381  120.068   \n",
       "1          0.001240     0.102    -6.679     1       0.1640  143.033   \n",
       "2          0.000000     0.110    -6.072     1       0.0929  114.117   \n",
       "3          0.000000     0.373    -7.079     0       0.2680   94.756   \n",
       "4          0.000000     0.111    -5.838     1       0.0561  116.120   \n",
       "\n",
       "   time_signature  valence  \n",
       "0               4    0.442  \n",
       "1               4    0.814  \n",
       "2               4    0.785  \n",
       "3               4    0.860  \n",
       "4               4    0.793  \n",
       "\n",
       "[5 rows x 24 columns]"
      ]
     },
     "metadata": {},
     "output_type": "display_data"
    },
    {
     "name": "stdout",
     "output_type": "stream",
     "text": [
      "[2010 2000 1990 1960 1980 1970 1950 1920 1940 1930 2020 1900 1880 1910]\n"
     ]
    },
    {
     "data": {
      "image/png": "[encoded data removed]",
      "text/plain": [
       "<Figure size 432x288 with 1 Axes>"
      ]
     },
     "metadata": {
      "needs_background": "light"
     },
     "output_type": "display_data"
    },
    {
     "data": {
      "text/plain": [
       "(array([ 17109.,  27141.,  38244., 114594., 327009., 750398.]),\n",
       " array([1960, 1970, 1980, 1990, 2000, 2010, 2020]),\n",
       " <BarContainer object of 6 artists>)"
      ]
     },
     "execution_count": 10,
     "metadata": {},
     "output_type": "execute_result"
    }
   ],
   "source": [
    "print(f\"tracks shape                      : {tracks.shape}\")\n",
    "print(f\"albums shape                      : {albums.shape}\")\n",
    "print(f\"audio-features shape              : {audio_features.shape}\")\n",
    "\n",
    "# join tracks with albums\n",
    "joined_df = tracks.join(albums.loc[:, [\"id\", \"release_date\"]].set_index(\"id\"), how=\"inner\", on=\"album_id\", lsuffix=\"_caller\", rsuffix=\"_other\")\n",
    "joined_df = joined_df.loc[joined_df.release_date.notna()]\n",
    "joined_df = joined_df.loc[joined_df.release_date.apply(lambda x: False if x.startswith(\"0\") else True)]\n",
    "print(f\"tracks and albums                 : {joined_df.shape}\")\n",
    "\n",
    "f = lambda x: int(x[:4]) if len(x) >= 5 else int(x)\n",
    "joined_df[\"release_year\"] = joined_df.release_date.apply(f)\n",
    "\n",
    "f = lambda x: (x // 10) * 10\n",
    "joined_df[\"release_year_bin\"] = joined_df.release_year.apply(f)\n",
    "\n",
    "# join joined_df with audio-features\n",
    "joined_df = pd.merge(joined_df, audio_features, how=\"inner\", on=\"track_id\")\n",
    "print(f\"tracks, albums, and audio-features: {joined_df.shape}\")\n",
    "\n",
    "display(joined_df.head())\n",
    "print(joined_df.release_year_bin.unique())\n",
    "\n",
    "plot_histogram(\n",
    "    joined_df.release_year_bin.tolist(), \n",
    "    title=\"release year distribution\",\n",
    "    bins=range(1960, 2030, 10)\n",
    ")"
   ]
  },
  {
   "cell_type": "markdown",
   "metadata": {},
   "source": [
    "### 6) group the number of songs by popularity and release year"
   ]
  },
  {
   "cell_type": "code",
   "execution_count": 11,
   "metadata": {},
   "outputs": [
    {
     "data": {
      "text/html": [
       "<div>\n",
       "<style scoped>\n",
       "    .dataframe tbody tr th:only-of-type {\n",
       "        vertical-align: middle;\n",
       "    }\n",
       "\n",
       "    .dataframe tbody tr th {\n",
       "        vertical-align: top;\n",
       "    }\n",
       "\n",
       "    .dataframe thead tr th {\n",
       "        text-align: left;\n",
       "    }\n",
       "</style>\n",
       "<table border=\"1\" class=\"dataframe\">\n",
       "  <thead>\n",
       "    <tr>\n",
       "      <th>popularity_bin</th>\n",
       "      <th colspan=\"6\" halign=\"left\">0</th>\n",
       "      <th colspan=\"4\" halign=\"left\">10</th>\n",
       "      <th>...</th>\n",
       "      <th colspan=\"3\" halign=\"left\">70</th>\n",
       "      <th colspan=\"6\" halign=\"left\">80</th>\n",
       "      <th>90</th>\n",
       "    </tr>\n",
       "    <tr>\n",
       "      <th>release_year_bin</th>\n",
       "      <th>1960</th>\n",
       "      <th>1970</th>\n",
       "      <th>1980</th>\n",
       "      <th>1990</th>\n",
       "      <th>2000</th>\n",
       "      <th>2010</th>\n",
       "      <th>1960</th>\n",
       "      <th>1970</th>\n",
       "      <th>1980</th>\n",
       "      <th>1990</th>\n",
       "      <th>...</th>\n",
       "      <th>1990</th>\n",
       "      <th>2000</th>\n",
       "      <th>2010</th>\n",
       "      <th>1960</th>\n",
       "      <th>1970</th>\n",
       "      <th>1980</th>\n",
       "      <th>1990</th>\n",
       "      <th>2000</th>\n",
       "      <th>2010</th>\n",
       "      <th>2010</th>\n",
       "    </tr>\n",
       "  </thead>\n",
       "  <tbody>\n",
       "    <tr>\n",
       "      <th>track_id</th>\n",
       "      <td>0.004787</td>\n",
       "      <td>0.005938</td>\n",
       "      <td>0.00894</td>\n",
       "      <td>0.035139</td>\n",
       "      <td>0.130687</td>\n",
       "      <td>0.331687</td>\n",
       "      <td>0.003719</td>\n",
       "      <td>0.005631</td>\n",
       "      <td>0.007642</td>\n",
       "      <td>0.022357</td>\n",
       "      <td>...</td>\n",
       "      <td>0.000124</td>\n",
       "      <td>0.000203</td>\n",
       "      <td>0.000477</td>\n",
       "      <td>7.846590e-07</td>\n",
       "      <td>0.000004</td>\n",
       "      <td>0.000008</td>\n",
       "      <td>0.000007</td>\n",
       "      <td>0.000027</td>\n",
       "      <td>0.000064</td>\n",
       "      <td>0.000002</td>\n",
       "    </tr>\n",
       "  </tbody>\n",
       "</table>\n",
       "<p>1 rows × 55 columns</p>\n",
       "</div>"
      ],
      "text/plain": [
       "popularity_bin          0                                                    \\\n",
       "release_year_bin      1960      1970     1980      1990      2000      2010   \n",
       "track_id          0.004787  0.005938  0.00894  0.035139  0.130687  0.331687   \n",
       "\n",
       "popularity_bin          10                                ...        70  \\\n",
       "release_year_bin      1960      1970      1980      1990  ...      1990   \n",
       "track_id          0.003719  0.005631  0.007642  0.022357  ...  0.000124   \n",
       "\n",
       "popularity_bin                                  80                      \\\n",
       "release_year_bin      2000      2010          1960      1970      1980   \n",
       "track_id          0.000203  0.000477  7.846590e-07  0.000004  0.000008   \n",
       "\n",
       "popularity_bin                                        90  \n",
       "release_year_bin      1990      2000      2010      2010  \n",
       "track_id          0.000007  0.000027  0.000064  0.000002  \n",
       "\n",
       "[1 rows x 55 columns]"
      ]
     },
     "metadata": {},
     "output_type": "display_data"
    },
    {
     "data": {
      "image/png": "[encoded data removed]",
      "text/plain": [
       "<Figure size 432x288 with 2 Axes>"
      ]
     },
     "metadata": {
      "needs_background": "light"
     },
     "output_type": "display_data"
    }
   ],
   "source": [
    "# make a column for popularity bins\n",
    "joined_df[\"popularity_bin\"] = joined_df.popularity.apply(lambda x: (x // 10) * 10)\n",
    "\n",
    "# remove outliers of release year\n",
    "source = joined_df.loc[joined_df.release_year_bin.isin(range(1960, 2020, 10))]\n",
    "\n",
    "# count songs by popularity and release year\n",
    "by = [\"popularity_bin\", \"release_year_bin\"]\n",
    "\n",
    "grouped = source[[\"track_id\", \"popularity_bin\", \"release_year_bin\"]].groupby(by=by).count().apply(lambda x: x / len(source))\n",
    "display(grouped.transpose())\n",
    "\n",
    "plot_heatmap(\n",
    "    groupby=grouped, \n",
    "    pivot_col=[\"popularity_bin\", \"release_year_bin\", \"track_id\"], \n",
    "    title=\"heatmap of popularity and release year\"\n",
    ")"
   ]
  },
  {
   "cell_type": "markdown",
   "metadata": {},
   "source": [
    "### 7) randomly sampling songs by the distribution of raw data"
   ]
  },
  {
   "cell_type": "code",
   "execution_count": 12,
   "metadata": {},
   "outputs": [
    {
     "name": "stdout",
     "output_type": "stream",
     "text": [
      "popularity: 0, release_year: 1960, sample_n: 958\n",
      "popularity: 0, release_year: 1970, sample_n: 1188\n",
      "popularity: 0, release_year: 1980, sample_n: 1789\n",
      "popularity: 0, release_year: 1990, sample_n: 7028\n",
      "popularity: 0, release_year: 2000, sample_n: 26138\n",
      "popularity: 0, release_year: 2010, sample_n: 66310\n",
      "popularity: 10, release_year: 1960, sample_n: 744\n",
      "popularity: 10, release_year: 1970, sample_n: 1127\n",
      "popularity: 10, release_year: 1980, sample_n: 1529\n",
      "popularity: 10, release_year: 1990, sample_n: 4472\n",
      "popularity: 10, release_year: 2000, sample_n: 11204\n",
      "popularity: 10, release_year: 2010, sample_n: 22831\n",
      "popularity: 20, release_year: 1960, sample_n: 468\n",
      "popularity: 20, release_year: 1970, sample_n: 904\n",
      "popularity: 20, release_year: 1980, sample_n: 1195\n",
      "popularity: 20, release_year: 1990, sample_n: 3108\n",
      "popularity: 20, release_year: 2000, sample_n: 7027\n",
      "popularity: 20, release_year: 2010, sample_n: 14429\n",
      "popularity: 30, release_year: 1960, sample_n: 282\n",
      "popularity: 30, release_year: 1970, sample_n: 553\n",
      "popularity: 30, release_year: 1980, sample_n: 807\n",
      "popularity: 30, release_year: 1990, sample_n: 1874\n",
      "popularity: 30, release_year: 2000, sample_n: 4069\n",
      "popularity: 30, release_year: 2010, sample_n: 8553\n",
      "popularity: 40, release_year: 1960, sample_n: 142\n",
      "popularity: 40, release_year: 1970, sample_n: 286\n",
      "popularity: 40, release_year: 1980, sample_n: 412\n",
      "popularity: 40, release_year: 1990, sample_n: 940\n",
      "popularity: 40, release_year: 2000, sample_n: 1888\n",
      "popularity: 40, release_year: 2010, sample_n: 3755\n",
      "popularity: 50, release_year: 1960, sample_n: 64\n",
      "popularity: 50, release_year: 1970, sample_n: 134\n",
      "popularity: 50, release_year: 1980, sample_n: 191\n",
      "popularity: 50, release_year: 1990, sample_n: 408\n",
      "popularity: 50, release_year: 2000, sample_n: 727\n",
      "popularity: 50, release_year: 2010, sample_n: 1340\n",
      "popularity: 60, release_year: 1960, sample_n: 25\n",
      "popularity: 60, release_year: 1970, sample_n: 54\n",
      "popularity: 60, release_year: 1980, sample_n: 62\n",
      "popularity: 60, release_year: 1990, sample_n: 130\n",
      "popularity: 60, release_year: 2000, sample_n: 223\n",
      "popularity: 60, release_year: 2010, sample_n: 401\n",
      "popularity: 70, release_year: 1960, sample_n: 6\n",
      "popularity: 70, release_year: 1970, sample_n: 17\n",
      "popularity: 70, release_year: 1980, sample_n: 20\n",
      "popularity: 70, release_year: 1990, sample_n: 25\n",
      "popularity: 70, release_year: 2000, sample_n: 41\n",
      "popularity: 70, release_year: 2010, sample_n: 96\n",
      "popularity: 80, release_year: 1960, sample_n: 1\n",
      "popularity: 80, release_year: 1970, sample_n: 1\n",
      "popularity: 80, release_year: 1980, sample_n: 2\n",
      "popularity: 80, release_year: 1990, sample_n: 2\n",
      "popularity: 80, release_year: 2000, sample_n: 6\n",
      "popularity: 80, release_year: 2010, sample_n: 13\n",
      "popularity: 90, release_year: 2010, sample_n: 1\n"
     ]
    },
    {
     "data": {
      "text/html": [
       "<div>\n",
       "<style scoped>\n",
       "    .dataframe tbody tr th:only-of-type {\n",
       "        vertical-align: middle;\n",
       "    }\n",
       "\n",
       "    .dataframe tbody tr th {\n",
       "        vertical-align: top;\n",
       "    }\n",
       "\n",
       "    .dataframe thead th {\n",
       "        text-align: right;\n",
       "    }\n",
       "</style>\n",
       "<table border=\"1\" class=\"dataframe\">\n",
       "  <thead>\n",
       "    <tr style=\"text-align: right;\">\n",
       "      <th></th>\n",
       "      <th>track_id</th>\n",
       "      <th>album_id</th>\n",
       "      <th>artists_id</th>\n",
       "      <th>disc_number</th>\n",
       "      <th>duration_ms</th>\n",
       "      <th>explicit</th>\n",
       "      <th>name</th>\n",
       "      <th>popularity</th>\n",
       "      <th>track_number</th>\n",
       "      <th>duration_m</th>\n",
       "      <th>...</th>\n",
       "      <th>energy</th>\n",
       "      <th>instrumentalness</th>\n",
       "      <th>liveness</th>\n",
       "      <th>loudness</th>\n",
       "      <th>mode</th>\n",
       "      <th>speechiness</th>\n",
       "      <th>tempo</th>\n",
       "      <th>time_signature</th>\n",
       "      <th>valence</th>\n",
       "      <th>popularity_bin</th>\n",
       "    </tr>\n",
       "  </thead>\n",
       "  <tbody>\n",
       "    <tr>\n",
       "      <th>684132</th>\n",
       "      <td>52aFK4HuVvWD1ysPJK6nzl</td>\n",
       "      <td>2D1LiG2WIZqQduUOJB2eWo</td>\n",
       "      <td>18RkLKfeoUgZflWv9os25W</td>\n",
       "      <td>1</td>\n",
       "      <td>122200</td>\n",
       "      <td>False</td>\n",
       "      <td>Le Fleuve</td>\n",
       "      <td>3</td>\n",
       "      <td>11</td>\n",
       "      <td>2.036667</td>\n",
       "      <td>...</td>\n",
       "      <td>0.123</td>\n",
       "      <td>0.000074</td>\n",
       "      <td>0.1060</td>\n",
       "      <td>-17.591</td>\n",
       "      <td>1</td>\n",
       "      <td>0.1070</td>\n",
       "      <td>133.814</td>\n",
       "      <td>4</td>\n",
       "      <td>0.545</td>\n",
       "      <td>0</td>\n",
       "    </tr>\n",
       "    <tr>\n",
       "      <th>445595</th>\n",
       "      <td>6GptflnalJehBvDSkHgjI6</td>\n",
       "      <td>1EakoUcKayQLN1qEfJecvu</td>\n",
       "      <td>5yzE49FicYiSxN61oaxkNn</td>\n",
       "      <td>1</td>\n",
       "      <td>195639</td>\n",
       "      <td>False</td>\n",
       "      <td>Early Morning Rain</td>\n",
       "      <td>9</td>\n",
       "      <td>10</td>\n",
       "      <td>3.260650</td>\n",
       "      <td>...</td>\n",
       "      <td>0.385</td>\n",
       "      <td>0.019700</td>\n",
       "      <td>0.0931</td>\n",
       "      <td>-10.099</td>\n",
       "      <td>1</td>\n",
       "      <td>0.0327</td>\n",
       "      <td>115.607</td>\n",
       "      <td>4</td>\n",
       "      <td>0.643</td>\n",
       "      <td>0</td>\n",
       "    </tr>\n",
       "    <tr>\n",
       "      <th>420375</th>\n",
       "      <td>5ow3atOwwOlavmKm0HIc4B</td>\n",
       "      <td>5jSwmPrat1yHiNdF4CETSH</td>\n",
       "      <td>3qtcbDvdIgQOXkPbtRvBaQ</td>\n",
       "      <td>1</td>\n",
       "      <td>112360</td>\n",
       "      <td>False</td>\n",
       "      <td>Somerset Gloucestershire Wassail</td>\n",
       "      <td>2</td>\n",
       "      <td>8</td>\n",
       "      <td>1.872667</td>\n",
       "      <td>...</td>\n",
       "      <td>0.569</td>\n",
       "      <td>0.000006</td>\n",
       "      <td>0.1380</td>\n",
       "      <td>-11.796</td>\n",
       "      <td>1</td>\n",
       "      <td>0.0680</td>\n",
       "      <td>204.243</td>\n",
       "      <td>3</td>\n",
       "      <td>0.963</td>\n",
       "      <td>0</td>\n",
       "    </tr>\n",
       "    <tr>\n",
       "      <th>1136751</th>\n",
       "      <td>18W2GUP0GEJRI7L6Nntufy</td>\n",
       "      <td>2oYhxeOhVHZJ1XmKdcjy3Q</td>\n",
       "      <td>6QmHysWvckkQR74oxmLmtz</td>\n",
       "      <td>1</td>\n",
       "      <td>225453</td>\n",
       "      <td>False</td>\n",
       "      <td>Zen Korans Gonna Rise Again</td>\n",
       "      <td>2</td>\n",
       "      <td>5</td>\n",
       "      <td>3.757550</td>\n",
       "      <td>...</td>\n",
       "      <td>0.276</td>\n",
       "      <td>0.000000</td>\n",
       "      <td>0.1030</td>\n",
       "      <td>-10.644</td>\n",
       "      <td>1</td>\n",
       "      <td>0.0313</td>\n",
       "      <td>160.704</td>\n",
       "      <td>3</td>\n",
       "      <td>0.171</td>\n",
       "      <td>0</td>\n",
       "    </tr>\n",
       "    <tr>\n",
       "      <th>235513</th>\n",
       "      <td>7hCJxuUl9WmnhiPYmg9kET</td>\n",
       "      <td>2CLiFy7JO1bmkNV6LFEMix</td>\n",
       "      <td>3jiBDfjnWIdLQEEOdKqZex</td>\n",
       "      <td>1</td>\n",
       "      <td>187200</td>\n",
       "      <td>False</td>\n",
       "      <td>A School for Fools</td>\n",
       "      <td>9</td>\n",
       "      <td>8</td>\n",
       "      <td>3.120000</td>\n",
       "      <td>...</td>\n",
       "      <td>0.113</td>\n",
       "      <td>0.000088</td>\n",
       "      <td>0.1500</td>\n",
       "      <td>-18.750</td>\n",
       "      <td>1</td>\n",
       "      <td>0.0390</td>\n",
       "      <td>177.434</td>\n",
       "      <td>3</td>\n",
       "      <td>0.358</td>\n",
       "      <td>0</td>\n",
       "    </tr>\n",
       "  </tbody>\n",
       "</table>\n",
       "<p>5 rows × 25 columns</p>\n",
       "</div>"
      ],
      "text/plain": [
       "                       track_id                album_id  \\\n",
       "684132   52aFK4HuVvWD1ysPJK6nzl  2D1LiG2WIZqQduUOJB2eWo   \n",
       "445595   6GptflnalJehBvDSkHgjI6  1EakoUcKayQLN1qEfJecvu   \n",
       "420375   5ow3atOwwOlavmKm0HIc4B  5jSwmPrat1yHiNdF4CETSH   \n",
       "1136751  18W2GUP0GEJRI7L6Nntufy  2oYhxeOhVHZJ1XmKdcjy3Q   \n",
       "235513   7hCJxuUl9WmnhiPYmg9kET  2CLiFy7JO1bmkNV6LFEMix   \n",
       "\n",
       "                     artists_id  disc_number  duration_ms  explicit  \\\n",
       "684132   18RkLKfeoUgZflWv9os25W            1       122200     False   \n",
       "445595   5yzE49FicYiSxN61oaxkNn            1       195639     False   \n",
       "420375   3qtcbDvdIgQOXkPbtRvBaQ            1       112360     False   \n",
       "1136751  6QmHysWvckkQR74oxmLmtz            1       225453     False   \n",
       "235513   3jiBDfjnWIdLQEEOdKqZex            1       187200     False   \n",
       "\n",
       "                                     name  popularity  track_number  \\\n",
       "684132                          Le Fleuve           3            11   \n",
       "445595                 Early Morning Rain           9            10   \n",
       "420375   Somerset Gloucestershire Wassail           2             8   \n",
       "1136751       Zen Korans Gonna Rise Again           2             5   \n",
       "235513                 A School for Fools           9             8   \n",
       "\n",
       "         duration_m  ... energy  instrumentalness  liveness  loudness  mode  \\\n",
       "684132     2.036667  ...  0.123          0.000074    0.1060   -17.591     1   \n",
       "445595     3.260650  ...  0.385          0.019700    0.0931   -10.099     1   \n",
       "420375     1.872667  ...  0.569          0.000006    0.1380   -11.796     1   \n",
       "1136751    3.757550  ...  0.276          0.000000    0.1030   -10.644     1   \n",
       "235513     3.120000  ...  0.113          0.000088    0.1500   -18.750     1   \n",
       "\n",
       "         speechiness    tempo  time_signature  valence  popularity_bin  \n",
       "684132        0.1070  133.814               4    0.545               0  \n",
       "445595        0.0327  115.607               4    0.643               0  \n",
       "420375        0.0680  204.243               3    0.963               0  \n",
       "1136751       0.0313  160.704               3    0.171               0  \n",
       "235513        0.0390  177.434               3    0.358               0  \n",
       "\n",
       "[5 rows x 25 columns]"
      ]
     },
     "metadata": {},
     "output_type": "display_data"
    }
   ],
   "source": [
    "if os.path.isfile(pickle_path):\n",
    "    print(\"The file already exists!\")\n",
    "\n",
    "else:\n",
    "    # the total number of songs that we want to sample\n",
    "    n = 200000\n",
    "\n",
    "    index_dic = {}       # index dictionary for extracting sample data\n",
    "    max_popularity = 0   # the popularity which has the largest sample_n\n",
    "    max_release_year = 0 # the release year which has the largest sample_n\n",
    "    max_sample_n = 0     # the maximum value of sample_n\n",
    "\n",
    "    # first of all, decide the sample sizes for each index\n",
    "    total = 0\n",
    "    for popularity, release_year in grouped.index:\n",
    "        \n",
    "        sample_n = int(n * grouped.loc[popularity, release_year]) + 1\n",
    "        if sample_n == 0:\n",
    "            sample_n = 1\n",
    "        \n",
    "        # update the maximum values\n",
    "        if max_sample_n < sample_n:\n",
    "            max_popularity = popularity\n",
    "            max_release_year = release_year\n",
    "            max_sample_n = sample_n\n",
    "        \n",
    "        total += sample_n\n",
    "        index_dic.update({(popularity, release_year): sample_n})\n",
    "\n",
    "    # if total number of samples is greater than 200000, then decrease the difference from the largest sample\n",
    "    if total > n:\n",
    "        index_dic.update({(max_popularity, max_release_year): max_sample_n - (total - n)})\n",
    "\n",
    "    concat_list = [] # list bucket for concatenating dataframes\n",
    "\n",
    "    for tup, sample_n in index_dic.items():\n",
    "        popularity, release_year = tup\n",
    "\n",
    "        print(f\"popularity: {popularity}, release_year: {release_year}, sample_n: {sample_n}\")\n",
    "        \n",
    "        tmp = joined_df.loc[(joined_df.popularity_bin == popularity) & (joined_df.release_year_bin == release_year)]\n",
    "        tmp = tmp.sample(n=sample_n, random_state=2022) # fixed random_state\n",
    "        \n",
    "        concat_list.append(tmp.copy())\n",
    "\n",
    "    sample_df = pd.concat(concat_list, axis=0)\n",
    "    display(sample_df.head())"
   ]
  },
  {
   "cell_type": "markdown",
   "metadata": {},
   "source": [
    "### 8) save the dataframe as a pickle (if the file exists, then do not save the file)"
   ]
  },
  {
   "cell_type": "code",
   "execution_count": 14,
   "metadata": {},
   "outputs": [
    {
     "name": "stdout",
     "output_type": "stream",
     "text": [
      "The file does not exist, so save the dataframe as a pickle.\n"
     ]
    }
   ],
   "source": [
    "if os.path.isfile(pickle_path):\n",
    "    print(\"The file already exists!\")\n",
    "    \n",
    "else:\n",
    "    sample_df[[\"track_id\", \"album_id\", \"artists_id\"]].to_pickle(pickle_path)\n",
    "    print(\"The file does not exist, so save the dataframe as a pickle.\")"
   ]
  },
  {
   "cell_type": "markdown",
   "metadata": {},
   "source": [
    "### 9) plot histograms for sampled data"
   ]
  },
  {
   "cell_type": "code",
   "execution_count": 15,
   "metadata": {},
   "outputs": [
    {
     "name": "stdout",
     "output_type": "stream",
     "text": [
      "columns: release_year\n"
     ]
    },
    {
     "data": {
      "image/png": "[encoded data removed]",
      "text/plain": [
       "<Figure size 432x288 with 1 Axes>"
      ]
     },
     "metadata": {
      "needs_background": "light"
     },
     "output_type": "display_data"
    },
    {
     "name": "stdout",
     "output_type": "stream",
     "text": [
      "\n",
      "        bins   : [1960 1970 1980 1990 2000 2010 2020]\n",
      "        counts : [2690, 4264, 6007, 17987, 51323, 117729]\n",
      "          \n",
      "columns: duration_m\n"
     ]
    },
    {
     "data": {
      "image/png": "[encoded data removed]",
      "text/plain": [
       "<Figure size 432x288 with 1 Axes>"
      ]
     },
     "metadata": {
      "needs_background": "light"
     },
     "output_type": "display_data"
    },
    {
     "name": "stdout",
     "output_type": "stream",
     "text": [
      "\n",
      "        bins   : [0 1 2 3 4 5 6 7]\n",
      "        counts : [2707, 9679, 35824, 75279, 47479, 18749, 9011]\n",
      "          \n",
      "columns: popularity\n"
     ]
    },
    {
     "data": {
      "image/png": "[encoded data removed]",
      "text/plain": [
       "<Figure size 432x288 with 1 Axes>"
      ]
     },
     "metadata": {
      "needs_background": "light"
     },
     "output_type": "display_data"
    },
    {
     "name": "stdout",
     "output_type": "stream",
     "text": [
      "\n",
      "        bins   : [ 0 10 20 30 40 50 60 70 80 90]\n",
      "        counts : [103411, 41907, 27131, 16138, 7423, 2864, 895, 205, 25]\n",
      "          \n",
      "columns: acousticness\n"
     ]
    },
    {
     "data": {
      "image/png": "[encoded data removed]",
      "text/plain": [
       "<Figure size 432x288 with 1 Axes>"
      ]
     },
     "metadata": {
      "needs_background": "light"
     },
     "output_type": "display_data"
    },
    {
     "name": "stdout",
     "output_type": "stream",
     "text": [
      "\n",
      "        bins   : [0.  0.1 0.2 0.3 0.4 0.5 0.6 0.7 0.8 0.9 1. ]\n",
      "        counts : [78189, 19633, 13849, 11157, 9992, 9817, 9793, 11037, 13126, 23407]\n",
      "          \n",
      "columns: danceability\n"
     ]
    },
    {
     "data": {
      "image/png": "[encoded data removed]",
      "text/plain": [
       "<Figure size 432x288 with 1 Axes>"
      ]
     },
     "metadata": {
      "needs_background": "light"
     },
     "output_type": "display_data"
    },
    {
     "name": "stdout",
     "output_type": "stream",
     "text": [
      "\n",
      "        bins   : [0.  0.1 0.2 0.3 0.4 0.5 0.6 0.7 0.8 0.9 1. ]\n",
      "        counts : [1365, 6115, 12399, 20059, 31840, 41106, 40704, 30459, 13800, 2153]\n",
      "          \n",
      "columns: energy\n"
     ]
    },
    {
     "data": {
      "image/png": "[encoded data removed]",
      "text/plain": [
       "<Figure size 432x288 with 1 Axes>"
      ]
     },
     "metadata": {
      "needs_background": "light"
     },
     "output_type": "display_data"
    },
    {
     "name": "stdout",
     "output_type": "stream",
     "text": [
      "\n",
      "        bins   : [0.  0.1 0.2 0.3 0.4 0.5 0.6 0.7 0.8 0.9 1. ]\n",
      "        counts : [9967, 11486, 13637, 15750, 20305, 23670, 26085, 27148, 27949, 24003]\n",
      "          \n",
      "columns: instrumentalness\n"
     ]
    },
    {
     "data": {
      "image/png": "[encoded data removed]",
      "text/plain": [
       "<Figure size 432x288 with 1 Axes>"
      ]
     },
     "metadata": {
      "needs_background": "light"
     },
     "output_type": "display_data"
    },
    {
     "name": "stdout",
     "output_type": "stream",
     "text": [
      "\n",
      "        bins   : [0.  0.1 0.2 0.3 0.4 0.5 0.6 0.7 0.8 0.9 1. ]\n",
      "        counts : [142367, 5191, 3730, 3086, 3018, 3268, 4061, 6289, 15425, 13565]\n",
      "          \n",
      "columns: liveness\n"
     ]
    },
    {
     "data": {
      "image/png": "[encoded data removed]",
      "text/plain": [
       "<Figure size 432x288 with 1 Axes>"
      ]
     },
     "metadata": {
      "needs_background": "light"
     },
     "output_type": "display_data"
    },
    {
     "name": "stdout",
     "output_type": "stream",
     "text": [
      "\n",
      "        bins   : [0.  0.1 0.2 0.3 0.4 0.5 0.6 0.7 0.8 0.9 1. ]\n",
      "        counts : [55776, 78192, 23310, 20471, 5587, 3616, 4186, 3023, 2266, 3573]\n",
      "          \n",
      "columns: loudness\n"
     ]
    },
    {
     "data": {
      "image/png": "[encoded data removed]",
      "text/plain": [
       "<Figure size 432x288 with 1 Axes>"
      ]
     },
     "metadata": {
      "needs_background": "light"
     },
     "output_type": "display_data"
    },
    {
     "name": "stdout",
     "output_type": "stream",
     "text": [
      "\n",
      "        bins   : [-60 -50 -40 -30 -20 -10   0  10]\n",
      "        counts : [31, 132, 1409, 9919, 58562, 129858, 89]\n",
      "          \n",
      "columns: mode\n"
     ]
    },
    {
     "data": {
      "image/png": "[encoded data removed]",
      "text/plain": [
       "<Figure size 432x288 with 1 Axes>"
      ]
     },
     "metadata": {
      "needs_background": "light"
     },
     "output_type": "display_data"
    },
    {
     "name": "stdout",
     "output_type": "stream",
     "text": [
      "\n",
      "        bins   : [0 1 2]\n",
      "        counts : [67506, 132494]\n",
      "          \n",
      "columns: speechiness\n"
     ]
    },
    {
     "data": {
      "image/png": "[encoded data removed]",
      "text/plain": [
       "<Figure size 432x288 with 1 Axes>"
      ]
     },
     "metadata": {
      "needs_background": "light"
     },
     "output_type": "display_data"
    },
    {
     "name": "stdout",
     "output_type": "stream",
     "text": [
      "\n",
      "        bins   : [0.  0.1 0.2 0.3 0.4 0.5 0.6 0.7 0.8 0.9 1. ]\n",
      "        counts : [155889, 21265, 10762, 6694, 2707, 809, 286, 205, 378, 1005]\n",
      "          \n",
      "columns: tempo\n"
     ]
    },
    {
     "data": {
      "image/png": "[encoded data removed]",
      "text/plain": [
       "<Figure size 432x288 with 1 Axes>"
      ]
     },
     "metadata": {
      "needs_background": "light"
     },
     "output_type": "display_data"
    },
    {
     "name": "stdout",
     "output_type": "stream",
     "text": [
      "\n",
      "        bins   : [  0  25  50  75 100 125 150 175 200 225]\n",
      "        counts : [333, 221, 7615, 50384, 56230, 53667, 21558, 8675, 1304]\n",
      "          \n",
      "columns: time_signature\n"
     ]
    },
    {
     "data": {
      "image/png": "[encoded data removed]",
      "text/plain": [
       "<Figure size 432x288 with 1 Axes>"
      ]
     },
     "metadata": {
      "needs_background": "light"
     },
     "output_type": "display_data"
    },
    {
     "name": "stdout",
     "output_type": "stream",
     "text": [
      "\n",
      "        bins   : [0 1 2 3 4 5 6]\n",
      "        counts : [339, 2177, 0, 19748, 173969, 3767]\n",
      "          \n",
      "columns: valence\n"
     ]
    },
    {
     "data": {
      "image/png": "[encoded data removed]",
      "text/plain": [
       "<Figure size 432x288 with 1 Axes>"
      ]
     },
     "metadata": {
      "needs_background": "light"
     },
     "output_type": "display_data"
    },
    {
     "name": "stdout",
     "output_type": "stream",
     "text": [
      "\n",
      "        bins   : [0.  0.1 0.2 0.3 0.4 0.5 0.6 0.7 0.8 0.9 1. ]\n",
      "        counts : [15987, 20439, 21919, 23933, 22242, 22812, 21441, 19226, 17613, 14388]\n",
      "          \n"
     ]
    }
   ],
   "source": [
    "col_list = [\n",
    "    \"release_year\",\n",
    "    \"duration_m\", \n",
    "    \"popularity\",\n",
    "    \"acousticness\", \n",
    "    \"danceability\", \n",
    "    \"energy\", \n",
    "    \"instrumentalness\", \n",
    "    \"liveness\", \n",
    "    \"loudness\", \n",
    "    \"mode\", \n",
    "    \"speechiness\",\n",
    "    \"tempo\", \n",
    "    \"time_signature\", \n",
    "    \"valence\"\n",
    "    ]\n",
    "\n",
    "for col in col_list:\n",
    "    print(f\"columns: {col}\")\n",
    "    \n",
    "    if col in [\"acousticness\", \"danceability\", \"energy\", \"instrumentalness\", \"liveness\", \"speechiness\", \"valence\"]:\n",
    "        bins = list(np.arange(0, 1.1, 0.1))\n",
    "    elif col == \"duration_m\":\n",
    "        bins = range(0, 8, 1)\n",
    "    elif col == \"popularity\":\n",
    "        bins = range(0, 100, 10)\n",
    "    elif col == \"loudness\":\n",
    "        bins = range(-60, 20, 10)\n",
    "    elif col == \"mode\":\n",
    "        bins = range(0, 3, 1)\n",
    "    elif col == \"tempo\":\n",
    "        bins = range(0, 250, 25)\n",
    "    elif col == \"time_signature\": \n",
    "        bins = range(0, 7, 1)\n",
    "    elif col == \"release_year\":\n",
    "        bins=range(1960, 2030, 10)\n",
    "        \n",
    "    counts, bins, patches = plot_histogram(\n",
    "                                sample_df[col].tolist(), \n",
    "                                title=f\"sampled {col} distribution\",\n",
    "                                bins=bins)\n",
    "    print(f\"\"\"\n",
    "        bins   : {bins}\n",
    "        counts : {list(map(int, counts))}\n",
    "          \"\"\")"
   ]
  }
 ],
 "metadata": {
  "kernelspec": {
   "display_name": "Python 3.9.7 ('jonginn_env1')",
   "language": "python",
   "name": "python3"
  },
  "language_info": {
   "codemirror_mode": {
    "name": "ipython",
    "version": 3
   },
   "file_extension": ".py",
   "mimetype": "text/x-python",
   "name": "python",
   "nbconvert_exporter": "python",
   "pygments_lexer": "ipython3",
   "version": "3.9.7"
  },
  "orig_nbformat": 4,
  "vscode": {
   "interpreter": {
    "hash": "bee9b2b551d711e13da88934ff05fe93d95401990bbf66bc6537b8f4ce428457"
   }
  }
 },
 "nbformat": 4,
 "nbformat_minor": 2
}

{
 "cells": [
  {
   "cell_type": "markdown",
   "metadata": {},
   "source": [
    "# __packages__"
   ]
  },
  {
   "cell_type": "code",
   "execution_count": 38,
   "metadata": {},
   "outputs": [],
   "source": [
    "import numpy as np\n",
    "import pandas as pd\n",
    "import matplotlib.pyplot as plt"
   ]
  },
  {
   "cell_type": "markdown",
   "metadata": {},
   "source": [
    "---\n",
    "# __functions__"
   ]
  },
  {
   "cell_type": "code",
   "execution_count": 26,
   "metadata": {},
   "outputs": [],
   "source": [
    "# plot function\n",
    "def plot_histogram(nums, bins=None):\n",
    "    fig, ax = plt.subplots()\n",
    "    if bins:\n",
    "        counts, bins, patches = ax.hist(nums, bins=bins, density=False)\n",
    "    else:\n",
    "        counts, bins, patches = ax.hist(nums, density=False)\n",
    "    \n",
    "    plt.show()\n",
    "    \n",
    "    return counts, bins, patches\n",
    "    "
   ]
  },
  {
   "cell_type": "markdown",
   "metadata": {},
   "source": [
    "---\n",
    "# __tracks__"
   ]
  },
  {
   "cell_type": "markdown",
   "metadata": {},
   "source": [
    "### 1) load tracks data and apply basic statistics\n",
    "### 2) remove outliers for duration"
   ]
  },
  {
   "cell_type": "code",
   "execution_count": 50,
   "metadata": {},
   "outputs": [
    {
     "name": "stdout",
     "output_type": "stream",
     "text": [
      "columns: \n",
      "track_id         object\n",
      "album_id         object\n",
      "artists_id       object\n",
      "disc_number       int64\n",
      "duration_ms       int64\n",
      "explicit           bool\n",
      "name             object\n",
      "popularity        int64\n",
      "track_number      int64\n",
      "duration_m      float64\n",
      "dtype: object\n",
      "\n",
      "track_id        0\n",
      "album_id        0\n",
      "artists_id      0\n",
      "disc_number     0\n",
      "duration_ms     0\n",
      "explicit        0\n",
      "name            0\n",
      "popularity      0\n",
      "track_number    0\n",
      "duration_m      0\n",
      "dtype: int64\n"
     ]
    },
    {
     "data": {
      "text/html": [
       "<div>\n",
       "<style scoped>\n",
       "    .dataframe tbody tr th:only-of-type {\n",
       "        vertical-align: middle;\n",
       "    }\n",
       "\n",
       "    .dataframe tbody tr th {\n",
       "        vertical-align: top;\n",
       "    }\n",
       "\n",
       "    .dataframe thead th {\n",
       "        text-align: right;\n",
       "    }\n",
       "</style>\n",
       "<table border=\"1\" class=\"dataframe\">\n",
       "  <thead>\n",
       "    <tr style=\"text-align: right;\">\n",
       "      <th></th>\n",
       "      <th>disc_number</th>\n",
       "      <th>duration_ms</th>\n",
       "      <th>popularity</th>\n",
       "      <th>track_number</th>\n",
       "      <th>duration_m</th>\n",
       "    </tr>\n",
       "  </thead>\n",
       "  <tbody>\n",
       "    <tr>\n",
       "      <th>count</th>\n",
       "      <td>2.261596e+06</td>\n",
       "      <td>2.261596e+06</td>\n",
       "      <td>2.261596e+06</td>\n",
       "      <td>2.261596e+06</td>\n",
       "      <td>2.261596e+06</td>\n",
       "    </tr>\n",
       "    <tr>\n",
       "      <th>mean</th>\n",
       "      <td>1.046621e+00</td>\n",
       "      <td>2.475613e+05</td>\n",
       "      <td>1.337959e+01</td>\n",
       "      <td>6.898943e+00</td>\n",
       "      <td>4.126022e+00</td>\n",
       "    </tr>\n",
       "    <tr>\n",
       "      <th>std</th>\n",
       "      <td>4.637556e-01</td>\n",
       "      <td>1.675031e+05</td>\n",
       "      <td>1.391398e+01</td>\n",
       "      <td>7.599731e+00</td>\n",
       "      <td>2.791718e+00</td>\n",
       "    </tr>\n",
       "    <tr>\n",
       "      <th>min</th>\n",
       "      <td>1.000000e+00</td>\n",
       "      <td>0.000000e+00</td>\n",
       "      <td>0.000000e+00</td>\n",
       "      <td>1.000000e+00</td>\n",
       "      <td>0.000000e+00</td>\n",
       "    </tr>\n",
       "    <tr>\n",
       "      <th>25%</th>\n",
       "      <td>1.000000e+00</td>\n",
       "      <td>1.842000e+05</td>\n",
       "      <td>1.000000e+00</td>\n",
       "      <td>2.000000e+00</td>\n",
       "      <td>3.070000e+00</td>\n",
       "    </tr>\n",
       "    <tr>\n",
       "      <th>50%</th>\n",
       "      <td>1.000000e+00</td>\n",
       "      <td>2.252270e+05</td>\n",
       "      <td>9.000000e+00</td>\n",
       "      <td>5.000000e+00</td>\n",
       "      <td>3.753783e+00</td>\n",
       "    </tr>\n",
       "    <tr>\n",
       "      <th>75%</th>\n",
       "      <td>1.000000e+00</td>\n",
       "      <td>2.782560e+05</td>\n",
       "      <td>2.100000e+01</td>\n",
       "      <td>9.000000e+00</td>\n",
       "      <td>4.637600e+00</td>\n",
       "    </tr>\n",
       "    <tr>\n",
       "      <th>95%</th>\n",
       "      <td>1.000000e+00</td>\n",
       "      <td>4.329362e+05</td>\n",
       "      <td>4.100000e+01</td>\n",
       "      <td>1.800000e+01</td>\n",
       "      <td>7.215604e+00</td>\n",
       "    </tr>\n",
       "    <tr>\n",
       "      <th>max</th>\n",
       "      <td>5.200000e+01</td>\n",
       "      <td>2.074458e+07</td>\n",
       "      <td>9.200000e+01</td>\n",
       "      <td>5.460000e+02</td>\n",
       "      <td>3.457429e+02</td>\n",
       "    </tr>\n",
       "  </tbody>\n",
       "</table>\n",
       "</div>"
      ],
      "text/plain": [
       "        disc_number   duration_ms    popularity  track_number    duration_m\n",
       "count  2.261596e+06  2.261596e+06  2.261596e+06  2.261596e+06  2.261596e+06\n",
       "mean   1.046621e+00  2.475613e+05  1.337959e+01  6.898943e+00  4.126022e+00\n",
       "std    4.637556e-01  1.675031e+05  1.391398e+01  7.599731e+00  2.791718e+00\n",
       "min    1.000000e+00  0.000000e+00  0.000000e+00  1.000000e+00  0.000000e+00\n",
       "25%    1.000000e+00  1.842000e+05  1.000000e+00  2.000000e+00  3.070000e+00\n",
       "50%    1.000000e+00  2.252270e+05  9.000000e+00  5.000000e+00  3.753783e+00\n",
       "75%    1.000000e+00  2.782560e+05  2.100000e+01  9.000000e+00  4.637600e+00\n",
       "95%    1.000000e+00  4.329362e+05  4.100000e+01  1.800000e+01  7.215604e+00\n",
       "max    5.200000e+01  2.074458e+07  9.200000e+01  5.460000e+02  3.457429e+02"
      ]
     },
     "execution_count": 50,
     "metadata": {},
     "output_type": "execute_result"
    }
   ],
   "source": [
    "from spotify_tracks_preprocess import pre_processed_df\n",
    "\n",
    "# load data\n",
    "tracks = pre_processed_df()\n",
    "tracks[\"duration_m\"] = tracks.duration_ms.apply(lambda x: x / 60000)\n",
    "print(f\"columns: \\n{tracks.dtypes}\")\n",
    "print()\n",
    "print(tracks.isna().sum())\n",
    "\n",
    "# basic statistics\n",
    "stat = tracks.describe(percentiles=[.25, .5, .75, .95])\n",
    "stat"
   ]
  },
  {
   "cell_type": "code",
   "execution_count": 22,
   "metadata": {},
   "outputs": [
    {
     "name": "stdout",
     "output_type": "stream",
     "text": [
      "before shape: (2261596, 10)\n",
      "after shape: (2148516, 10)\n"
     ]
    }
   ],
   "source": [
    "# remove outliers for duration\n",
    "print(f\"before shape: {tracks.shape}\")\n",
    "tracks = tracks.loc[tracks.duration_m <= stat.loc[\"95%\", \"duration_m\"]]\n",
    "\n",
    "print(f\"after shape: {tracks.shape}\")"
   ]
  },
  {
   "cell_type": "markdown",
   "metadata": {},
   "source": [
    "### 3) plotting by columns"
   ]
  },
  {
   "cell_type": "code",
   "execution_count": 30,
   "metadata": {},
   "outputs": [
    {
     "name": "stdout",
     "output_type": "stream",
     "text": [
      "columns: duration_m\n"
     ]
    },
    {
     "data": {
      "image/png": "[encoded data removed]",
      "text/plain": [
       "<Figure size 432x288 with 1 Axes>"
      ]
     },
     "metadata": {
      "needs_background": "light"
     },
     "output_type": "display_data"
    },
    {
     "name": "stdout",
     "output_type": "stream",
     "text": [
      "\n",
      "        bins   : [0 1 2 3 4 5 6 7]\n",
      "        counts : [28967, 100894, 386072, 809607, 503354, 204336, 100663]\n",
      "          \n",
      "columns: popularity\n"
     ]
    },
    {
     "data": {
      "image/png": "[encoded data removed]",
      "text/plain": [
       "<Figure size 432x288 with 1 Axes>"
      ]
     },
     "metadata": {
      "needs_background": "light"
     },
     "output_type": "display_data"
    },
    {
     "name": "stdout",
     "output_type": "stream",
     "text": [
      "\n",
      "        bins   : [ 0 10 20 30 40 50 60 70 80 90]\n",
      "        counts : [1073711, 458903, 301999, 183762, 84647, 32767, 10130, 2314, 280]\n",
      "          \n"
     ]
    }
   ],
   "source": [
    "col_list = [\"duration_m\", \"popularity\"]\n",
    "\n",
    "for col in col_list:\n",
    "    print(f\"columns: {col}\")\n",
    "\n",
    "    if col == \"duration_m\":\n",
    "        bins = range(0, 8, 1)\n",
    "    elif col == \"popularity\":\n",
    "        bins = range(0, 100, 10)\n",
    "        \n",
    "    counts, bins, patches = plot_histogram(tracks[col].tolist(), bins=bins)\n",
    "    print(f\"\"\"\n",
    "        bins   : {bins}\n",
    "        counts : {list(map(int, counts))}\n",
    "          \"\"\")\n"
   ]
  },
  {
   "cell_type": "markdown",
   "metadata": {},
   "source": [
    "---\n",
    "# __audio-features__"
   ]
  },
  {
   "cell_type": "markdown",
   "metadata": {},
   "source": [
    "### 1) load tracks data and apply basic statistics"
   ]
  },
  {
   "cell_type": "code",
   "execution_count": 51,
   "metadata": {},
   "outputs": [
    {
     "name": "stdout",
     "output_type": "stream",
     "text": [
      "columns: \n",
      "track_id             object\n",
      "acousticness        float64\n",
      "danceability        float64\n",
      "energy              float64\n",
      "instrumentalness    float64\n",
      "liveness            float64\n",
      "loudness            float64\n",
      "mode                  int64\n",
      "speechiness         float64\n",
      "tempo               float64\n",
      "time_signature        int64\n",
      "valence             float64\n",
      "dtype: object\n",
      "\n",
      "track_id            0\n",
      "acousticness        0\n",
      "danceability        0\n",
      "energy              0\n",
      "instrumentalness    0\n",
      "liveness            0\n",
      "loudness            0\n",
      "mode                0\n",
      "speechiness         0\n",
      "tempo               0\n",
      "time_signature      0\n",
      "valence             0\n",
      "dtype: int64\n"
     ]
    },
    {
     "data": {
      "text/html": [
       "<div>\n",
       "<style scoped>\n",
       "    .dataframe tbody tr th:only-of-type {\n",
       "        vertical-align: middle;\n",
       "    }\n",
       "\n",
       "    .dataframe tbody tr th {\n",
       "        vertical-align: top;\n",
       "    }\n",
       "\n",
       "    .dataframe thead th {\n",
       "        text-align: right;\n",
       "    }\n",
       "</style>\n",
       "<table border=\"1\" class=\"dataframe\">\n",
       "  <thead>\n",
       "    <tr style=\"text-align: right;\">\n",
       "      <th></th>\n",
       "      <th>acousticness</th>\n",
       "      <th>danceability</th>\n",
       "      <th>energy</th>\n",
       "      <th>instrumentalness</th>\n",
       "      <th>liveness</th>\n",
       "      <th>loudness</th>\n",
       "      <th>mode</th>\n",
       "      <th>speechiness</th>\n",
       "      <th>tempo</th>\n",
       "      <th>time_signature</th>\n",
       "      <th>valence</th>\n",
       "    </tr>\n",
       "  </thead>\n",
       "  <tbody>\n",
       "    <tr>\n",
       "      <th>count</th>\n",
       "      <td>2.262191e+06</td>\n",
       "      <td>2.262191e+06</td>\n",
       "      <td>2.262191e+06</td>\n",
       "      <td>2.262191e+06</td>\n",
       "      <td>2.262191e+06</td>\n",
       "      <td>2.262191e+06</td>\n",
       "      <td>2.262191e+06</td>\n",
       "      <td>2.262191e+06</td>\n",
       "      <td>2.262191e+06</td>\n",
       "      <td>2.262191e+06</td>\n",
       "      <td>2.262191e+06</td>\n",
       "    </tr>\n",
       "    <tr>\n",
       "      <th>mean</th>\n",
       "      <td>3.547740e-01</td>\n",
       "      <td>5.504296e-01</td>\n",
       "      <td>5.848759e-01</td>\n",
       "      <td>2.208220e-01</td>\n",
       "      <td>2.091071e-01</td>\n",
       "      <td>-9.660528e+00</td>\n",
       "      <td>6.549779e-01</td>\n",
       "      <td>8.923351e-02</td>\n",
       "      <td>1.199894e+02</td>\n",
       "      <td>3.879917e+00</td>\n",
       "      <td>4.757061e-01</td>\n",
       "    </tr>\n",
       "    <tr>\n",
       "      <th>std</th>\n",
       "      <td>3.543964e-01</td>\n",
       "      <td>1.845300e-01</td>\n",
       "      <td>2.660167e-01</td>\n",
       "      <td>3.494054e-01</td>\n",
       "      <td>1.898148e-01</td>\n",
       "      <td>5.626076e+00</td>\n",
       "      <td>4.753756e-01</td>\n",
       "      <td>1.152086e-01</td>\n",
       "      <td>2.992179e+01</td>\n",
       "      <td>4.720420e-01</td>\n",
       "      <td>2.699766e-01</td>\n",
       "    </tr>\n",
       "    <tr>\n",
       "      <th>min</th>\n",
       "      <td>0.000000e+00</td>\n",
       "      <td>0.000000e+00</td>\n",
       "      <td>0.000000e+00</td>\n",
       "      <td>0.000000e+00</td>\n",
       "      <td>0.000000e+00</td>\n",
       "      <td>-6.000000e+01</td>\n",
       "      <td>0.000000e+00</td>\n",
       "      <td>0.000000e+00</td>\n",
       "      <td>0.000000e+00</td>\n",
       "      <td>0.000000e+00</td>\n",
       "      <td>0.000000e+00</td>\n",
       "    </tr>\n",
       "    <tr>\n",
       "      <th>25%</th>\n",
       "      <td>2.220000e-02</td>\n",
       "      <td>4.270000e-01</td>\n",
       "      <td>3.890000e-01</td>\n",
       "      <td>0.000000e+00</td>\n",
       "      <td>9.570000e-02</td>\n",
       "      <td>-1.191000e+01</td>\n",
       "      <td>0.000000e+00</td>\n",
       "      <td>3.540000e-02</td>\n",
       "      <td>9.693900e+01</td>\n",
       "      <td>4.000000e+00</td>\n",
       "      <td>2.470000e-01</td>\n",
       "    </tr>\n",
       "    <tr>\n",
       "      <th>50%</th>\n",
       "      <td>2.150000e-01</td>\n",
       "      <td>5.650000e-01</td>\n",
       "      <td>6.220000e-01</td>\n",
       "      <td>6.030000e-04</td>\n",
       "      <td>1.280000e-01</td>\n",
       "      <td>-8.176000e+00</td>\n",
       "      <td>1.000000e+00</td>\n",
       "      <td>4.700000e-02</td>\n",
       "      <td>1.200070e+02</td>\n",
       "      <td>4.000000e+00</td>\n",
       "      <td>4.660000e-01</td>\n",
       "    </tr>\n",
       "    <tr>\n",
       "      <th>75%</th>\n",
       "      <td>6.910000e-01</td>\n",
       "      <td>6.890000e-01</td>\n",
       "      <td>8.090000e-01</td>\n",
       "      <td>4.210000e-01</td>\n",
       "      <td>2.640000e-01</td>\n",
       "      <td>-5.826000e+00</td>\n",
       "      <td>1.000000e+00</td>\n",
       "      <td>8.380000e-02</td>\n",
       "      <td>1.380530e+02</td>\n",
       "      <td>4.000000e+00</td>\n",
       "      <td>6.970000e-01</td>\n",
       "    </tr>\n",
       "    <tr>\n",
       "      <th>max</th>\n",
       "      <td>9.960000e-01</td>\n",
       "      <td>9.960000e-01</td>\n",
       "      <td>1.000000e+00</td>\n",
       "      <td>1.000000e+00</td>\n",
       "      <td>1.000000e+00</td>\n",
       "      <td>4.923000e+00</td>\n",
       "      <td>1.000000e+00</td>\n",
       "      <td>9.710000e-01</td>\n",
       "      <td>2.499870e+02</td>\n",
       "      <td>5.000000e+00</td>\n",
       "      <td>1.000000e+00</td>\n",
       "    </tr>\n",
       "  </tbody>\n",
       "</table>\n",
       "</div>"
      ],
      "text/plain": [
       "       acousticness  danceability        energy  instrumentalness  \\\n",
       "count  2.262191e+06  2.262191e+06  2.262191e+06      2.262191e+06   \n",
       "mean   3.547740e-01  5.504296e-01  5.848759e-01      2.208220e-01   \n",
       "std    3.543964e-01  1.845300e-01  2.660167e-01      3.494054e-01   \n",
       "min    0.000000e+00  0.000000e+00  0.000000e+00      0.000000e+00   \n",
       "25%    2.220000e-02  4.270000e-01  3.890000e-01      0.000000e+00   \n",
       "50%    2.150000e-01  5.650000e-01  6.220000e-01      6.030000e-04   \n",
       "75%    6.910000e-01  6.890000e-01  8.090000e-01      4.210000e-01   \n",
       "max    9.960000e-01  9.960000e-01  1.000000e+00      1.000000e+00   \n",
       "\n",
       "           liveness      loudness          mode   speechiness         tempo  \\\n",
       "count  2.262191e+06  2.262191e+06  2.262191e+06  2.262191e+06  2.262191e+06   \n",
       "mean   2.091071e-01 -9.660528e+00  6.549779e-01  8.923351e-02  1.199894e+02   \n",
       "std    1.898148e-01  5.626076e+00  4.753756e-01  1.152086e-01  2.992179e+01   \n",
       "min    0.000000e+00 -6.000000e+01  0.000000e+00  0.000000e+00  0.000000e+00   \n",
       "25%    9.570000e-02 -1.191000e+01  0.000000e+00  3.540000e-02  9.693900e+01   \n",
       "50%    1.280000e-01 -8.176000e+00  1.000000e+00  4.700000e-02  1.200070e+02   \n",
       "75%    2.640000e-01 -5.826000e+00  1.000000e+00  8.380000e-02  1.380530e+02   \n",
       "max    1.000000e+00  4.923000e+00  1.000000e+00  9.710000e-01  2.499870e+02   \n",
       "\n",
       "       time_signature       valence  \n",
       "count    2.262191e+06  2.262191e+06  \n",
       "mean     3.879917e+00  4.757061e-01  \n",
       "std      4.720420e-01  2.699766e-01  \n",
       "min      0.000000e+00  0.000000e+00  \n",
       "25%      4.000000e+00  2.470000e-01  \n",
       "50%      4.000000e+00  4.660000e-01  \n",
       "75%      4.000000e+00  6.970000e-01  \n",
       "max      5.000000e+00  1.000000e+00  "
      ]
     },
     "execution_count": 51,
     "metadata": {},
     "output_type": "execute_result"
    }
   ],
   "source": [
    "from spotify_audio_features_preprocess import pre_processed_df\n",
    "\n",
    "# load data\n",
    "audio_features = pre_processed_df()\n",
    "print(f\"columns: \\n{audio_features.dtypes}\")\n",
    "print()\n",
    "print(audio_features.isna().sum())\n",
    "\n",
    "stat = audio_features.describe()\n",
    "stat"
   ]
  },
  {
   "cell_type": "markdown",
   "metadata": {},
   "source": [
    "### 2) plotting by columns"
   ]
  },
  {
   "cell_type": "code",
   "execution_count": 45,
   "metadata": {},
   "outputs": [
    {
     "name": "stdout",
     "output_type": "stream",
     "text": [
      "columns: acousticness\n"
     ]
    },
    {
     "data": {
      "image/png": "[encoded data removed]",
      "text/plain": [
       "<Figure size 432x288 with 1 Axes>"
      ]
     },
     "metadata": {
      "needs_background": "light"
     },
     "output_type": "display_data"
    },
    {
     "name": "stdout",
     "output_type": "stream",
     "text": [
      "\n",
      "        bins   : [0.  0.1 0.2 0.3 0.4 0.5 0.6 0.7 0.8 0.9 1. ]\n",
      "        counts : [890537, 214072, 153003, 122124, 109713, 107108, 111217, 124646, 153876, 275895]\n",
      "          \n",
      "columns: danceability\n"
     ]
    },
    {
     "data": {
      "image/png": "[encoded data removed]",
      "text/plain": [
       "<Figure size 432x288 with 1 Axes>"
      ]
     },
     "metadata": {
      "needs_background": "light"
     },
     "output_type": "display_data"
    },
    {
     "name": "stdout",
     "output_type": "stream",
     "text": [
      "\n",
      "        bins   : [0.  0.1 0.2 0.3 0.4 0.5 0.6 0.7 0.8 0.9 1. ]\n",
      "        counts : [18090, 76886, 149794, 234752, 358519, 458618, 447122, 339468, 155488, 23454]\n",
      "          \n",
      "columns: energy\n"
     ]
    },
    {
     "data": {
      "image/png": "[encoded data removed]",
      "text/plain": [
       "<Figure size 432x288 with 1 Axes>"
      ]
     },
     "metadata": {
      "needs_background": "light"
     },
     "output_type": "display_data"
    },
    {
     "name": "stdout",
     "output_type": "stream",
     "text": [
      "\n",
      "        bins   : [0.  0.1 0.2 0.3 0.4 0.5 0.6 0.7 0.8 0.9 1. ]\n",
      "        counts : [118218, 132340, 155959, 179762, 226047, 263194, 288838, 301902, 316847, 279084]\n",
      "          \n",
      "columns: instrumentalness\n"
     ]
    },
    {
     "data": {
      "image/png": "[encoded data removed]",
      "text/plain": [
       "<Figure size 432x288 with 1 Axes>"
      ]
     },
     "metadata": {
      "needs_background": "light"
     },
     "output_type": "display_data"
    },
    {
     "name": "stdout",
     "output_type": "stream",
     "text": [
      "\n",
      "        bins   : [0.  0.1 0.2 0.3 0.4 0.5 0.6 0.7 0.8 0.9 1. ]\n",
      "        counts : [1540961, 64172, 45327, 38185, 37449, 40944, 51126, 81613, 197796, 164618]\n",
      "          \n",
      "columns: liveness\n"
     ]
    },
    {
     "data": {
      "image/png": "[encoded data removed]",
      "text/plain": [
       "<Figure size 432x288 with 1 Axes>"
      ]
     },
     "metadata": {
      "needs_background": "light"
     },
     "output_type": "display_data"
    },
    {
     "name": "stdout",
     "output_type": "stream",
     "text": [
      "\n",
      "        bins   : [0.  0.1 0.2 0.3 0.4 0.5 0.6 0.7 0.8 0.9 1. ]\n",
      "        counts : [643705, 882672, 258940, 229404, 61913, 39516, 48563, 33730, 24144, 39604]\n",
      "          \n",
      "columns: loudness\n"
     ]
    },
    {
     "data": {
      "image/png": "[encoded data removed]",
      "text/plain": [
       "<Figure size 432x288 with 1 Axes>"
      ]
     },
     "metadata": {
      "needs_background": "light"
     },
     "output_type": "display_data"
    },
    {
     "name": "stdout",
     "output_type": "stream",
     "text": [
      "\n",
      "        bins   : [-60 -50 -40 -30 -20 -10   0  10]\n",
      "        counts : [281, 1428, 16952, 120776, 666086, 1455721, 947]\n",
      "          \n",
      "columns: mode\n"
     ]
    },
    {
     "data": {
      "image/png": "[encoded data removed]",
      "text/plain": [
       "<Figure size 432x288 with 1 Axes>"
      ]
     },
     "metadata": {
      "needs_background": "light"
     },
     "output_type": "display_data"
    },
    {
     "name": "stdout",
     "output_type": "stream",
     "text": [
      "\n",
      "        bins   : [0 1 2]\n",
      "        counts : [780506, 1481685]\n",
      "          \n",
      "columns: speechiness\n"
     ]
    },
    {
     "data": {
      "image/png": "[encoded data removed]",
      "text/plain": [
       "<Figure size 432x288 with 1 Axes>"
      ]
     },
     "metadata": {
      "needs_background": "light"
     },
     "output_type": "display_data"
    },
    {
     "name": "stdout",
     "output_type": "stream",
     "text": [
      "\n",
      "        bins   : [0.  0.1 0.2 0.3 0.4 0.5 0.6 0.7 0.8 0.9 1. ]\n",
      "        counts : [1789530, 236626, 111162, 67750, 27350, 8175, 3025, 2351, 4338, 11884]\n",
      "          \n",
      "columns: tempo\n"
     ]
    },
    {
     "data": {
      "image/png": "[encoded data removed]",
      "text/plain": [
       "<Figure size 432x288 with 1 Axes>"
      ]
     },
     "metadata": {
      "needs_background": "light"
     },
     "output_type": "display_data"
    },
    {
     "name": "stdout",
     "output_type": "stream",
     "text": [
      "\n",
      "        bins   : [  0  25  50  75 100 125 150 175 200 225]\n",
      "        counts : [3152, 2150, 87349, 554934, 647775, 622737, 235432, 94565, 13969]\n",
      "          \n",
      "columns: time_signature\n"
     ]
    },
    {
     "data": {
      "image/png": "[encoded data removed]",
      "text/plain": [
       "<Figure size 432x288 with 1 Axes>"
      ]
     },
     "metadata": {
      "needs_background": "light"
     },
     "output_type": "display_data"
    },
    {
     "name": "stdout",
     "output_type": "stream",
     "text": [
      "\n",
      "        bins   : [0 1 2 3 4 5 6]\n",
      "        counts : [3206, 23827, 0, 229148, 1964207, 41803]\n",
      "          \n",
      "columns: valence\n"
     ]
    },
    {
     "data": {
      "image/png": "[encoded data removed]",
      "text/plain": [
       "<Figure size 432x288 with 1 Axes>"
      ]
     },
     "metadata": {
      "needs_background": "light"
     },
     "output_type": "display_data"
    },
    {
     "name": "stdout",
     "output_type": "stream",
     "text": [
      "\n",
      "        bins   : [0.  0.1 0.2 0.3 0.4 0.5 0.6 0.7 0.8 0.9 1. ]\n",
      "        counts : [202438, 243270, 251219, 272108, 247398, 253887, 234782, 211567, 190046, 155476]\n",
      "          \n"
     ]
    }
   ],
   "source": [
    "col_list = [\n",
    "    \"acousticness\", \n",
    "    \"danceability\", \n",
    "    \"energy\", \n",
    "    \"instrumentalness\", \n",
    "    \"liveness\", \n",
    "    \"loudness\", \n",
    "    \"mode\", \n",
    "    \"speechiness\",\n",
    "    \"tempo\", \n",
    "    \"time_signature\", \n",
    "    \"valence\"\n",
    "    ]\n",
    "\n",
    "for col in col_list:\n",
    "    print(f\"columns: {col}\")\n",
    "    \n",
    "    if col in [\"acousticness\", \"danceability\", \"energy\", \"instrumentalness\", \"liveness\", \"speechiness\", \"valence\"]:\n",
    "        bins = list(np.arange(0, 1.1, 0.1))\n",
    "    elif col == \"loudness\":\n",
    "        bins = range(-60, 20, 10)\n",
    "    elif col == \"mode\":\n",
    "        bins = range(0, 3, 1)\n",
    "    elif col == \"tempo\":\n",
    "        bins = range(0, 250, 25)\n",
    "    elif col == \"time_signature\": \n",
    "        bins = range(0, 7, 1)\n",
    "        \n",
    "    counts, bins, patches = plot_histogram(audio_features[col].tolist(), bins=bins)\n",
    "    print(f\"\"\"\n",
    "        bins   : {bins}\n",
    "        counts : {list(map(int, counts))}\n",
    "          \"\"\")\n"
   ]
  },
  {
   "cell_type": "markdown",
   "metadata": {},
   "source": [
    "---\n",
    "# __tracks with albums__"
   ]
  },
  {
   "cell_type": "markdown",
   "metadata": {},
   "source": [
    "### 1) load ablums data\n",
    "### 2) remove null rows from albums data"
   ]
  },
  {
   "cell_type": "code",
   "execution_count": 54,
   "metadata": {},
   "outputs": [
    {
     "name": "stdout",
     "output_type": "stream",
     "text": [
      "album_type       274\n",
      "artists_id       274\n",
      "copyrights       274\n",
      "genres           274\n",
      "id               274\n",
      "label           1455\n",
      "name             274\n",
      "popularity       274\n",
      "release_date     274\n",
      "total_tracks     274\n",
      "track_ids        274\n",
      "dtype: int64\n",
      "columns: \n",
      "Index(['album_type', 'artists_id', 'copyrights', 'genres', 'id', 'label',\n",
      "       'name', 'popularity', 'release_date', 'total_tracks', 'track_ids'],\n",
      "      dtype='object')\n",
      "shape: (845511, 11)\n"
     ]
    }
   ],
   "source": [
    "album_file_path = \"./album_table.csv\"\n",
    "albums = pd.read_csv(album_file_path)\n",
    "albums[\"id\"] = albums.id.str.strip()\n",
    "albums[\"release_date\"] = albums.release_date.str.strip()\n",
    "print(albums.isna().sum())\n",
    "\n",
    "albums = albums.loc[albums.id.notna()]\n",
    "\n",
    "print(f\"columns: \\n{albums.columns}\")\n",
    "print(f\"shape: {albums.shape}\")\n"
   ]
  },
  {
   "cell_type": "markdown",
   "metadata": {},
   "source": [
    "### 3) drop duplicates from albums data"
   ]
  },
  {
   "cell_type": "code",
   "execution_count": 55,
   "metadata": {},
   "outputs": [
    {
     "name": "stdout",
     "output_type": "stream",
     "text": [
      "unique id: 577186\n",
      "duplicated rows: 229942\n",
      "577186 + 229942 = 807128\n"
     ]
    }
   ],
   "source": [
    "print(f\"unique id: {len(albums.id.unique())}\")\n",
    "print(f\"duplicated rows: {albums.duplicated().sum()}\")\n",
    "print(f\"{len(albums.id.unique())} + {albums.duplicated().sum()} = {len(albums.id.unique())+albums.duplicated().sum()}\")\n",
    "\n",
    "albums = albums.drop_duplicates(subset=\"id\")"
   ]
  },
  {
   "cell_type": "markdown",
   "metadata": {},
   "source": [
    "### 4) combine with tracks data\n",
    "### 5) plot histogram by release year"
   ]
  },
  {
   "cell_type": "code",
   "execution_count": 57,
   "metadata": {},
   "outputs": [
    {
     "data": {
      "text/html": [
       "<div>\n",
       "<style scoped>\n",
       "    .dataframe tbody tr th:only-of-type {\n",
       "        vertical-align: middle;\n",
       "    }\n",
       "\n",
       "    .dataframe tbody tr th {\n",
       "        vertical-align: top;\n",
       "    }\n",
       "\n",
       "    .dataframe thead th {\n",
       "        text-align: right;\n",
       "    }\n",
       "</style>\n",
       "<table border=\"1\" class=\"dataframe\">\n",
       "  <thead>\n",
       "    <tr style=\"text-align: right;\">\n",
       "      <th></th>\n",
       "      <th>track_id</th>\n",
       "      <th>album_id</th>\n",
       "      <th>artists_id</th>\n",
       "      <th>disc_number</th>\n",
       "      <th>duration_ms</th>\n",
       "      <th>explicit</th>\n",
       "      <th>name</th>\n",
       "      <th>popularity</th>\n",
       "      <th>track_number</th>\n",
       "      <th>duration_m</th>\n",
       "      <th>release_date</th>\n",
       "      <th>release_year</th>\n",
       "      <th>release_year_bin</th>\n",
       "    </tr>\n",
       "  </thead>\n",
       "  <tbody>\n",
       "    <tr>\n",
       "      <th>0</th>\n",
       "      <td>5iYe4mt1bf1KVzVM8EY6y8</td>\n",
       "      <td>3ruxxNJfKwSeghjqG6JL3y</td>\n",
       "      <td>0r0R5nIjDY04TfxRM10Bcb</td>\n",
       "      <td>1</td>\n",
       "      <td>228213</td>\n",
       "      <td>True</td>\n",
       "      <td>Du bist schön</td>\n",
       "      <td>61</td>\n",
       "      <td>19</td>\n",
       "      <td>3.803550</td>\n",
       "      <td>2016-12-16</td>\n",
       "      <td>2016</td>\n",
       "      <td>2010</td>\n",
       "    </tr>\n",
       "    <tr>\n",
       "      <th>1</th>\n",
       "      <td>5VLQ3X8Bb1lywLlEILvIOB</td>\n",
       "      <td>4F0xMut2laQg8WRFEiDCc2</td>\n",
       "      <td>100OXLitsMR5uquMteikLK</td>\n",
       "      <td>1</td>\n",
       "      <td>239853</td>\n",
       "      <td>False</td>\n",
       "      <td>From The Inside Out (Medium Without Background...</td>\n",
       "      <td>0</td>\n",
       "      <td>6</td>\n",
       "      <td>3.997550</td>\n",
       "      <td>2010-06-22</td>\n",
       "      <td>2010</td>\n",
       "      <td>2010</td>\n",
       "    </tr>\n",
       "    <tr>\n",
       "      <th>2</th>\n",
       "      <td>2RJwsknbZITuZyth2o9L7n</td>\n",
       "      <td>76Zg0RE2Fin7AqBSTFFrDF</td>\n",
       "      <td>6hhA8TKRNryM8FNzqCqdDO</td>\n",
       "      <td>1</td>\n",
       "      <td>216240</td>\n",
       "      <td>False</td>\n",
       "      <td>Your Name</td>\n",
       "      <td>17</td>\n",
       "      <td>7</td>\n",
       "      <td>3.604000</td>\n",
       "      <td>2001-01-01</td>\n",
       "      <td>2001</td>\n",
       "      <td>2000</td>\n",
       "    </tr>\n",
       "    <tr>\n",
       "      <th>3</th>\n",
       "      <td>4VS79t3vFH7mH7NcWuFjAC</td>\n",
       "      <td>7LCfpsK9t0JnVeL3mtQ3dC</td>\n",
       "      <td>1Y8cdNmUJH7yBTd9yOvr5i</td>\n",
       "      <td>1</td>\n",
       "      <td>243706</td>\n",
       "      <td>False</td>\n",
       "      <td>Sail On</td>\n",
       "      <td>19</td>\n",
       "      <td>12</td>\n",
       "      <td>4.061767</td>\n",
       "      <td>1998</td>\n",
       "      <td>1998</td>\n",
       "      <td>1990</td>\n",
       "    </tr>\n",
       "    <tr>\n",
       "      <th>4</th>\n",
       "      <td>1eHFoh1qFNKTvIEHvf8BPh</td>\n",
       "      <td>4Ii6sQw0JWI3gsi2zETz4l</td>\n",
       "      <td>0W1A76DHc7LAIoq8DSSXXy</td>\n",
       "      <td>1</td>\n",
       "      <td>240238</td>\n",
       "      <td>False</td>\n",
       "      <td>Jony and Jaq</td>\n",
       "      <td>1</td>\n",
       "      <td>7</td>\n",
       "      <td>4.003967</td>\n",
       "      <td>2011-06-09</td>\n",
       "      <td>2011</td>\n",
       "      <td>2010</td>\n",
       "    </tr>\n",
       "  </tbody>\n",
       "</table>\n",
       "</div>"
      ],
      "text/plain": [
       "                 track_id                album_id              artists_id  \\\n",
       "0  5iYe4mt1bf1KVzVM8EY6y8  3ruxxNJfKwSeghjqG6JL3y  0r0R5nIjDY04TfxRM10Bcb   \n",
       "1  5VLQ3X8Bb1lywLlEILvIOB  4F0xMut2laQg8WRFEiDCc2  100OXLitsMR5uquMteikLK   \n",
       "2  2RJwsknbZITuZyth2o9L7n  76Zg0RE2Fin7AqBSTFFrDF  6hhA8TKRNryM8FNzqCqdDO   \n",
       "3  4VS79t3vFH7mH7NcWuFjAC  7LCfpsK9t0JnVeL3mtQ3dC  1Y8cdNmUJH7yBTd9yOvr5i   \n",
       "4  1eHFoh1qFNKTvIEHvf8BPh  4Ii6sQw0JWI3gsi2zETz4l  0W1A76DHc7LAIoq8DSSXXy   \n",
       "\n",
       "   disc_number  duration_ms  explicit  \\\n",
       "0            1       228213      True   \n",
       "1            1       239853     False   \n",
       "2            1       216240     False   \n",
       "3            1       243706     False   \n",
       "4            1       240238     False   \n",
       "\n",
       "                                                name  popularity  \\\n",
       "0                                      Du bist schön          61   \n",
       "1  From The Inside Out (Medium Without Background...           0   \n",
       "2                                          Your Name          17   \n",
       "3                                            Sail On          19   \n",
       "4                                       Jony and Jaq           1   \n",
       "\n",
       "   track_number  duration_m release_date  release_year  release_year_bin  \n",
       "0            19    3.803550   2016-12-16          2016              2010  \n",
       "1             6    3.997550   2010-06-22          2010              2010  \n",
       "2             7    3.604000   2001-01-01          2001              2000  \n",
       "3            12    4.061767         1998          1998              1990  \n",
       "4             7    4.003967   2011-06-09          2011              2010  "
      ]
     },
     "metadata": {},
     "output_type": "display_data"
    },
    {
     "name": "stdout",
     "output_type": "stream",
     "text": [
      "[2010 2000 1990 1960 1980 1970 1950 2020 1920 1940 1930 1900 1880 1910\n",
      " 1190]\n"
     ]
    },
    {
     "data": {
      "image/png": "[encoded data removed]",
      "text/plain": [
       "<Figure size 432x288 with 1 Axes>"
      ]
     },
     "metadata": {
      "needs_background": "light"
     },
     "output_type": "display_data"
    },
    {
     "data": {
      "text/plain": [
       "(array([  26587.,   42752.,   60232.,  174977.,  509009., 1182196.]),\n",
       " array([1960, 1970, 1980, 1990, 2000, 2010, 2020]),\n",
       " <BarContainer object of 6 artists>)"
      ]
     },
     "execution_count": 57,
     "metadata": {},
     "output_type": "execute_result"
    }
   ],
   "source": [
    "joined_df = tracks.join(albums.loc[:, [\"id\", \"release_date\"]].set_index(\"id\"), on=\"album_id\", lsuffix=\"_caller\", rsuffix=\"_other\")\n",
    "joined_df = joined_df.loc[joined_df.release_date.notna()]\n",
    "joined_df = joined_df.loc[joined_df.release_date.apply(lambda x: False if x.startswith(\"0\") else True)]\n",
    "\n",
    "f = lambda x: int(x[:4]) if len(x) >= 5 else int(x)\n",
    "joined_df[\"release_year\"] = joined_df.release_date.apply(f)\n",
    "\n",
    "f = lambda x: (x // 10) * 10\n",
    "joined_df[\"release_year_bin\"] = joined_df.release_year.apply(f)\n",
    "\n",
    "display(joined_df.head())\n",
    "print(joined_df.release_year_bin.unique())\n",
    "\n",
    "plot_histogram(joined_df.release_year_bin.tolist(), bins=range(1960, 2030, 10))"
   ]
  }
 ],
 "metadata": {
  "kernelspec": {
   "display_name": "Python 3.9.7 ('jonginn_env1')",
   "language": "python",
   "name": "python3"
  },
  "language_info": {
   "codemirror_mode": {
    "name": "ipython",
    "version": 3
   },
   "file_extension": ".py",
   "mimetype": "text/x-python",
   "name": "python",
   "nbconvert_exporter": "python",
   "pygments_lexer": "ipython3",
   "version": "3.9.7"
  },
  "orig_nbformat": 4,
  "vscode": {
   "interpreter": {
    "hash": "bee9b2b551d711e13da88934ff05fe93d95401990bbf66bc6537b8f4ce428457"
   }
  }
 },
 "nbformat": 4,
 "nbformat_minor": 2
}

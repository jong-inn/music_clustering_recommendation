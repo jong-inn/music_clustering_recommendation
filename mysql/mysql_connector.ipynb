{
 "cells": [
  {
   "attachments": {},
   "cell_type": "markdown",
   "metadata": {},
   "source": [
    "## __packages__"
   ]
  },
  {
   "cell_type": "code",
   "execution_count": 1,
   "metadata": {},
   "outputs": [],
   "source": [
    "import pandas as pd\n",
    "import mysql.connector as msql\n",
    "from mysql.connector import Error\n",
    "from mysql_config import config_read"
   ]
  },
  {
   "attachments": {},
   "cell_type": "markdown",
   "metadata": {},
   "source": [
    "## __SQL queries__"
   ]
  },
  {
   "cell_type": "code",
   "execution_count": 12,
   "metadata": {},
   "outputs": [],
   "source": [
    "sql = \"\"\"\n",
    "SELECT T1.track_id,\n",
    "       T1.album_id,\n",
    "       T2.artist_id,\n",
    "       T1.name AS track_name,\n",
    "       T1.duration_ms,\n",
    "       T1.popularity AS track_popularity,\n",
    "       T3.popularity AS album_popularity,\n",
    "       T3.release_date,\n",
    "       T4.name AS artist_name,\n",
    "       T4.genres,\n",
    "       T4.popularity AS artist_popularity\n",
    "       \n",
    "FROM track T1\n",
    "LEFT OUTER JOIN artist_track T2\n",
    "           USING (track_id)\n",
    "LEFT OUTER JOIN album T3\n",
    "           USING (album_id)\n",
    "LEFT OUTER JOIN artist T4\n",
    "           USING (artist_id)\n",
    "\n",
    "\"\"\""
   ]
  },
  {
   "attachments": {},
   "cell_type": "markdown",
   "metadata": {},
   "source": [
    "## __excute queries__"
   ]
  },
  {
   "cell_type": "code",
   "execution_count": 13,
   "metadata": {},
   "outputs": [],
   "source": [
    "try:\n",
    "    conn = msql.connect(\n",
    "        host=\"localhost\", \n",
    "        user=\"root\", \n",
    "        password=config_read(\"authentication\", \"password\"), \n",
    "        database=\"spotify\", \n",
    "        auth_plugin=\"mysql_native_password\"\n",
    "    )\n",
    "    \n",
    "    if conn.is_connected():\n",
    "        cursor = conn.cursor()\n",
    "        cursor.execute(\"USE spotify;\")\n",
    "                \n",
    "        cursor.execute(sql)\n",
    "        result = cursor.fetchall()\n",
    "        \n",
    "        conn.commit()\n",
    "\n",
    "except Error as e:\n",
    "    print(\"Error while connecting to MySQL\", e)\n",
    "\n",
    "finally:\n",
    "    conn.close()"
   ]
  },
  {
   "attachments": {},
   "cell_type": "markdown",
   "metadata": {},
   "source": [
    "## __transform the result into dataframe__"
   ]
  },
  {
   "cell_type": "code",
   "execution_count": 15,
   "metadata": {},
   "outputs": [
    {
     "data": {
      "text/html": [
       "<div>\n",
       "<style scoped>\n",
       "    .dataframe tbody tr th:only-of-type {\n",
       "        vertical-align: middle;\n",
       "    }\n",
       "\n",
       "    .dataframe tbody tr th {\n",
       "        vertical-align: top;\n",
       "    }\n",
       "\n",
       "    .dataframe thead th {\n",
       "        text-align: right;\n",
       "    }\n",
       "</style>\n",
       "<table border=\"1\" class=\"dataframe\">\n",
       "  <thead>\n",
       "    <tr style=\"text-align: right;\">\n",
       "      <th></th>\n",
       "      <th>track_id</th>\n",
       "      <th>album_id</th>\n",
       "      <th>artist_id</th>\n",
       "      <th>track_name</th>\n",
       "      <th>duration_ms</th>\n",
       "      <th>track_popularity</th>\n",
       "      <th>album_popularity</th>\n",
       "      <th>release_date</th>\n",
       "      <th>artist_name</th>\n",
       "      <th>genres</th>\n",
       "      <th>artist_popularity</th>\n",
       "    </tr>\n",
       "  </thead>\n",
       "  <tbody>\n",
       "    <tr>\n",
       "      <th>0</th>\n",
       "      <td>000VZqvXwT0YNqKk7iG2GS</td>\n",
       "      <td>75kQjmcR1YnIrBwVW1s4G1</td>\n",
       "      <td>6kQB2RN7WwryMdJ1MoQh1E</td>\n",
       "      <td>Mercy</td>\n",
       "      <td>256478</td>\n",
       "      <td>0</td>\n",
       "      <td>44</td>\n",
       "      <td>2014-11-17</td>\n",
       "      <td>The Ghost Inside</td>\n",
       "      <td>['deathcore', 'melodic hardcore', 'melodic met...</td>\n",
       "      <td>51</td>\n",
       "    </tr>\n",
       "    <tr>\n",
       "      <th>1</th>\n",
       "      <td>000xQL6tZNLJzIrtIgxqSl</td>\n",
       "      <td>2kGUeTGnkLOYlinKRJe47G</td>\n",
       "      <td>2HPaUgqeutzr3jx5a9WyDV</td>\n",
       "      <td>Still Got Time (feat. PARTYNEXTDOOR)</td>\n",
       "      <td>188490</td>\n",
       "      <td>0</td>\n",
       "      <td>57</td>\n",
       "      <td>2017-03-23</td>\n",
       "      <td>PARTYNEXTDOOR</td>\n",
       "      <td>['pop', 'r&amp;b', 'rap', 'toronto rap', 'trap', '...</td>\n",
       "      <td>75</td>\n",
       "    </tr>\n",
       "    <tr>\n",
       "      <th>2</th>\n",
       "      <td>000xQL6tZNLJzIrtIgxqSl</td>\n",
       "      <td>2kGUeTGnkLOYlinKRJe47G</td>\n",
       "      <td>5ZsFI1h6hIdQRw2ti0hz81</td>\n",
       "      <td>Still Got Time (feat. PARTYNEXTDOOR)</td>\n",
       "      <td>188490</td>\n",
       "      <td>0</td>\n",
       "      <td>57</td>\n",
       "      <td>2017-03-23</td>\n",
       "      <td>ZAYN</td>\n",
       "      <td>['dance pop', 'pop', 'post-teen pop', 'uk pop']</td>\n",
       "      <td>75</td>\n",
       "    </tr>\n",
       "    <tr>\n",
       "      <th>3</th>\n",
       "      <td>000xYdQfIZ4pDmBGzQalKU</td>\n",
       "      <td>4QianJs5Ls4mxwcT7gDBww</td>\n",
       "      <td>3qvcCP2J0fWi0m0uQDUf6r</td>\n",
       "      <td>Eu, Voce, O Mar e Ela</td>\n",
       "      <td>187118</td>\n",
       "      <td>0</td>\n",
       "      <td>57</td>\n",
       "      <td>2016-11-04</td>\n",
       "      <td>Luan Santana</td>\n",
       "      <td>['arrocha', 'sertanejo', 'sertanejo pop', 'ser...</td>\n",
       "      <td>73</td>\n",
       "    </tr>\n",
       "    <tr>\n",
       "      <th>4</th>\n",
       "      <td>0010mZpCCwlPwoBiBsjoac</td>\n",
       "      <td>5oKWoolIuoWMG6AORvA9hL</td>\n",
       "      <td>3pTE9iaJTkWns3mxpNQlJV</td>\n",
       "      <td>It's Alright Now</td>\n",
       "      <td>249946</td>\n",
       "      <td>0</td>\n",
       "      <td>38</td>\n",
       "      <td>2014-02-03</td>\n",
       "      <td>Bombay Bicycle Club</td>\n",
       "      <td>['alternative dance', 'british indie rock', 'i...</td>\n",
       "      <td>57</td>\n",
       "    </tr>\n",
       "  </tbody>\n",
       "</table>\n",
       "</div>"
      ],
      "text/plain": [
       "                 track_id                album_id               artist_id  \\\n",
       "0  000VZqvXwT0YNqKk7iG2GS  75kQjmcR1YnIrBwVW1s4G1  6kQB2RN7WwryMdJ1MoQh1E   \n",
       "1  000xQL6tZNLJzIrtIgxqSl  2kGUeTGnkLOYlinKRJe47G  2HPaUgqeutzr3jx5a9WyDV   \n",
       "2  000xQL6tZNLJzIrtIgxqSl  2kGUeTGnkLOYlinKRJe47G  5ZsFI1h6hIdQRw2ti0hz81   \n",
       "3  000xYdQfIZ4pDmBGzQalKU  4QianJs5Ls4mxwcT7gDBww  3qvcCP2J0fWi0m0uQDUf6r   \n",
       "4  0010mZpCCwlPwoBiBsjoac  5oKWoolIuoWMG6AORvA9hL  3pTE9iaJTkWns3mxpNQlJV   \n",
       "\n",
       "                             track_name  duration_ms  track_popularity  \\\n",
       "0                                 Mercy       256478                 0   \n",
       "1  Still Got Time (feat. PARTYNEXTDOOR)       188490                 0   \n",
       "2  Still Got Time (feat. PARTYNEXTDOOR)       188490                 0   \n",
       "3                 Eu, Voce, O Mar e Ela       187118                 0   \n",
       "4                      It's Alright Now       249946                 0   \n",
       "\n",
       "   album_popularity release_date          artist_name  \\\n",
       "0                44   2014-11-17     The Ghost Inside   \n",
       "1                57   2017-03-23        PARTYNEXTDOOR   \n",
       "2                57   2017-03-23                 ZAYN   \n",
       "3                57   2016-11-04         Luan Santana   \n",
       "4                38   2014-02-03  Bombay Bicycle Club   \n",
       "\n",
       "                                              genres  artist_popularity  \n",
       "0  ['deathcore', 'melodic hardcore', 'melodic met...                 51  \n",
       "1  ['pop', 'r&b', 'rap', 'toronto rap', 'trap', '...                 75  \n",
       "2    ['dance pop', 'pop', 'post-teen pop', 'uk pop']                 75  \n",
       "3  ['arrocha', 'sertanejo', 'sertanejo pop', 'ser...                 73  \n",
       "4  ['alternative dance', 'british indie rock', 'i...                 57  "
      ]
     },
     "metadata": {},
     "output_type": "display_data"
    }
   ],
   "source": [
    "tmp = pd.DataFrame(data=result, columns=cursor.column_names)\n",
    "display(tmp.head())"
   ]
  }
 ],
 "metadata": {
  "kernelspec": {
   "display_name": "mysql_connector",
   "language": "python",
   "name": "python3"
  },
  "language_info": {
   "codemirror_mode": {
    "name": "ipython",
    "version": 3
   },
   "file_extension": ".py",
   "mimetype": "text/x-python",
   "name": "python",
   "nbconvert_exporter": "python",
   "pygments_lexer": "ipython3",
   "version": "3.8.15"
  },
  "orig_nbformat": 4,
  "vscode": {
   "interpreter": {
    "hash": "ac3b659615d04cc128479b6353dc512d55cb12dd08d649a0043e38b3ed3f7226"
   }
  }
 },
 "nbformat": 4,
 "nbformat_minor": 2
}

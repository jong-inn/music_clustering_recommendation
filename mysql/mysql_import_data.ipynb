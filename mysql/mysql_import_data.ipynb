{
 "cells": [
  {
   "attachments": {},
   "cell_type": "markdown",
   "metadata": {},
   "source": [
    "## __packages__"
   ]
  },
  {
   "cell_type": "code",
   "execution_count": 1,
   "metadata": {},
   "outputs": [],
   "source": [
    "import pandas as pd\n",
    "import mysql.connector as msql\n",
    "from mysql.connector import Error\n",
    "from mysql_config import config_read"
   ]
  },
  {
   "attachments": {},
   "cell_type": "markdown",
   "metadata": {},
   "source": [
    "## __class__"
   ]
  },
  {
   "cell_type": "code",
   "execution_count": 2,
   "metadata": {},
   "outputs": [],
   "source": [
    "\n",
    "class Table:\n",
    "    \n",
    "    def __init__(self, name, table):\n",
    "        self.name = name\n",
    "        self.table = table\n",
    "        self.insert_query = self.make_insert_query()\n",
    "        \n",
    "    def make_insert_query(self):\n",
    "        values_tuple = \",\".join([\"%s\" for i in range(self.table.shape[1])])\n",
    "        insert_query = \"INSERT INTO spotify.%s VALUES (%s)\" % (self.name, values_tuple)\n",
    "        \n",
    "        return insert_query\n",
    "                "
   ]
  },
  {
   "attachments": {},
   "cell_type": "markdown",
   "metadata": {},
   "source": [
    "## __load tables__"
   ]
  },
  {
   "cell_type": "code",
   "execution_count": 3,
   "metadata": {},
   "outputs": [],
   "source": [
    "table_path = \"./sample_%s.csv\"\n",
    "table_list = [\"artist\", \"album\", \"track\", \"audio_features\", \"artist_album\", \"artist_track\"]\n",
    "\n",
    "for table in table_list:\n",
    "    \n",
    "    tmp = pd.read_csv(table_path % table)\n",
    "    \n",
    "    globals()[table] = Table(table, tmp.copy())\n"
   ]
  },
  {
   "attachments": {},
   "cell_type": "markdown",
   "metadata": {},
   "source": [
    "## __connect with the server and import data__"
   ]
  },
  {
   "cell_type": "code",
   "execution_count": 4,
   "metadata": {},
   "outputs": [],
   "source": [
    "try:\n",
    "    conn = msql.connect(\n",
    "        host=\"localhost\", \n",
    "        user=\"root\", \n",
    "        password=config_read(\"authentication\", \"password\"), \n",
    "        database=\"spotify\", \n",
    "        auth_plugin=\"mysql_native_password\"\n",
    "    )\n",
    "    \n",
    "    if conn.is_connected():\n",
    "        cursor = conn.cursor()\n",
    "        cursor.execute(\"USE spotify;\")\n",
    "        \n",
    "        for table in table_list:\n",
    "            \n",
    "            tmp_object = globals()[table]\n",
    "            \n",
    "            for i, row in tmp_object.table.iterrows():\n",
    "                \n",
    "                sql = tmp_object.insert_query\n",
    "                \n",
    "                cursor.execute(sql, tuple(row))\n",
    "                \n",
    "                conn.commit()\n",
    "            \n",
    "\n",
    "\n",
    "except Error as e:\n",
    "    print(\"Error while connecting to MySQL\", e)\n",
    "\n",
    "finally:\n",
    "    conn.close()"
   ]
  }
 ],
 "metadata": {
  "kernelspec": {
   "display_name": "mysql_connector",
   "language": "python",
   "name": "python3"
  },
  "language_info": {
   "codemirror_mode": {
    "name": "ipython",
    "version": 3
   },
   "file_extension": ".py",
   "mimetype": "text/x-python",
   "name": "python",
   "nbconvert_exporter": "python",
   "pygments_lexer": "ipython3",
   "version": "3.8.15"
  },
  "orig_nbformat": 4,
  "vscode": {
   "interpreter": {
    "hash": "ac3b659615d04cc128479b6353dc512d55cb12dd08d649a0043e38b3ed3f7226"
   }
  }
 },
 "nbformat": 4,
 "nbformat_minor": 2
}
